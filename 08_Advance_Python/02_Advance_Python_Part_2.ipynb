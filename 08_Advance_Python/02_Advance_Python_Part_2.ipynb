{
  "nbformat": 4,
  "nbformat_minor": 0,
  "metadata": {
    "colab": {
      "provenance": [],
      "toc_visible": true
    },
    "kernelspec": {
      "name": "python3",
      "display_name": "Python 3"
    },
    "language_info": {
      "name": "python"
    }
  },
  "cells": [
    {
      "cell_type": "markdown",
      "source": [
        "# <center><strong>🐍The⚡️Advance⚡️Python🐍 Part - 2</strong></center>"
      ],
      "metadata": {
        "id": "_AZVB-nPyxnH"
      }
    },
    {
      "cell_type": "markdown",
      "source": [
        "### $\\color{red}{\\textbf{Virtual Environment}}$"
      ],
      "metadata": {
        "id": "NZh7cTLky36z"
      }
    },
    {
      "cell_type": "markdown",
      "source": [
        "A virtual environment in Python allows you to create an isolated environment for your projects. It means that your projects can have their own dependencies – independent of every other project's dependencies.\n",
        "\n",
        "With a Python virtual environment for each project, you are free to install different versions of the same Python package for each project. This is because every Python environment is independent of all the others.\n",
        "\n",
        "- **Upgrade pip**\n",
        "```\n",
        "pip install --upgrade pip\n",
        "pip --version\n",
        "```\n",
        "\n",
        "- **Installation**\n",
        "```\n",
        "pip install virtualenv                \n",
        "```\n",
        "- **Check if you have `virtualenv`**\n",
        "```\n",
        "which python                         \n",
        "```\n",
        "- **Create a virtual environment**\n",
        "```\n",
        "virtualenv <my_env_name> \n",
        "```\n",
        "- **With a specific version of Python**\n",
        "```\n",
        "virtualenv -p /usr/bin/python2.7 <my_env_name>\n",
        "```\n",
        "- **Activate the virtual environment**\n",
        "```\n",
        "# linux/MAC\n",
        "source <my_env_name>/bin/activate \n",
        "# Windows\n",
        ".\\myprojectenv\\Scripts\\activate.ps1  \n",
        "```\n",
        "\n",
        "- **Deactivate the virtual environment:** \n",
        "```\n",
        "deactivate\n",
        "```\n",
        "- **Remove an environment**\n",
        "```\n",
        "sudo rm -rf <my_env_name>\n",
        "```\n",
        "\n",
        "- The easiest way to delete a virtual environment in Python is to delete the folder manually. By leaving your Python scripts outside your virtualenv folder, you avoid the risk of deleting your whole project the next time you want to clear your Python virtual environment.\n",
        "\n",
        "- **Installing the requirements** \n",
        "```\n",
        "pip install -r requirements.txt\n",
        "```\n",
        "\n",
        "> [virtualenv wont activate on windows](https://stackoverflow.com/questions/18713086/virtualenv-wont-activate-on-windows)\n"
      ],
      "metadata": {
        "id": "oHAYNj3BGHk0"
      }
    },
    {
      "cell_type": "markdown",
      "source": [
        ">$\\color{red}{\\textbf{Important:}}$ Don’t store your Python `scripts` and your `requirements.txt` file inside your Python virtual environment."
      ],
      "metadata": {
        "id": "zlw8MIu8k0HN"
      }
    },
    {
      "cell_type": "code",
      "source": [
        "!pip install virtualenv"
      ],
      "metadata": {
        "colab": {
          "base_uri": "https://localhost:8080/"
        },
        "id": "fO_HwUoUW8Se",
        "outputId": "8a611fcc-a6cb-4a4f-8d1c-d74d213ccb0d"
      },
      "execution_count": null,
      "outputs": [
        {
          "output_type": "stream",
          "name": "stdout",
          "text": [
            "Looking in indexes: https://pypi.org/simple, https://us-python.pkg.dev/colab-wheels/public/simple/\n",
            "Requirement already satisfied: virtualenv in /usr/local/lib/python3.7/dist-packages (20.16.7)\n",
            "Requirement already satisfied: distlib<1,>=0.3.6 in /usr/local/lib/python3.7/dist-packages (from virtualenv) (0.3.6)\n",
            "Requirement already satisfied: filelock<4,>=3.4.1 in /usr/local/lib/python3.7/dist-packages (from virtualenv) (3.8.0)\n",
            "Requirement already satisfied: platformdirs<3,>=2.4 in /usr/local/lib/python3.7/dist-packages (from virtualenv) (2.5.4)\n",
            "Requirement already satisfied: importlib-metadata>=4.8.3 in /usr/local/lib/python3.7/dist-packages (from virtualenv) (4.13.0)\n",
            "Requirement already satisfied: zipp>=0.5 in /usr/local/lib/python3.7/dist-packages (from importlib-metadata>=4.8.3->virtualenv) (3.10.0)\n",
            "Requirement already satisfied: typing-extensions>=3.6.4 in /usr/local/lib/python3.7/dist-packages (from importlib-metadata>=4.8.3->virtualenv) (4.1.1)\n"
          ]
        }
      ]
    },
    {
      "cell_type": "code",
      "source": [
        "!which virtualenv"
      ],
      "metadata": {
        "id": "RhL0IhSYW5KB",
        "colab": {
          "base_uri": "https://localhost:8080/"
        },
        "outputId": "b4454f99-436c-4927-9bd6-5919a8ae7bb8"
      },
      "execution_count": null,
      "outputs": [
        {
          "output_type": "stream",
          "name": "stdout",
          "text": [
            "/usr/local/bin/virtualenv\n"
          ]
        }
      ]
    },
    {
      "cell_type": "code",
      "source": [
        "!virtualenv myprojectenv"
      ],
      "metadata": {
        "id": "XIJHF9NrWhlO",
        "colab": {
          "base_uri": "https://localhost:8080/"
        },
        "outputId": "0cb686c5-0ed2-464d-d28f-a83669b87e2c"
      },
      "execution_count": null,
      "outputs": [
        {
          "output_type": "stream",
          "name": "stdout",
          "text": [
            "created virtual environment CPython3.7.15.final.0-64 in 303ms\n",
            "  creator CPython3Posix(dest=/content/myprojectenv, clear=False, no_vcs_ignore=False, global=False)\n",
            "  seeder FromAppData(download=False, pip=bundle, setuptools=bundle, wheel=bundle, via=copy, app_data_dir=/root/.local/share/virtualenv)\n",
            "    added seed packages: pip==22.3.1, setuptools==65.5.1, wheel==0.38.4\n",
            "  activators BashActivator,CShellActivator,FishActivator,NushellActivator,PowerShellActivator,PythonActivator\n"
          ]
        }
      ]
    },
    {
      "cell_type": "code",
      "source": [
        "!source myprojectenv/bin/activate"
      ],
      "metadata": {
        "id": "OT3vyrL6XPBS"
      },
      "execution_count": null,
      "outputs": []
    },
    {
      "cell_type": "markdown",
      "source": [
        "$\\color{skyblue}{\\textbf{pip freeze}}$"
      ],
      "metadata": {
        "id": "-bHAGb4ILxEo"
      }
    },
    {
      "cell_type": "code",
      "source": [
        "# listing all project’s dependencies\n",
        "!pip freeze"
      ],
      "metadata": {
        "id": "6chWZghrY8iV"
      },
      "execution_count": null,
      "outputs": []
    },
    {
      "cell_type": "code",
      "source": [
        "# placing the project’s dependencies to seprate .txt file\n",
        "!pip freeze > requirements.txt"
      ],
      "metadata": {
        "id": "NAAJCIazZcI9"
      },
      "execution_count": null,
      "outputs": []
    },
    {
      "cell_type": "code",
      "source": [
        "ls"
      ],
      "metadata": {
        "id": "wqH_scmHaF7a",
        "outputId": "2abe9668-1722-4bf8-d927-1dd047fc0816",
        "colab": {
          "base_uri": "https://localhost:8080/"
        }
      },
      "execution_count": null,
      "outputs": [
        {
          "output_type": "stream",
          "name": "stdout",
          "text": [
            "\u001b[0m\u001b[01;34mmyprojectenv\u001b[0m/  requirements.txt  \u001b[01;34msample_data\u001b[0m/\n"
          ]
        }
      ]
    },
    {
      "cell_type": "markdown",
      "source": [
        "$\\color{skyblue}{\\textbf{Using virtualenv With Repositories:}}$\n",
        "\n",
        "- Now, if we want to push our project on `GITHUB`. After we’ve finished working in our Python virtual environment, we first need to initialize the repository:\n",
        "```\n",
        "git init\n",
        "```\n",
        "\n",
        "- Then, we need to include the our folder in a `.gitignore` file. This way, the Python virtual environment will be ignored in source control.\n",
        "```\n",
        "echo 'myfolder' > .gitignore\n",
        "```\n",
        "\n",
        "- Once this is done, we can place our project’s dependencies in a `requirements.txt` file:\n",
        "```\n",
        "pip freeze > requirements.txt\n",
        "```\n",
        "\n",
        "- add the file to be pushed to the repository:\n",
        "```\n",
        "git add requirements.txt\n",
        "```\n",
        "\n",
        "-  To recreate the same virtual environment:\n",
        "```\n",
        "pip install -r requirements.txt\n",
        "```\n",
        "\n",
        "\n"
      ],
      "metadata": {
        "id": "LR4VfVD0lYZQ"
      }
    },
    {
      "cell_type": "markdown",
      "source": [
        "### $\\color{red}{\\textbf{Lambda Function}}$"
      ],
      "metadata": {
        "id": "Dd0UYes3O4p_"
      }
    },
    {
      "cell_type": "markdown",
      "source": [
        "A **lambda function** is a small anonymous function. A lambda function can take any number of arguments, but can only have one expression.\n",
        "\n",
        "```python\n",
        "lambda arg1, arg2, arg3 : expression\n",
        "```"
      ],
      "metadata": {
        "id": "FyI9Q3bUPwin"
      }
    },
    {
      "cell_type": "code",
      "source": [
        "x = 9\n",
        "\n",
        "func = lambda x : x+2\n",
        "num_sq = lambda x: x*x\n",
        "num_sqrt = lambda x : x**(1/2)\n",
        "sum_n = lambda a, b, c : a + b + c\n",
        "\n",
        "print(func(x))\n",
        "print(num_sq(x))\n",
        "print(num_sqrt (x))\n",
        "print(sum_n(x, 2, 3))"
      ],
      "metadata": {
        "colab": {
          "base_uri": "https://localhost:8080/"
        },
        "id": "EXRyW5cIUcu2",
        "outputId": "d86c4725-f8d0-42b7-bb49-e7709625310b"
      },
      "execution_count": 56,
      "outputs": [
        {
          "output_type": "stream",
          "name": "stdout",
          "text": [
            "11\n",
            "81\n",
            "3.0\n",
            "14\n"
          ]
        }
      ]
    },
    {
      "cell_type": "code",
      "source": [
        "multiply = lambda x, y : x * y\n",
        "print(multiply(21, 2)) \n",
        "\n",
        "#_____________\n",
        "def myfunc(n):\n",
        "  return lambda a : a * n\n",
        "\n",
        "mydoubler = myfunc(2)\n",
        "print(mydoubler(11)) "
      ],
      "metadata": {
        "colab": {
          "base_uri": "https://localhost:8080/"
        },
        "id": "9_4RNnUlnoSo",
        "outputId": "1b8a2f1b-2455-470f-d0d6-fe7ed2a35860"
      },
      "execution_count": 8,
      "outputs": [
        {
          "output_type": "stream",
          "name": "stdout",
          "text": [
            "42\n",
            "22\n"
          ]
        }
      ]
    },
    {
      "cell_type": "code",
      "source": [
        "even = lambda a: True if a % 2 == 0 else False\n",
        "print(even(6)) \n",
        "print(even(9)) "
      ],
      "metadata": {
        "colab": {
          "base_uri": "https://localhost:8080/"
        },
        "id": "Ig_Ryhneqj3o",
        "outputId": "3b854c04-929c-4417-8d14-09f1c012be1c"
      },
      "execution_count": 10,
      "outputs": [
        {
          "output_type": "stream",
          "name": "stdout",
          "text": [
            "True\n",
            "False\n"
          ]
        }
      ]
    },
    {
      "cell_type": "markdown",
      "source": [
        "### $\\color{red}{\\textbf{`.join()`}}$"
      ],
      "metadata": {
        "id": "YRoeqbWN5aFz"
      }
    },
    {
      "cell_type": "code",
      "source": [
        "l = [\"Camera\", \"Laptop\", \"Phone\", \"ipad\", \"Disk\", \"Nvidia\"]\n",
        "\n",
        "\n",
        "sentence = \"-\".join(l)\n",
        "# sentence = \"+\".join(l)\n",
        "# sentence = \"\\n\".join(l)\n",
        "print(sentence)\n",
        "print(type(sentence))"
      ],
      "metadata": {
        "colab": {
          "base_uri": "https://localhost:8080/"
        },
        "id": "wrYHQT0N4md3",
        "outputId": "cbb7ce49-ee3a-4b77-f8e0-f91213b199d2"
      },
      "execution_count": 25,
      "outputs": [
        {
          "output_type": "stream",
          "name": "stdout",
          "text": [
            "Camera-Laptop-Phone-ipad-Disk-Nvidia\n",
            "<class 'str'>\n"
          ]
        }
      ]
    },
    {
      "cell_type": "code",
      "source": [
        "list1 = ['D','e','e','p', 'l', 'e', 'a', 'r', 'n', 'i', 'n', 'g']  \n",
        "print(\"\".join(list1)) "
      ],
      "metadata": {
        "colab": {
          "base_uri": "https://localhost:8080/"
        },
        "id": "pIzVOQmV5m6B",
        "outputId": "7dfac536-c5ca-49ff-8697-dd6be7b06aed"
      },
      "execution_count": 24,
      "outputs": [
        {
          "output_type": "stream",
          "name": "stdout",
          "text": [
            "Deeplearning\n"
          ]
        }
      ]
    },
    {
      "cell_type": "markdown",
      "source": [
        "### $\\color{red}{\\textbf{`.format()`}}$"
      ],
      "metadata": {
        "id": "Ptlgtp2t8jwL"
      }
    },
    {
      "cell_type": "code",
      "source": [
        "string_a = \"Hello!\"\n",
        "string_b = \"World\"\n",
        "string_c = \"Python\"\n",
        "\n",
        "print(\"I love {}\".format(string_c))\n",
        "print(\"{}, {}\".format(string_a, string_b))\n",
        "print(\"{0}, {2}, I love {1}\".format(string_a, string_c, string_b))\n",
        "\n",
        "print(f\"{string_c} is easy to learn\") #f-string method"
      ],
      "metadata": {
        "colab": {
          "base_uri": "https://localhost:8080/"
        },
        "id": "RggGAv2A6K_h",
        "outputId": "b441da83-5e89-4d30-f26b-62e81fe7dbdc"
      },
      "execution_count": 31,
      "outputs": [
        {
          "output_type": "stream",
          "name": "stdout",
          "text": [
            "I love Python\n",
            "Hello!, World\n",
            "Hello!, World, I love Python\n",
            "Python is easy to learn\n"
          ]
        }
      ]
    },
    {
      "cell_type": "code",
      "source": [
        "print('The {2} {1} {0}'.format('fox', 'brown', 'quick'))\n",
        "\n",
        "result = 100/777\n",
        "\n",
        "print('{newvar}'.format(newvar = result))\n",
        "\n",
        "print('the result was {r:0.3f}'.format(r = result))"
      ],
      "metadata": {
        "colab": {
          "base_uri": "https://localhost:8080/"
        },
        "id": "ifSZPLmy6WmJ",
        "outputId": "80451d20-80cc-40cb-819a-16f039a5b4da"
      },
      "execution_count": 26,
      "outputs": [
        {
          "output_type": "stream",
          "name": "stdout",
          "text": [
            "The quick brown fox\n",
            "0.1287001287001287\n",
            "the result was 0.129\n"
          ]
        }
      ]
    },
    {
      "cell_type": "markdown",
      "source": [
        "### $\\color{red}{\\textbf{map, filter, reduce}}$"
      ],
      "metadata": {
        "id": "ynUFF4NU1YaD"
      }
    },
    {
      "cell_type": "markdown",
      "source": [
        "$\\color{skyblue}{\\textbf{map}}$\n",
        "\n",
        "```python\n",
        "#Syntax\n",
        "map(function_to_apply, list_of_inputs)\n",
        "```\n",
        "\n"
      ],
      "metadata": {
        "id": "Ui8651X41gEn"
      }
    },
    {
      "cell_type": "code",
      "source": [
        "#defining function \n",
        "def square(num):\n",
        "    return num*num\n",
        "\n",
        "list_1 = [1, 2, 3, 4]\n",
        "\n",
        "# Method 1\n",
        "list_2 = []\n",
        "for item in list_1:\n",
        "    list_2.append(square(item))\n",
        "    \n",
        "print(list_2)\n",
        "\n",
        "# Method 2\n",
        "print(list(map(square, list_1)))"
      ],
      "metadata": {
        "colab": {
          "base_uri": "https://localhost:8080/"
        },
        "id": "YZbq7Bj89BCO",
        "outputId": "e028458d-b00f-47d5-e224-28b084f59392"
      },
      "execution_count": 46,
      "outputs": [
        {
          "output_type": "stream",
          "name": "stdout",
          "text": [
            "[1, 4, 9, 16]\n",
            "[1, 4, 9, 16]\n"
          ]
        }
      ]
    },
    {
      "cell_type": "code",
      "source": [
        "# map+lambda\n",
        "print(list(map(lambda num : num*num, [1, 2, 3, 4])))"
      ],
      "metadata": {
        "colab": {
          "base_uri": "https://localhost:8080/"
        },
        "id": "bEH0jBaYvfTR",
        "outputId": "a79241bd-940f-4343-af7f-1acb7a09d7b9"
      },
      "execution_count": 44,
      "outputs": [
        {
          "output_type": "stream",
          "name": "stdout",
          "text": [
            "[1, 4, 9, 16]\n"
          ]
        }
      ]
    },
    {
      "cell_type": "markdown",
      "source": [
        "$\\color{skyblue}{\\textbf{filter}}$\n",
        "\n",
        "```python\n",
        "# Filter Syntax:\n",
        "filter(function, list)\n",
        "```"
      ],
      "metadata": {
        "id": "BEpdAwcL1o_-"
      }
    },
    {
      "cell_type": "code",
      "source": [
        "# Normal function for greater than 5\n",
        "def g5(num):\n",
        "    if num > 5:\n",
        "        return True\n",
        "    else:\n",
        "        return False\n",
        "\n",
        "#lambda function for greater then 10\n",
        "g10 = lambda num: num>10\n",
        "\n",
        "num_list = [1, 2, 3, 4, 5, 6, 7, 8, 89, 98]\n",
        "print(list(filter(g5, num_list)))\n",
        "print(list(filter(g10, num_list)))"
      ],
      "metadata": {
        "colab": {
          "base_uri": "https://localhost:8080/"
        },
        "id": "zxc5dBZJ1on8",
        "outputId": "3a25fb46-4301-4fbc-a6ac-52ac390c3deb"
      },
      "execution_count": 52,
      "outputs": [
        {
          "output_type": "stream",
          "name": "stdout",
          "text": [
            "[6, 7, 8, 89, 98]\n",
            "[89, 98]\n"
          ]
        }
      ]
    },
    {
      "cell_type": "markdown",
      "source": [
        "$\\color{skyblue}{\\textbf{reduce}}$\n",
        "\n",
        "The `reduce(fun, seq)` function is used to apply a particular function passed in its `argument` to all of the `list` elements mentioned in the `sequence` passed along.This function is defined in `“functools”` module.\n",
        "\n",
        "```python\n",
        "reduce(function, list))\n",
        "```"
      ],
      "metadata": {
        "id": "IiH74cRU1sHP"
      }
    },
    {
      "cell_type": "code",
      "source": [
        "from functools import reduce\n",
        "\n",
        "func = lambda a, b : a + b\n",
        "seq = [1, 2, 3, 4]\n",
        "\n",
        "print(reduce(func, seq))"
      ],
      "metadata": {
        "colab": {
          "base_uri": "https://localhost:8080/"
        },
        "id": "tpqAKDQuMi5X",
        "outputId": "73222a1a-0d82-4bca-acde-7aa7073db8ef"
      },
      "execution_count": 7,
      "outputs": [
        {
          "output_type": "stream",
          "name": "stdout",
          "text": [
            "10\n"
          ]
        }
      ]
    },
    {
      "cell_type": "code",
      "source": [
        "from functools import reduce\n",
        "\n",
        "sum_func = lambda a, b : a + b\n",
        "num_list = [1, 2, 3, 4]\n",
        "\n",
        "val = reduce(sum_func, num_list)\n",
        "print(val)"
      ],
      "metadata": {
        "colab": {
          "base_uri": "https://localhost:8080/"
        },
        "id": "Zf8y_HD59X_B",
        "outputId": "2fa186f0-0933-4a31-c4c1-6cb8a01b9170"
      },
      "execution_count": 8,
      "outputs": [
        {
          "output_type": "stream",
          "name": "stdout",
          "text": [
            "10\n"
          ]
        }
      ]
    },
    {
      "cell_type": "code",
      "source": [
        "# importing functools for reduce()\n",
        "import functools\n",
        " \n",
        "# initializing list\n",
        "lis = [1, 3, 5, 6, 2]\n",
        " \n",
        "# using reduce to compute sum of list\n",
        "print(\"The sum of the list elements is : \", end=\"\")\n",
        "print(functools.reduce(lambda a, b: a+b, lis))\n",
        " \n",
        "# using reduce to compute maximum element from list\n",
        "print(\"The maximum element of the list is : \", end=\"\")\n",
        "print(functools.reduce(lambda a, b: a if a > b else b, lis))"
      ],
      "metadata": {
        "colab": {
          "base_uri": "https://localhost:8080/"
        },
        "id": "8cNjCtBriYg9",
        "outputId": "0e85301c-538a-4ddc-99f5-84bb32e92fac"
      },
      "execution_count": 6,
      "outputs": [
        {
          "output_type": "stream",
          "name": "stdout",
          "text": [
            "The sum of the list elements is : 17\n",
            "The maximum element of the list is : 6\n"
          ]
        }
      ]
    },
    {
      "cell_type": "code",
      "source": [
        "# Import reduce\n",
        "from functools import reduce\n",
        " \n",
        "# Declare a list\n",
        "my_prices = [40, 50, 60]\n",
        " \n",
        "# Define our function\n",
        "def calc_total(acc, eachItem):\n",
        "    return acc + eachItem\n",
        " \n",
        "# Use reduce(function_name, data, initial_value)\n",
        "total = reduce(calc_total, my_prices, 0)\n",
        " \n",
        "# Print the result\n",
        "print(f\"The summation for the list is {total}\")"
      ],
      "metadata": {
        "colab": {
          "base_uri": "https://localhost:8080/"
        },
        "id": "rLdiMxD8jgXC",
        "outputId": "1e7f8d3f-2aad-4160-9e72-2fedbdce78e3"
      },
      "execution_count": 5,
      "outputs": [
        {
          "output_type": "stream",
          "name": "stdout",
          "text": [
            "The summation for the list is 150\n"
          ]
        }
      ]
    },
    {
      "cell_type": "code",
      "source": [
        "# Python program to  illustrate sum of two numbers.\n",
        "def reduce(function, iterable, initializer=None):\n",
        "    it = iter(iterable)\n",
        "    if initializer is None:\n",
        "        value = next(it)\n",
        "    else:\n",
        "        value = initializer\n",
        "    for element in it:\n",
        "        value = function(value, element)\n",
        "    return value\n",
        " \n",
        "# Note that the initializer, when not None, is used as the first value instead of the first value from iterable , and after the whole iterable.\n",
        "tup = (2, 1, 0, 2, 2, 0, 0, 2)\n",
        "print(reduce(lambda x, y: x+y, tup,6))"
      ],
      "metadata": {
        "colab": {
          "base_uri": "https://localhost:8080/"
        },
        "id": "MsvU-XN3lhwc",
        "outputId": "a5088018-0a7a-401e-f2fa-197a669723c8"
      },
      "execution_count": 9,
      "outputs": [
        {
          "output_type": "stream",
          "name": "stdout",
          "text": [
            "15\n"
          ]
        }
      ]
    },
    {
      "cell_type": "markdown",
      "source": [
        "# <center><b>Practice Set 🛠 </b></center>\n"
      ],
      "metadata": {
        "id": "anByL8AjxeFn"
      }
    },
    {
      "cell_type": "markdown",
      "source": [
        "#### $\\color{red}{\\textbf{Que:1 }}$ Create two varible environment, install few packages in the first one? how do you create the similar environment in the second one?"
      ],
      "metadata": {
        "id": "ChuEoi5V7n2h"
      }
    },
    {
      "cell_type": "markdown",
      "source": [
        "**Ans:1**\n",
        "\n",
        "- **Create two virtual environment**\n",
        "```\n",
        "virtual env1\n",
        "virtual env2\n",
        "```\n",
        "\n",
        "- **Activating** `env1`\n",
        "```\n",
        ".\\env1\\Scripts\\activate.ps1  \n",
        "```\n",
        "\n",
        "- **Installing some packages** \n",
        "```\n",
        "pip install pandas flask matplotlib seaborn\n",
        "```\n",
        "\n",
        "- **Generating** `requirements.txt` file\n",
        "```\n",
        "!pip freeze > requirements.txt\n",
        "```\n",
        "\n",
        "- **Now deactivating** `env1`\n",
        "```\n",
        "deactivate\n",
        "```\n",
        "\n",
        "- **Activating** `env2`\n",
        "```\n",
        ".\\env2\\Scripts\\activate.ps1  \n",
        "```\n",
        "\n",
        "- **Finally**\n",
        "```\n",
        "pip install -r requirements.txt\n",
        "```"
      ],
      "metadata": {
        "id": "kC3Q7KzocfU_"
      }
    },
    {
      "cell_type": "markdown",
      "source": [
        "#### $\\color{red}{\\textbf{Que:2 }}$ Write a program to input `name`, `marks` and `phone number` of a student and format it using the format function like below:\n",
        "> \"The name of the student is `jhon`, his marks are `80` and his phone number is `9798012345`\""
      ],
      "metadata": {
        "id": "hr4fiDsuXNCt"
      }
    },
    {
      "cell_type": "code",
      "source": [
        "name = input(\"Enter your name: \")\n",
        "marks = input(\"Enter your marks: \")\n",
        "phone = input(\"Enter you phone Number: \")\n",
        "\n",
        "template = \"The name of the student is {}, his marks are {} and phone number is {} \"\n",
        "output = template.format(name, marks, phone)\n",
        "print(output)"
      ],
      "metadata": {
        "colab": {
          "base_uri": "https://localhost:8080/"
        },
        "id": "qZY8VqIvXNCu",
        "outputId": "62215038-c606-4240-b71c-40cdab5e4cbc"
      },
      "execution_count": 57,
      "outputs": [
        {
          "output_type": "stream",
          "name": "stdout",
          "text": [
            "Enter your name: jhon\n",
            "Enter your marks: 80\n",
            "Enter you phone Number: 9798012345\n",
            "The name of the student is jhon, his marks are 80 and phone number is 9798012345 \n"
          ]
        }
      ]
    },
    {
      "cell_type": "markdown",
      "source": [
        "#### $\\color{red}{\\textbf{Que:3 }}$ A list contains the multiplication table of $7$. write a program to convert it to a `vertical string` of same number\n",
        "```\n",
        "(7,\n",
        "14,\n",
        ".\n",
        ".\n",
        ".)?\n",
        "```"
      ],
      "metadata": {
        "id": "zpR0oXa5XNfD"
      }
    },
    {
      "cell_type": "code",
      "source": [
        "l = [str(i*7) for i in range(1, 11)]\n",
        "print(l)\n",
        "\n",
        "verticalTable = \"\\n\".join(l)\n",
        "print(verticalTable)"
      ],
      "metadata": {
        "colab": {
          "base_uri": "https://localhost:8080/"
        },
        "id": "ZuczNe0UXNfE",
        "outputId": "ee634272-5968-44ba-b6b5-c2200b12f668"
      },
      "execution_count": 58,
      "outputs": [
        {
          "output_type": "stream",
          "name": "stdout",
          "text": [
            "['7', '14', '21', '28', '35', '42', '49', '56', '63', '70']\n",
            "7\n",
            "14\n",
            "21\n",
            "28\n",
            "35\n",
            "42\n",
            "49\n",
            "56\n",
            "63\n",
            "70\n"
          ]
        }
      ]
    },
    {
      "cell_type": "markdown",
      "source": [
        "#### $\\color{red}{\\textbf{Que:4 }}$ Write a program to `filter` a *list*  of numbers which are divisible by $5$?"
      ],
      "metadata": {
        "id": "Ar44puyHXNpZ"
      }
    },
    {
      "cell_type": "code",
      "source": [
        "l = [1, 2, 3, 4, 5, 6, 7, 8, 9, 1, 2, 3, 4, 54, 23, 55, 90, 60]\n",
        "\n",
        "a = filter(lambda a: a%5==0, l)\n",
        "print(list(a))"
      ],
      "metadata": {
        "colab": {
          "base_uri": "https://localhost:8080/"
        },
        "id": "nJeM1JGUXNpa",
        "outputId": "e21de9dc-13ab-4e68-9de2-8253ca42135b"
      },
      "execution_count": 59,
      "outputs": [
        {
          "output_type": "stream",
          "name": "stdout",
          "text": [
            "[5, 55, 90, 60]\n"
          ]
        }
      ]
    },
    {
      "cell_type": "markdown",
      "source": [
        "#### $\\color{red}{\\textbf{Que:5 }}$ Write a program to find the **maximum** of the number in a list using the `reduce` function?"
      ],
      "metadata": {
        "id": "O0OkvV8xXN6Q"
      }
    },
    {
      "cell_type": "code",
      "source": [
        "from functools import reduce\n",
        "\n",
        "lis1 = [3, 8, 455, 2, 5, 45]\n",
        "\n",
        "a = reduce(max, lis1)\n",
        "b = reduce(min, lis1)\n",
        "\n",
        "print(a)\n",
        "print(b)"
      ],
      "metadata": {
        "colab": {
          "base_uri": "https://localhost:8080/"
        },
        "id": "KhyGvA2zXN6Q",
        "outputId": "2f5d0916-2431-4284-f21f-b58ae73a8aac"
      },
      "execution_count": 4,
      "outputs": [
        {
          "output_type": "stream",
          "name": "stdout",
          "text": [
            "455\n",
            "2\n"
          ]
        }
      ]
    },
    {
      "cell_type": "markdown",
      "source": [
        "#### $\\color{red}{\\textbf{Que:6 }}$ Explore the `flask` module and create a web sever using `flask` and `python`?"
      ],
      "metadata": {
        "id": "798iHljdXOaR"
      }
    },
    {
      "cell_type": "code",
      "source": [
        "from flask import Flask\n",
        "app = Flask(__name__)\n",
        "\n",
        "@app.route('/')\n",
        "def hello_world():\n",
        "    return '''<!doctype html>\n",
        "        <html lang=\"en\">\n",
        "        <head>\n",
        "            <!-- Required meta tags -->\n",
        "            <meta charset=\"utf-8\">\n",
        "            <meta name=\"viewport\" content=\"width=device-width, initial-scale=1, shrink-to-fit=no\">\n",
        "\n",
        "            <!-- Bootstrap CSS -->\n",
        "            <link rel=\"stylesheet\" href=\"https://stackpath.bootstrapcdn.com/bootstrap/4.5.2/css/bootstrap.min.css\" integrity=\"sha384-JcKb8q3iqJ61gNV9KGb8thSsNjpSL0n8PARn9HuZOnIxN0hoP+VmmDGMN5t9UJ0Z\" crossorigin=\"anonymous\">\n",
        "\n",
        "            <title>Hello, world!</title>\n",
        "        </head>\n",
        "        <body>\n",
        "            <h1>Hello, world!</h1>\n",
        "            <div class=\"alert alert-primary\" role=\"alert\">\n",
        "        A simple primary alert with <a href=\"#\" class=\"alert-link\">an example link</a>. Give it a click if you like.\n",
        "        </div>\n",
        "        <div class=\"alert alert-secondary\" role=\"alert\">\n",
        "        A simple secondary alert with <a href=\"#\" class=\"alert-link\">an example link</a>. Give it a click if you like.\n",
        "        </div>\n",
        "        <div class=\"alert alert-success\" role=\"alert\">\n",
        "        A simple success alert with <a href=\"#\" class=\"alert-link\">an example link</a>. Give it a click if you like.\n",
        "        </div>\n",
        "        <div class=\"alert alert-danger\" role=\"alert\">\n",
        "        A simple danger alert with <a href=\"#\" class=\"alert-link\">an example link</a>. Give it a click if you like.\n",
        "        </div>\n",
        "        <div class=\"alert alert-warning\" role=\"alert\">\n",
        "        A simple warning alert with <a href=\"#\" class=\"alert-link\">an example link</a>. Give it a click if you like.\n",
        "        </div>\n",
        "        <div class=\"alert alert-info\" role=\"alert\">\n",
        "        A simple info alert with <a href=\"#\" class=\"alert-link\">an example link</a>. Give it a click if you like.\n",
        "        </div>\n",
        "        <div class=\"alert alert-light\" role=\"alert\">\n",
        "        A simple light alert with <a href=\"#\" class=\"alert-link\">an example link</a>. Give it a click if you like.\n",
        "        </div>\n",
        "        <div class=\"alert alert-dark\" role=\"alert\">\n",
        "        A simple dark alert with <a href=\"#\" class=\"alert-link\">an example link</a>. Give it a click if you like.\n",
        "        </div>\n",
        "            <!-- Optional JavaScript -->\n",
        "            <!-- jQuery first, then Popper.js, then Bootstrap JS -->\n",
        "            <script src=\"https://code.jquery.com/jquery-3.5.1.slim.min.js\" integrity=\"sha384-DfXdz2htPH0lsSSs5nCTpuj/zy4C+OGpamoFVy38MVBnE+IbbVYUew+OrCXaRkfj\" crossorigin=\"anonymous\"></script>\n",
        "            <script src=\"https://cdn.jsdelivr.net/npm/popper.js@1.16.1/dist/umd/popper.min.js\" integrity=\"sha384-9/reFTGAW83EW2RDu2S0VKaIzap3H66lZH81PoYlFhbGU+6BZp6G7niu735Sk7lN\" crossorigin=\"anonymous\"></script>\n",
        "            <script src=\"https://stackpath.bootstrapcdn.com/bootstrap/4.5.2/js/bootstrap.min.js\" integrity=\"sha384-B4gt1jrGC7Jh4AgTPSdUtOBvfO8shuf57BaghqFfPlYxofvL8/KUEfYiJOMMV+rV\" crossorigin=\"anonymous\"></script>\n",
        "        </body>\n",
        "        </html>'''\n",
        "\n",
        "if __name__ == \"__main__\":\n",
        "    app.run(debug=True)"
      ],
      "metadata": {
        "colab": {
          "base_uri": "https://localhost:8080/",
          "height": 269
        },
        "id": "HW19HjzmXOaR",
        "outputId": "f0281b33-b488-4d82-db39-0a0b87136dcc"
      },
      "execution_count": 10,
      "outputs": [
        {
          "output_type": "stream",
          "name": "stdout",
          "text": [
            " * Serving Flask app \"__main__\" (lazy loading)\n",
            " * Environment: production\n",
            "\u001b[31m   WARNING: This is a development server. Do not use it in a production deployment.\u001b[0m\n",
            "\u001b[2m   Use a production WSGI server instead.\u001b[0m\n",
            " * Debug mode: on\n"
          ]
        },
        {
          "output_type": "stream",
          "name": "stderr",
          "text": [
            "INFO:werkzeug: * Running on http://127.0.0.1:5000/ (Press CTRL+C to quit)\n",
            "INFO:werkzeug: * Restarting with stat\n"
          ]
        },
        {
          "output_type": "error",
          "ename": "SystemExit",
          "evalue": "ignored",
          "traceback": [
            "An exception has occurred, use %tb to see the full traceback.\n",
            "\u001b[0;31mSystemExit\u001b[0m\u001b[0;31m:\u001b[0m 1\n"
          ]
        },
        {
          "output_type": "stream",
          "name": "stderr",
          "text": [
            "/usr/local/lib/python3.7/dist-packages/IPython/core/interactiveshell.py:3334: UserWarning: To exit: use 'exit', 'quit', or Ctrl-D.\n",
            "  warn(\"To exit: use 'exit', 'quit', or Ctrl-D.\", stacklevel=1)\n"
          ]
        }
      ]
    },
    {
      "cell_type": "markdown",
      "source": [
        "#### $\\color{skyblue}{\\textbf{Connect with me:}}$\n",
        "\n",
        "\n",
        "[<img align=\"left\" src=\"https://cdn4.iconfinder.com/data/icons/social-media-icons-the-circle-set/48/twitter_circle-512.png\" width=\"32px\"/>][twitter]\n",
        "[<img align=\"left\" src=\"https://cdn-icons-png.flaticon.com/512/145/145807.png\" width=\"32px\"/>][linkedin]\n",
        "[<img align=\"left\" src=\"https://d31pjuirwqbaad.cloudfront.net/wp-content/uploads/2019/08/kissclipart-website-icon-png-clipart-computer-icons-ac62ecb3b8ae4d41.png?x61175\" width=\"32px\"/>][Portfolio]\n",
        "\n",
        "[twitter]: https://twitter.com/F4izy\n",
        "[linkedin]: https://www.linkedin.com/in/mohd-faizy/\n",
        "[Portfolio]: https://mohdfaizy.com/\n"
      ],
      "metadata": {
        "id": "PuHWr1zinyPs"
      }
    }
  ]
}