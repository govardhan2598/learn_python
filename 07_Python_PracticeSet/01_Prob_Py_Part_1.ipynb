{
  "nbformat": 4,
  "nbformat_minor": 0,
  "metadata": {
    "colab": {
      "name": "01_Prob_Py_Part_1.ipynb",
      "provenance": [],
      "toc_visible": true,
      "collapsed_sections": []
    },
    "kernelspec": {
      "name": "python3",
      "display_name": "Python 3"
    },
    "language_info": {
      "name": "python"
    }
  },
  "cells": [
    {
      "cell_type": "markdown",
      "source": [
        "# <center><b>Python Problems(1-50)</b></center>"
      ],
      "metadata": {
        "id": "m2fVclY10-Ze"
      }
    },
    {
      "cell_type": "markdown",
      "source": [
        "#### $\\color{red}{\\textbf{Que:1}}$ Write a python program to add two number?"
      ],
      "metadata": {
        "id": "rgGRcRJnFKcZ"
      }
    },
    {
      "cell_type": "code",
      "source": [
        "a = 30\n",
        "b = 15\n",
        "print(\"The sum of a and b is\", a + b)"
      ],
      "metadata": {
        "colab": {
          "base_uri": "https://localhost:8080/"
        },
        "id": "5gcIUmN8HPrg",
        "outputId": "341aec7f-2137-420d-9756-cd5b500966c1"
      },
      "execution_count": null,
      "outputs": [
        {
          "output_type": "stream",
          "name": "stdout",
          "text": [
            "The sum of a and b is 45\n"
          ]
        }
      ]
    },
    {
      "cell_type": "markdown",
      "source": [
        "#### $\\color{red}{\\textbf{Que:2}}$ Write a python program to find remainder when a number is divided by 2?"
      ],
      "metadata": {
        "id": "6eXNn0NuFKYw"
      }
    },
    {
      "cell_type": "code",
      "source": [
        "a = 458\n",
        "b = 15\n",
        "\n",
        "print(\"The remainder when a is divided by b is\", a%b)"
      ],
      "metadata": {
        "colab": {
          "base_uri": "https://localhost:8080/"
        },
        "id": "nBCwt-zUHVPI",
        "outputId": "70965361-7e23-46c9-f26e-f0f63f0a46d5"
      },
      "execution_count": null,
      "outputs": [
        {
          "output_type": "stream",
          "name": "stdout",
          "text": [
            "The remainder when a is divided by b is 8\n"
          ]
        }
      ]
    },
    {
      "cell_type": "markdown",
      "source": [
        "#### $\\color{red}{\\textbf{Que:3}}$ Check the type of the varible asssigned using the `input()` function?"
      ],
      "metadata": {
        "id": "QGDX7U0AFKVY"
      }
    },
    {
      "cell_type": "code",
      "source": [
        "a = input(\"Enter first number: \")\n",
        "b = input(\"Enter second number: \")\n",
        "a = int(a)\n",
        "b = int(b)\n",
        "# avg = int((a + b)/2) # This is not correct, a+b is a string, not an integer.\n",
        "avg = (a + b)/2\n",
        "print(\"The average of a and b is\", avg)\n"
      ],
      "metadata": {
        "colab": {
          "base_uri": "https://localhost:8080/"
        },
        "id": "E23JypPeHhrA",
        "outputId": "3737cc4d-2645-4792-c91f-2e2fe7ae299c"
      },
      "execution_count": null,
      "outputs": [
        {
          "output_type": "stream",
          "name": "stdout",
          "text": [
            "Enter first number: 55\n",
            "Enter second number: 155\n",
            "The average of a and b is 105.0\n"
          ]
        }
      ]
    },
    {
      "cell_type": "markdown",
      "source": [
        "#### $\\color{red}{\\textbf{Que:4}}$ Use the comparison operater to find out whether a given varible is greater then `b` or not, Take `a=34` & `b=80`? "
      ],
      "metadata": {
        "id": "IIXjZtbcFKSW"
      }
    },
    {
      "cell_type": "code",
      "source": [
        "a = 34\n",
        "b = 80\n",
        "\n",
        "print(a>b)"
      ],
      "metadata": {
        "colab": {
          "base_uri": "https://localhost:8080/"
        },
        "id": "K8I_8ZtPHsf9",
        "outputId": "e3f89f4f-6ff4-4c89-b1c7-9171c72e8a8c"
      },
      "execution_count": null,
      "outputs": [
        {
          "output_type": "stream",
          "name": "stdout",
          "text": [
            "False\n"
          ]
        }
      ]
    },
    {
      "cell_type": "markdown",
      "source": [
        "#### $\\color{red}{\\textbf{Que:5}}$ Write a python program to find `average` of two numbers entered by the user?\n"
      ],
      "metadata": {
        "id": "pqJSjh1dFdm1"
      }
    },
    {
      "cell_type": "code",
      "source": [
        "a = int(input(\"Enter the first number: \"))\n",
        "b = int(input(\"Enter the second number: \"))\n",
        "\n",
        "avg = (a+b)/2\n",
        "\n",
        "print(f\"The average of {a} & {b} is {avg}\")"
      ],
      "metadata": {
        "colab": {
          "base_uri": "https://localhost:8080/"
        },
        "id": "HWWuVvxmH1uq",
        "outputId": "d9c60e1e-fe7c-436f-fc2f-ac833820efb4"
      },
      "execution_count": null,
      "outputs": [
        {
          "output_type": "stream",
          "name": "stdout",
          "text": [
            "Enter the first number: 12\n",
            "Enter the second number: 16\n",
            "The average of 12 & 16 is 14.0\n"
          ]
        }
      ]
    },
    {
      "cell_type": "markdown",
      "source": [
        "#### $\\color{red}{\\textbf{Que:6}}$ Write a python program to calculate the `square` of a number entered by the user?"
      ],
      "metadata": {
        "id": "cJkodCXOFdpx"
      }
    },
    {
      "cell_type": "code",
      "source": [
        "a = int(input(\"Enter the number: \"))\n",
        "sqr = a*a\n",
        "print(f\"The Square of the {a} is {sqr}\")"
      ],
      "metadata": {
        "colab": {
          "base_uri": "https://localhost:8080/"
        },
        "id": "7XMG2RjnH2T2",
        "outputId": "be3eb846-b32c-4051-ae9a-f2295406478e"
      },
      "execution_count": null,
      "outputs": [
        {
          "output_type": "stream",
          "name": "stdout",
          "text": [
            "Enter the number: 12\n",
            "The Square of the 12 is 144\n"
          ]
        }
      ]
    },
    {
      "cell_type": "markdown",
      "source": [
        "#### $\\color{red}{\\textbf{Que:7}}$ Write a python program to display auser entered name followed by `Good AfterNoon` using the `input()` function?"
      ],
      "metadata": {
        "id": "4Kb_vOHJFdsu"
      }
    },
    {
      "cell_type": "code",
      "source": [
        "name = input(\"Enter Your Name:\\n\")\n",
        "#print(f\"Good Afternoon,{name}\")\n",
        "print(f\"Hi!!! Good Afternoon,\" + name)"
      ],
      "metadata": {
        "colab": {
          "base_uri": "https://localhost:8080/"
        },
        "id": "3qN1NVYgMfEp",
        "outputId": "9bdbb253-0a25-4387-be17-856a9ad4e52a"
      },
      "execution_count": null,
      "outputs": [
        {
          "output_type": "stream",
          "name": "stdout",
          "text": [
            "Enter Your Name:\n",
            "jack\n",
            "Hi!!! Good Afternoon,jack\n"
          ]
        }
      ]
    },
    {
      "cell_type": "markdown",
      "source": [
        "#### $\\color{red}{\\textbf{Que:8}}$ Write a program to fill in a letter given below with `NAME` and `DATE`?\n",
        "\n",
        "```python\n",
        "letter = '''Dear <|NAME|>,\n",
        "                 Greetings from ABC coding house.\n",
        "                 I am happy to tell you about your selection\n",
        "                 \n",
        "                 You are selected!\n",
        "                 Have a great day ahead!\n",
        "                 \n",
        "                 Thanks and regards,\n",
        "                 Bill\n",
        "                 Date: <|DATE|>\n",
        "'''\n",
        "```"
      ],
      "metadata": {
        "id": "Gr_DRTcwFdwA"
      }
    },
    {
      "cell_type": "code",
      "source": [
        "letter = '''Dear <|NAME|>,\n",
        "Greetings from ABC coding house. I am happy to tell you about your selection\n",
        "You are selected!\n",
        "Have a great day ahead!\n",
        "Thanks and regards,\n",
        "Bill\n",
        "Date: <|DATE|>\n",
        "'''\n",
        "name = input(\"Enter Your Name\\n\")\n",
        "date = input(\"Enter Date\\n\")\n",
        "\n",
        "letter = letter.replace(\"<|NAME|>\", name)\n",
        "letter = letter.replace(\"<|DATE|>\", date)\n",
        "\n",
        "print(letter)"
      ],
      "metadata": {
        "colab": {
          "base_uri": "https://localhost:8080/"
        },
        "id": "dv4XM4g4MNaZ",
        "outputId": "277b6323-7edc-4df8-ea62-4fd562f75ae9"
      },
      "execution_count": null,
      "outputs": [
        {
          "output_type": "stream",
          "name": "stdout",
          "text": [
            "Enter Your Name\n",
            "Jack\n",
            "Enter Date\n",
            "15 Aug 2022\n",
            "Dear Jack,\n",
            "Greetings from ABC coding house. I am happy to tell you about your selection\n",
            "You are selected!\n",
            "Have a great day ahead!\n",
            "Thanks and regards,\n",
            "Bill\n",
            "Date: 15 Aug 2022\n",
            "\n"
          ]
        }
      ]
    },
    {
      "cell_type": "markdown",
      "source": [
        "#### $\\color{red}{\\textbf{Que:9}}$ Write a program to detect double spaces in a string?"
      ],
      "metadata": {
        "id": "dWOxA3DFFdy1"
      }
    },
    {
      "cell_type": "code",
      "source": [
        "string = \"This is a string with double  spaces.\"\n",
        "double_spaces = string.find(\"  \")\n",
        "print(double_spaces)  # this will return the index of the first double space\n",
        "                      # if there is no double space, it will return -1 "
      ],
      "metadata": {
        "colab": {
          "base_uri": "https://localhost:8080/"
        },
        "id": "HcW1Vav9Og0Y",
        "outputId": "c8f0ff1d-9b77-48dd-c9b8-fea0614f7804"
      },
      "execution_count": null,
      "outputs": [
        {
          "output_type": "stream",
          "name": "stdout",
          "text": [
            "28\n"
          ]
        }
      ]
    },
    {
      "cell_type": "markdown",
      "source": [
        "#### $\\color{red}{\\textbf{Que:10}}$ Replace the double Spaces from the `problem - 9` with single spaces?  "
      ],
      "metadata": {
        "id": "O4FnBN9KFd10"
      }
    },
    {
      "cell_type": "code",
      "source": [
        "string = \"The string with double  spaces.\"\n",
        "\n",
        "string = string.replace(\"   \", \" \")\n",
        "print(string)"
      ],
      "metadata": {
        "colab": {
          "base_uri": "https://localhost:8080/"
        },
        "id": "CFNUXN56O8ij",
        "outputId": "d8e4f892-c0fa-494f-b105-91c6289d26af"
      },
      "execution_count": null,
      "outputs": [
        {
          "output_type": "stream",
          "name": "stdout",
          "text": [
            "The string with double spaces  !!!\n"
          ]
        }
      ]
    },
    {
      "cell_type": "markdown",
      "source": [
        "#### $\\color{red}{\\textbf{Que:11}}$ Write a program to format the following letter using escape sequence characters.\n",
        " \n",
        "```python\n",
        "letter = \"Dear Jack, This Python course is nice. Thanks!\"\n",
        "```"
      ],
      "metadata": {
        "id": "QDd-9p6dFd4M"
      }
    },
    {
      "cell_type": "code",
      "source": [
        "letter = \"Dear Jack, This Python course is nice. Thanks!\"\n",
        "print(letter)\n",
        "\n",
        "formatted_letter = \"Dear Jack,\\n\\tThis Python course is nice!\\nThanks!\"\n",
        "print(formatted_letter)"
      ],
      "metadata": {
        "colab": {
          "base_uri": "https://localhost:8080/"
        },
        "id": "2Yyw6PsPPnVE",
        "outputId": "86e11439-cf70-4e61-88a3-7313a740bd37"
      },
      "execution_count": null,
      "outputs": [
        {
          "output_type": "stream",
          "name": "stdout",
          "text": [
            "Dear Jack, This Python course is nice. Thanks!\n",
            "Dear Jack,\n",
            "\tThis Python course is nice!\n",
            "Thanks!\n"
          ]
        }
      ]
    },
    {
      "cell_type": "markdown",
      "source": [
        "**Escape sequence Characters?**\n",
        "\n",
        "- `\\n` -> New Line\n",
        "- `\\t` -> Tab\n",
        "- `\\'` -> Single Quote\n",
        "- `\\\\` -> Backslash\n",
        "\n"
      ],
      "metadata": {
        "id": "xpvC0jmBP-rZ"
      }
    },
    {
      "cell_type": "markdown",
      "source": [
        "#### $\\color{red}{\\textbf{Que:12}}$ Write a program to store seven fruits in a `list` entered by the user?"
      ],
      "metadata": {
        "id": "8V0DqdwsFd6g"
      }
    },
    {
      "cell_type": "code",
      "source": [
        "f1 = input(\"Enter Fruit Number 1: \")\n",
        "f2 = input(\"Enter Fruit Number 2: \")\n",
        "f3 = input(\"Enter Fruit Number 3: \")\n",
        "f4 = input(\"Enter Fruit Number 4: \")\n",
        "f5 = input(\"Enter Fruit Number 5: \")\n",
        "f6 = input(\"Enter Fruit Number 6: \")\n",
        "f7 = input(\"Enter Fruit Number 7: \")\n",
        "\n",
        "myFruitList = [f1, f2, f3, f4, f5, f6, f7]\n",
        "print(myFruitList) \n"
      ],
      "metadata": {
        "colab": {
          "base_uri": "https://localhost:8080/"
        },
        "id": "It0c46QaQMdH",
        "outputId": "3dc87702-d9b6-4bf8-9e04-0857cbe22719"
      },
      "execution_count": null,
      "outputs": [
        {
          "output_type": "stream",
          "name": "stdout",
          "text": [
            "Enter the fruit name:banana\n",
            "[]\n"
          ]
        }
      ]
    },
    {
      "cell_type": "markdown",
      "source": [
        "#### $\\color{red}{\\textbf{Que:13}}$ Write a program to accept marks of **6 student** and display them in a `sorted` manner?\n",
        "\n"
      ],
      "metadata": {
        "id": "sX7TS3JnFd80"
      }
    },
    {
      "cell_type": "code",
      "source": [
        "m1 = int(input(\"Enter Marks for Student Number 1: \"))\n",
        "m2 = int(input(\"Enter Marks for Student Number 2: \"))\n",
        "m3 = int(input(\"Enter Marks for Student Number 3: \"))\n",
        "m4 = int(input(\"Enter Marks for Student Number 4: \"))\n",
        "m5 = int(input(\"Enter Marks for Student Number 5: \"))\n",
        "m6 = int(input(\"Enter Marks for Student Number 6: \"))\n",
        "\n",
        "myList = [m1, m2, m3, m4, m5, m6]\n",
        "myList.sort()\n",
        "print(myList)\n"
      ],
      "metadata": {
        "id": "x87dAxYUoqG_"
      },
      "execution_count": null,
      "outputs": []
    },
    {
      "cell_type": "markdown",
      "source": [
        "#### $\\color{red}{\\textbf{Que:14}}$ Check that a tuple cannot be changed in a python?"
      ],
      "metadata": {
        "id": "c4fyeyGSFd-x"
      }
    },
    {
      "cell_type": "code",
      "source": [
        "a = (2,4,5,3,2)\n",
        "a[0] = 45"
      ],
      "metadata": {
        "id": "ZhFwjjKMo1z2"
      },
      "execution_count": null,
      "outputs": []
    },
    {
      "cell_type": "markdown",
      "source": [
        "#### $\\color{red}{\\textbf{Que:15}}$ Get a `list` as input from user?"
      ],
      "metadata": {
        "id": "V1-Mvt7eNCkI"
      }
    },
    {
      "cell_type": "code",
      "source": [
        "# creating an empty list\n",
        "lst = []\n",
        "  \n",
        "# number of elements as input\n",
        "n = int(input(\"Enter number of elements : \"))\n",
        "  \n",
        "# iterating till the range\n",
        "for i in range(0, n):\n",
        "    ele = int(input())\n",
        "  \n",
        "    lst.append(ele) # adding the element\n",
        "      \n",
        "print(lst)"
      ],
      "metadata": {
        "colab": {
          "base_uri": "https://localhost:8080/"
        },
        "id": "zNggDesjNDSG",
        "outputId": "f030a2e2-449e-4b06-e8ec-156237a49245"
      },
      "execution_count": null,
      "outputs": [
        {
          "output_type": "stream",
          "name": "stdout",
          "text": [
            "Enter number of elements : 4\n",
            "1\n",
            "2\n",
            "3\n",
            "4\n",
            "[1, 2, 3, 4]\n"
          ]
        }
      ]
    },
    {
      "cell_type": "markdown",
      "source": [
        "#### $\\color{red}{\\textbf{Que:16}}$ Write a program to sum a list with 4 number?"
      ],
      "metadata": {
        "id": "Mie_oTsqFeBU"
      }
    },
    {
      "cell_type": "code",
      "source": [
        "a = [2, 4, 56, 7]\n",
        "\n",
        "print(a[0] + a[1] + a[2] + a[3])\n",
        "print(sum(a))"
      ],
      "metadata": {
        "id": "ccuCJEFEo296"
      },
      "execution_count": null,
      "outputs": []
    },
    {
      "cell_type": "markdown",
      "source": [
        "#### $\\color{red}{\\textbf{Que:17}}$ Write a program to `count` the number of **zeros** in the following `tuple`, and also `index` the number `8`?\n",
        "\n",
        "```\n",
        "a = (7, 0, 8, 0, 9)\n",
        "```"
      ],
      "metadata": {
        "id": "WNj2SuygROYn"
      }
    },
    {
      "cell_type": "code",
      "source": [
        "a = (7, 0, 8, 0, 9)\n",
        "\n",
        "print(a.count(0))\n",
        "print(a.index(8))"
      ],
      "metadata": {
        "colab": {
          "base_uri": "https://localhost:8080/"
        },
        "id": "A0PS1KHNpMvb",
        "outputId": "92f6b502-c478-4b42-eb35-2b26d2ed4c87"
      },
      "execution_count": null,
      "outputs": [
        {
          "output_type": "execute_result",
          "data": {
            "text/plain": [
              "2"
            ]
          },
          "metadata": {},
          "execution_count": 27
        }
      ]
    },
    {
      "cell_type": "markdown",
      "source": [
        "#### $\\color{red}{\\textbf{Que:18}}$ Write a program to create a dictionary of **Hindi** words with values as their **english** translation. provide user an option to look in up!."
      ],
      "metadata": {
        "id": "cP3H0ZgpROhn"
      }
    },
    {
      "cell_type": "code",
      "source": [
        "myDict = {\n",
        "    \"pankha\": \"fan\",\n",
        "    \"dabba\" : \"box\",\n",
        "    \"vastu\" : \"item\"\n",
        "}\n",
        "print(\"Options are \", myDict.keys())\n",
        "a = input(\"Enter the Hindi Word\\n\")\n",
        "# print(\"The meaning of your word is:\", myDict[a])\n",
        "\n",
        "# Below line will not throw an error if the key is not present in the dictionary\n",
        "print(\"The meaning of your word is:\", myDict.get(a))"
      ],
      "metadata": {
        "colab": {
          "base_uri": "https://localhost:8080/"
        },
        "id": "X2xeDKxYunN2",
        "outputId": "6b864934-ea6a-411e-a9ff-7df3641f9728"
      },
      "execution_count": null,
      "outputs": [
        {
          "output_type": "stream",
          "name": "stdout",
          "text": [
            "Options are  dict_keys(['Pankha', 'Dabba', 'Vastu'])\n",
            "Enter the Hindi Word\n",
            "Pankha\n",
            "The meaning of your word is: Fan\n"
          ]
        }
      ]
    },
    {
      "cell_type": "markdown",
      "source": [
        "#### $\\color{red}{\\textbf{Que:19}}$ Write a program to input eight numbers from the user and display all the unique numbers(once)."
      ],
      "metadata": {
        "id": "iyO1uo_tROsM"
      }
    },
    {
      "cell_type": "code",
      "source": [
        "num1 = int(input(\"Enter number 1\\n\"))\n",
        "num2 = int(input(\"Enter number 2\\n\"))\n",
        "num3 = int(input(\"Enter number 3\\n\"))\n",
        "num4 = int(input(\"Enter number 4\\n\"))\n",
        "num5 = int(input(\"Enter number 5\\n\"))\n",
        "num6 = int(input(\"Enter number 6\\n\"))\n",
        "num7 = int(input(\"Enter number 7\\n\"))\n",
        "num8 = int(input(\"Enter number 8\\n\"))\n",
        "\n",
        "s = {num1, num2, num3, num4, num5, num6, num7, num8}\n",
        "print(s)"
      ],
      "metadata": {
        "colab": {
          "base_uri": "https://localhost:8080/"
        },
        "id": "_yCzGiv3yMoi",
        "outputId": "7e096542-3cf9-4f5a-a7cb-a13519a9fbed"
      },
      "execution_count": null,
      "outputs": [
        {
          "output_type": "stream",
          "name": "stdout",
          "text": [
            "Enter number 1\n",
            "1\n",
            "Enter number 2\n",
            "2\n",
            "Enter number 3\n",
            "2\n",
            "Enter number 4\n",
            "3\n",
            "Enter number 5\n",
            "3\n",
            "Enter number 6\n",
            "4\n",
            "Enter number 7\n",
            "4\n",
            "Enter number 8\n",
            "5\n",
            "{1, 2, 3, 4, 5}\n"
          ]
        }
      ]
    },
    {
      "cell_type": "markdown",
      "source": [
        "#### $\\color{red}{\\textbf{Que:20}}$ Can we have the `set` with `18(int)` and `\"18\"(str)` as a values in it?"
      ],
      "metadata": {
        "id": "uq3H0jNGRV7t"
      }
    },
    {
      "cell_type": "code",
      "source": [
        "s = {18, \"18\", 18.1}\n",
        "print(s)"
      ],
      "metadata": {
        "colab": {
          "base_uri": "https://localhost:8080/"
        },
        "id": "q_A6QSyp4o4l",
        "outputId": "4e7116d0-0ef3-48c4-9496-0a487cb362a3"
      },
      "execution_count": null,
      "outputs": [
        {
          "output_type": "stream",
          "name": "stdout",
          "text": [
            "{18.1, 18, '18'}\n"
          ]
        }
      ]
    },
    {
      "cell_type": "markdown",
      "source": [
        "#### $\\color{red}{\\textbf{Que:21}}$ What will be the length of the folling `set` `S`:\n",
        "\n",
        "```python\n",
        "s = set()\n",
        "s.add(20)\n",
        "s.add(20.0)\n",
        "s.add(\"20\") \n",
        "```\n",
        "Find the length of `s` after these operation"
      ],
      "metadata": {
        "id": "IW-9cKdRRbZF"
      }
    },
    {
      "cell_type": "code",
      "source": [
        "s = set()\n",
        "s.add(20)\n",
        "s.add(20.0)\n",
        "s.add(\"20\")\n",
        " \n",
        "print(s)\n",
        "print(len(s))"
      ],
      "metadata": {
        "colab": {
          "base_uri": "https://localhost:8080/"
        },
        "id": "uw3atglM0n8p",
        "outputId": "fc4eb803-bb00-4098-9b76-135106312c87"
      },
      "execution_count": null,
      "outputs": [
        {
          "output_type": "stream",
          "name": "stdout",
          "text": [
            "{'20', 20}\n",
            "2\n"
          ]
        }
      ]
    },
    {
      "cell_type": "markdown",
      "source": [
        "#### $\\color{red}{\\textbf{Que:22}}$ what is the type of `s`?\n",
        "\n",
        "```python\n",
        "s = {}\n",
        "```"
      ],
      "metadata": {
        "id": "mLS1Bk7tRbcg"
      }
    },
    {
      "cell_type": "code",
      "source": [
        "s = {} # NOTE: This not an empty set\n",
        "type(s) "
      ],
      "metadata": {
        "colab": {
          "base_uri": "https://localhost:8080/"
        },
        "id": "ZzD1Tsz71E-y",
        "outputId": "01616c91-4bd1-437f-df59-6ad2e5af1768"
      },
      "execution_count": null,
      "outputs": [
        {
          "output_type": "execute_result",
          "data": {
            "text/plain": [
              "dict"
            ]
          },
          "metadata": {},
          "execution_count": 6
        }
      ]
    },
    {
      "cell_type": "markdown",
      "source": [
        "#### $\\color{red}{\\textbf{Que:23}}$ Create an empty dictionary. Allow 4 friends to enter their favourite progaming language as `values` and use `keys` as their names. Assume that the names are unique?"
      ],
      "metadata": {
        "id": "JJ5TKnTZRbez"
      }
    },
    {
      "cell_type": "code",
      "source": [
        "favLang = {}\n",
        "\n",
        "a = input(\"Enter your favorite language Shubham\\n\")\n",
        "b = input(\"Enter your favorite language Ankit\\n\")\n",
        "c = input(\"Enter your favorite language Sonali\\n\")\n",
        "d = input(\"Enter your favorite language Harshita\\n\")\n",
        "\n",
        "favLang['shubham'] = a\n",
        "favLang['ankit'] = b\n",
        "favLang['sonali'] = c\n",
        "favLang['harshita'] = d\n",
        "\n",
        "print(favLang)"
      ],
      "metadata": {
        "colab": {
          "base_uri": "https://localhost:8080/"
        },
        "id": "L6fR1Mw-1T6A",
        "outputId": "d9c2968c-10d3-406c-f8d5-eded12b52f22"
      },
      "execution_count": null,
      "outputs": [
        {
          "output_type": "stream",
          "name": "stdout",
          "text": [
            "Enter your favorite language Shubham\n",
            "python\n",
            "Enter your favorite language Ankit\n",
            "java\n",
            "Enter your favorite language Sonali\n",
            "c\n",
            "Enter your favorite language Harshita\n",
            "html\n",
            "{'shubham': 'python', 'ankit': 'java', 'sonali': 'c', 'harshita': 'html'}\n"
          ]
        }
      ]
    },
    {
      "cell_type": "markdown",
      "source": [
        "#### $\\color{red}{\\textbf{Que:24}}$ If the names of the two friend are same, then what will happen to the problem in $\\color{red}{\\textbf{Que:23}}$? "
      ],
      "metadata": {
        "id": "ND0g6Ti2Rbgh"
      }
    },
    {
      "cell_type": "code",
      "source": [
        "favLang = {}\n",
        "\n",
        "a = input(\"Enter your favorite language Shubham\\n\")\n",
        "b = input(\"Enter your favorite language Ankit\\n\")\n",
        "c = input(\"Enter your favorite language Ankit\\n\")\n",
        "d = input(\"Enter your favorite language Harshita\\n\")\n",
        "\n",
        "favLang['shubham'] = a\n",
        "favLang['ankit'] = b\n",
        "favLang['ankit]'] = c\n",
        "favLang['harshita'] = d\n",
        "\n",
        "print(favLang)"
      ],
      "metadata": {
        "colab": {
          "base_uri": "https://localhost:8080/"
        },
        "id": "XPJ7K9ad2lTO",
        "outputId": "277d5461-dbbf-4172-fdfc-ca1a10ec3aa0"
      },
      "execution_count": null,
      "outputs": [
        {
          "output_type": "stream",
          "name": "stdout",
          "text": [
            "Enter your favorite language Shubham\n",
            "c\n",
            "Enter your favorite language Ankit\n",
            "java\n",
            "Enter your favorite language Sonali\n",
            "python\n",
            "Enter your favorite language Harshita\n",
            "kotlin\n",
            "{'shubham': 'c', 'ankit': 'python', 'harshita': 'kotlin'}\n"
          ]
        }
      ]
    },
    {
      "cell_type": "markdown",
      "source": [
        "#### $\\color{red}{\\textbf{Que:25}}$ If the languages of the two friends are same, then what will happen to the problem in $\\color{red}{\\textbf{Que:23}}$? "
      ],
      "metadata": {
        "id": "mJSzr60gRbiT"
      }
    },
    {
      "cell_type": "code",
      "source": [
        "favLang = {}\n",
        "\n",
        "a = input(\"Enter your favorite language Shubham\\n\")\n",
        "b = input(\"Enter your favorite language Ankit\\n\")\n",
        "c = input(\"Enter your favorite language Sonali\\n\")\n",
        "d = input(\"Enter your favorite language Harshita\\n\")\n",
        "\n",
        "favLang['shubham'] = a\n",
        "favLang['ankit'] = b\n",
        "favLang['sonali'] = c\n",
        "favLang['harshita'] = d\n",
        "\n",
        "print(favLang)"
      ],
      "metadata": {
        "colab": {
          "base_uri": "https://localhost:8080/"
        },
        "id": "dHy7xjJZ27GT",
        "outputId": "6ea768e0-a171-4711-d1d3-95995af7bef0"
      },
      "execution_count": null,
      "outputs": [
        {
          "output_type": "stream",
          "name": "stdout",
          "text": [
            "Enter your favorite language Shubham\n",
            "python\n",
            "Enter your favorite language Ankit\n",
            "python\n",
            "Enter your favorite language Sonali\n",
            "c\n",
            "Enter your favorite language Harshita\n",
            "c\n",
            "{'shubham': 'python', 'ankit': 'python', 'sonali': 'c', 'harshita': 'c'}\n"
          ]
        }
      ]
    },
    {
      "cell_type": "markdown",
      "source": [
        "> **Can a dictionary have same values for different keys?**\n",
        "\n",
        "\n",
        "> **Answer**. No, each `key` in a dictionary should be **unique**. You can't have two `keys` with the same value. But we can have two `keys` that have same values."
      ],
      "metadata": {
        "id": "Ni0fhbtB3F12"
      }
    },
    {
      "cell_type": "markdown",
      "source": [
        "#### $\\color{red}{\\textbf{Que:26}}$ Can you change the values inside a list which is contained in `set s`?\n",
        "\n",
        "```python\n",
        "s = {8, 7, 12, \"jack\", [1, 2]}\n",
        "```\n",
        "\n",
        "$\\color{green}{\\textbf{Ans:26}}$ `Set` items are `unchangeable`, meaning that *we cannot change the items after the set has been created*."
      ],
      "metadata": {
        "id": "stNafAx0Rbkx"
      }
    },
    {
      "cell_type": "markdown",
      "source": [
        "#### $\\color{red}{\\textbf{Que:27}}$ Write a program to find the **greatest of four number** entered by the user?"
      ],
      "metadata": {
        "id": "4Hr4y9U_RcPV"
      }
    },
    {
      "cell_type": "code",
      "source": [
        "num1 = int(input(\"Enter number 1: \"))\n",
        "num2 = int(input(\"Enter number 2: \"))\n",
        "num3 = int(input(\"Enter number 3: \"))\n",
        "num4 = int(input(\"Enter number 4: \"))\n",
        "\n",
        "if(num1>num4):\n",
        "    f1 = num1\n",
        "else:\n",
        "    f1 = num4\n",
        "\n",
        "if(num2>num3):\n",
        "    f2 = num2\n",
        "else:\n",
        "    f2 = num3\n",
        "\n",
        "if(f1>f2):\n",
        "    print(str(f1) + \" is greatest\")\n",
        "else:\n",
        "    print(str(f2) + \" is greatest\")"
      ],
      "metadata": {
        "colab": {
          "base_uri": "https://localhost:8080/"
        },
        "id": "6_gNmDceWOJk",
        "outputId": "d777b10b-f6b1-4466-8cee-09d6af6ba48a"
      },
      "execution_count": null,
      "outputs": [
        {
          "output_type": "stream",
          "name": "stdout",
          "text": [
            "Enter number 1: 11\n",
            "Enter number 2: 12\n",
            "Enter number 3: 13\n",
            "Enter number 4: 14\n",
            "14 is greatest\n"
          ]
        }
      ]
    },
    {
      "cell_type": "markdown",
      "source": [
        "#### $\\color{red}{\\textbf{Que:28}}$ Write a program to find whether a student is **pass** or **fail**, if it require total of 40% and at least 33% in each subject to pass. Assume 3 subject and take the marks as an input from the user? "
      ],
      "metadata": {
        "id": "FDivUHjGRcS2"
      }
    },
    {
      "cell_type": "code",
      "source": [
        "sub1 = int(input(\"Enter first subject marks\\n\"))\n",
        "sub2 = int(input(\"Enter second subject marks\\n\"))\n",
        "sub3 = int(input(\"Enter third subject marks\\n\"))\n",
        "\n",
        "if(sub1<33 or sub2<33 or sub3<33):\n",
        "    print(\"You are fail because you have less than 33% in one of the subjects\")\n",
        "elif(sub1+sub2+sub3)/3 < 40:\n",
        "    print(\"You are fail due to total percentage less than 40\")\n",
        "else:\n",
        "    print(\"Congatulations! You passed the exam\")"
      ],
      "metadata": {
        "colab": {
          "base_uri": "https://localhost:8080/"
        },
        "id": "-LhXw98qWnAR",
        "outputId": "97eae385-c683-4c2c-e830-bda696df178a"
      },
      "execution_count": null,
      "outputs": [
        {
          "output_type": "stream",
          "name": "stdout",
          "text": [
            "Enter first subject marks\n",
            "44\n",
            "Enter second subject marks\n",
            "33\n",
            "Enter third subject marks\n",
            "28\n",
            "You are fail because you have less than 33% in one of the subjects\n"
          ]
        }
      ]
    },
    {
      "cell_type": "markdown",
      "source": [
        "#### $\\color{red}{\\textbf{Que:29}}$ A `SPAM` comment is defined as a text containing following keywords:\n",
        "\n",
        "- \"*make a lot of money*\"\n",
        "- \"*by now*\"\n",
        "- \"*subscribe this*\"\n",
        "- \"*click this*\"\n",
        "\n",
        "Write a program to detect this spam?\n"
      ],
      "metadata": {
        "id": "BOVdFyIbN2g0"
      }
    },
    {
      "cell_type": "code",
      "source": [
        "text = input(\"Enter the text\\n\")\n",
        "\n",
        "if(\"make a lot of money\" in text):\n",
        "    spam = True\n",
        "elif(\"buy now\" in text):\n",
        "    spam = True\n",
        "elif(\"click this\" in text):\n",
        "    spam = True\n",
        "elif(\"subscribe this\" in text):\n",
        "    spam = True\n",
        "else:\n",
        "    spam = False\n",
        "\n",
        "if(spam):\n",
        "    print(\"This text is spam\")\n",
        "else:\n",
        "    print(\"This text is not spam\")"
      ],
      "metadata": {
        "colab": {
          "base_uri": "https://localhost:8080/"
        },
        "id": "PjBicLgkYGWp",
        "outputId": "6a0f9eee-de76-40a2-c4ed-3264dd477e93"
      },
      "execution_count": null,
      "outputs": [
        {
          "output_type": "stream",
          "name": "stdout",
          "text": [
            "Enter the text\n",
            "make a lot of money\n",
            "This text is spam\n"
          ]
        }
      ]
    },
    {
      "cell_type": "markdown",
      "source": [
        "#### $\\color{red}{\\textbf{Que:30}}$ Write a program to find whether a given username contain less than 10 characters or not?\n"
      ],
      "metadata": {
        "id": "kKlgfIu_ReE_"
      }
    },
    {
      "cell_type": "code",
      "source": [
        "names = ['mark', 'amber', 'todd', 'anita', 'sandy']\n",
        "name = input(\"Enter the name to check\\n\")\n",
        "\n",
        "if name in names:\n",
        "    print(\"Your name is present in the list\")\n",
        "else:\n",
        "    print(\"Your name is not present in the list\")"
      ],
      "metadata": {
        "colab": {
          "base_uri": "https://localhost:8080/"
        },
        "id": "REYC2zr-dYdU",
        "outputId": "a3e75cd7-b464-4300-da2b-db75924b17e3"
      },
      "execution_count": null,
      "outputs": [
        {
          "output_type": "stream",
          "name": "stdout",
          "text": [
            "Enter the name to check\n",
            "Mark\n",
            "Your name is present in the list\n"
          ]
        }
      ]
    },
    {
      "cell_type": "markdown",
      "source": [
        "#### $\\color{red}{\\textbf{Que:31}}$ Write a program to calculte the grade of a student form his marks from the following scheme:\n",
        "\n",
        "```\n",
        "90 - 100 -> Ex\n",
        "80 - 90  -> A\n",
        "70 - 80  -> B \n",
        "60 - 70  -> C\n",
        "50 - 60  -> D\n",
        "< 50     -> F\n",
        "\n",
        "```"
      ],
      "metadata": {
        "id": "kLgaViWoQAzc"
      }
    },
    {
      "cell_type": "code",
      "source": [
        "marks = int(input(\"Enter Your Marks\\n\"))\n",
        "\n",
        "if marks>=90:\n",
        "    grade = \"Ex\"\n",
        "elif marks>=80:\n",
        "    grade = \"A\"\n",
        "elif marks>=70:\n",
        "    grade = \"B\"\n",
        "elif marks>=60:\n",
        "    grade = \"C\"\n",
        "elif marks>=50:\n",
        "    grade = \"D\" \n",
        "else:\n",
        "    grade = \"F\"\n",
        "\n",
        "print(\"Your grade is \" + grade)"
      ],
      "metadata": {
        "colab": {
          "base_uri": "https://localhost:8080/"
        },
        "id": "xlI8KzW4h7Ax",
        "outputId": "0b6e0263-a9f6-485f-cb62-4e2176c3aed5"
      },
      "execution_count": null,
      "outputs": [
        {
          "output_type": "stream",
          "name": "stdout",
          "text": [
            "Enter Your Marks\n",
            "92\n",
            "Your grade is Ex\n"
          ]
        }
      ]
    },
    {
      "cell_type": "markdown",
      "source": [
        "#### $\\color{red}{\\textbf{Que:32}}$ Write a program to `print` multiplication of a given number using `for` loop?"
      ],
      "metadata": {
        "id": "v00Ur_vcQA2_"
      }
    },
    {
      "cell_type": "code",
      "source": [
        "num = int(input(\"Enter the Number: \"))\n",
        "\n",
        "for i in range(1, 11):\n",
        "     # print(str(num) + \" X \" + str(i) + \"=\" + str(i*num))\n",
        "     print(f\"{num} X {i} = {num*i}\")"
      ],
      "metadata": {
        "colab": {
          "base_uri": "https://localhost:8080/"
        },
        "id": "V10xgMtTiqur",
        "outputId": "a2e36f57-3225-4415-995b-fcacaf354bdd"
      },
      "execution_count": null,
      "outputs": [
        {
          "output_type": "stream",
          "name": "stdout",
          "text": [
            "Enter the Number: 12\n",
            "12 X 1 = 12\n",
            "12 X 2 = 24\n",
            "12 X 3 = 36\n",
            "12 X 4 = 48\n",
            "12 X 5 = 60\n",
            "12 X 6 = 72\n",
            "12 X 7 = 84\n",
            "12 X 8 = 96\n",
            "12 X 9 = 108\n",
            "12 X 10 = 120\n"
          ]
        }
      ]
    },
    {
      "cell_type": "markdown",
      "source": [
        "#### $\\color{red}{\\textbf{Que:33}}$ Write a program to greet all the person names stored in a list and which start with `S` \n",
        "\n",
        "```\n",
        "names = ['mark', 'amber', 'sam', 'todd', 'anita', 'sandy']\n",
        "```"
      ],
      "metadata": {
        "id": "g988FntLQA7D"
      }
    },
    {
      "cell_type": "code",
      "source": [
        "l1 = ['mark', 'amber', 'sam', 'todd', 'anita', 'sandy']\n",
        "\n",
        "for name in l1:\n",
        "    if name.startswith(\"s\"):\n",
        "        print(\"Hello \" + name)"
      ],
      "metadata": {
        "colab": {
          "base_uri": "https://localhost:8080/"
        },
        "id": "lDHsN35XnzK4",
        "outputId": "8b4bb739-328c-4798-9426-af4df43e2d6c"
      },
      "execution_count": null,
      "outputs": [
        {
          "output_type": "stream",
          "name": "stdout",
          "text": [
            "Hello sam\n",
            "Hello sandy\n"
          ]
        }
      ]
    },
    {
      "cell_type": "markdown",
      "source": [
        "#### $\\color{red}{\\textbf{Que:34}}$ Attempt $\\rightarrow$ $\\color{red}{\\textbf{Que:32}}$ using `while` loop? "
      ],
      "metadata": {
        "id": "XXilOsIMQA-h"
      }
    },
    {
      "cell_type": "code",
      "source": [
        "a=int(input(\"Enter the number to print the multiplication table: \"))\n",
        "\n",
        "i = 1\n",
        "while i <= 10:\n",
        "    print(f\"{a} x {i} = {a*i}\")\n",
        "    i=i+1"
      ],
      "metadata": {
        "colab": {
          "base_uri": "https://localhost:8080/"
        },
        "id": "8GKzipNUrJ7f",
        "outputId": "4ae34307-b1aa-409e-d5cb-7ee4e4c3f8f7"
      },
      "execution_count": null,
      "outputs": [
        {
          "output_type": "stream",
          "name": "stdout",
          "text": [
            "Enter the number to print the multiplication table: 12\n",
            "12 x 1 = 12\n",
            "12 x 2 = 24\n",
            "12 x 3 = 36\n",
            "12 x 4 = 48\n",
            "12 x 5 = 60\n",
            "12 x 6 = 72\n",
            "12 x 7 = 84\n",
            "12 x 8 = 96\n",
            "12 x 9 = 108\n",
            "12 x 10 = 120\n"
          ]
        }
      ]
    },
    {
      "cell_type": "markdown",
      "source": [
        "#### $\\color{red}{\\textbf{Que:34}}$ Write a program to find whether a given number is `PRIME` or not?\n",
        "\n",
        "> A number that is divisible only by `itself` and `1` (e.g. 2, 3, 5, 7, 11). \"**prime numbers are very useful in cryptography**\""
      ],
      "metadata": {
        "id": "B9oiaEBUQBCO"
      }
    },
    {
      "cell_type": "code",
      "source": [
        "num = int(input(\"Enter the number: \"))\n",
        "prime = True\n",
        "\n",
        "for i in range(2, num):\n",
        "    if(num%i == 0):\n",
        "        prime = False\n",
        "        break\n",
        "        \n",
        "if prime:\n",
        "    print(\"This number is Prime\")\n",
        "else:\n",
        "    print(\"This number is not Prime\")"
      ],
      "metadata": {
        "colab": {
          "base_uri": "https://localhost:8080/"
        },
        "id": "aavP9dxWt6df",
        "outputId": "c767b6ba-2d84-4a66-efc1-5e5a077826e9"
      },
      "execution_count": null,
      "outputs": [
        {
          "output_type": "stream",
          "name": "stdout",
          "text": [
            "Enter the number: 131\n",
            "This number is Prime\n"
          ]
        }
      ]
    },
    {
      "cell_type": "markdown",
      "source": [
        "using function"
      ],
      "metadata": {
        "id": "UZnH3j2Ut7cd"
      }
    },
    {
      "cell_type": "code",
      "source": [
        "def prime_number(num):\n",
        "    a = 0\n",
        "    for i in range(2, num):\n",
        "        if num % i == 0:\n",
        "            a = a + 1\n",
        "    return a\n",
        "\n",
        "\n",
        "n = int(input(\"Enter a number = \"))\n",
        "\n",
        "if prime_number(num) == 0:\n",
        "    print(\"This is aprime number\")\n",
        "else:\n",
        "    print(\"This is not a prime number\") "
      ],
      "metadata": {
        "colab": {
          "base_uri": "https://localhost:8080/"
        },
        "id": "U4fMLl8atY2q",
        "outputId": "b9f83b3f-4710-4f6d-8ccb-aa9ccfd3c639"
      },
      "execution_count": null,
      "outputs": [
        {
          "output_type": "stream",
          "name": "stdout",
          "text": [
            "Enter a number = 3\n",
            "Not prime number.\n"
          ]
        }
      ]
    },
    {
      "cell_type": "markdown",
      "source": [
        "#### $\\color{red}{\\textbf{Que:35}}$ Write a program to find the sum of first `n` natural numbers using `while` loop?\n",
        "\n",
        "\n"
      ],
      "metadata": {
        "id": "N4d41OEmQBF-"
      }
    },
    {
      "cell_type": "code",
      "source": [
        "# Sum of natural numbers up to num\n",
        "\n",
        "num = int(input(\"Enter the number: \"))\n",
        "\n",
        "if num <= 0: # 0 is not a natural number but a whole number\n",
        "   print(\"Enter a positive number\")\n",
        "else:\n",
        "   sum = 0\n",
        "   # use while loop to iterate until zero\n",
        "   while(num > 0):\n",
        "       sum += num\n",
        "       num -= 1   \n",
        "   print(f\"The sum of the natural number upto the {num} is {sum}\")"
      ],
      "metadata": {
        "colab": {
          "base_uri": "https://localhost:8080/"
        },
        "id": "sQAI0yZtfblO",
        "outputId": "bc74720a-6cff-4a1d-db64-e5a694b20c47"
      },
      "execution_count": null,
      "outputs": [
        {
          "output_type": "stream",
          "name": "stdout",
          "text": [
            "Enter the number: 10\n",
            "The sum of the natural number upto the 0 is 55\n"
          ]
        }
      ]
    },
    {
      "cell_type": "markdown",
      "source": [
        "- Initially, the `sum` is initialized to `0`. And, the number is stored in variable `num`.\n",
        "\n",
        "- Then, we used the `while` loop to iterate until `num` becomes zero.\n",
        "\n",
        "- In each iteration of the loop, we have added the `num` to `sum` and the value of `num` is decreased by 1."
      ],
      "metadata": {
        "id": "LqxU0gxLmO-p"
      }
    },
    {
      "cell_type": "markdown",
      "source": [
        "We could have solved the above problem without using a loop by using the following formula.\n",
        "\n",
        "$$\\frac{n\\times(n+1)}{2}$$"
      ],
      "metadata": {
        "id": "c5l48RcBfkrF"
      }
    },
    {
      "cell_type": "code",
      "source": [
        "n = int(input(\"Enter the number: \"))\n",
        "print(f\"The sum of the natural number upto the {n} is {int(n*(n+1)/2)}\")"
      ],
      "metadata": {
        "colab": {
          "base_uri": "https://localhost:8080/"
        },
        "id": "Do-AQaGdfdhq",
        "outputId": "e7343b21-8a9b-416f-8f38-b90f7dade32b"
      },
      "execution_count": null,
      "outputs": [
        {
          "output_type": "stream",
          "name": "stdout",
          "text": [
            "Enter the number: 10\n",
            "The sum of the natural number upto the 10 is 55\n"
          ]
        }
      ]
    },
    {
      "cell_type": "markdown",
      "source": [
        "#### $\\color{red}{\\textbf{Que:36}}$ Write a program to calculate the **factorial** of given number using `for` loop?"
      ],
      "metadata": {
        "id": "2LHmIBczQBJH"
      }
    },
    {
      "cell_type": "markdown",
      "source": [
        "$$ n! = n \\times (n-1) \\times (n-2) \\cdots \\times 3 \\times 2 \\times 1 $$ \n",
        "\n"
      ],
      "metadata": {
        "id": "x5pvfGRWteWG"
      }
    },
    {
      "cell_type": "code",
      "source": [
        "# n! = 1 X 2 X 3 X ..... X n\n",
        "# 5! = 1 X 2 X 3 X 4 X 5\n",
        "\n",
        "num = int(input(\"Enter the number: \"))\n",
        "factorial = 1 # factorial of zero is 1\n",
        "\n",
        "for i in range(1, num+1): # [X] range(1, num):\n",
        "    factorial = factorial * i\n",
        "print(f\"The factorial of {num} is {factorial}\")"
      ],
      "metadata": {
        "colab": {
          "base_uri": "https://localhost:8080/"
        },
        "id": "lMy2a4KXtLF9",
        "outputId": "8bc79102-541f-4216-8d43-88f56906af54"
      },
      "execution_count": null,
      "outputs": [
        {
          "output_type": "stream",
          "name": "stdout",
          "text": [
            "Enter the number: 3\n",
            "The factorial of 3 is 6\n"
          ]
        }
      ]
    },
    {
      "cell_type": "code",
      "source": [
        "def factorial(n):\n",
        "    fact = 1\n",
        "    for num in range(2, n+1):\n",
        "        fact = fact * num\n",
        "    return(fact)\n",
        "\n",
        "factorial(3)"
      ],
      "metadata": {
        "colab": {
          "base_uri": "https://localhost:8080/"
        },
        "id": "-W4QK3YMwTba",
        "outputId": "96d51206-2a34-4b80-9143-39b684cb0153"
      },
      "execution_count": null,
      "outputs": [
        {
          "output_type": "execute_result",
          "data": {
            "text/plain": [
              "6"
            ]
          },
          "metadata": {},
          "execution_count": 21
        }
      ]
    },
    {
      "cell_type": "markdown",
      "source": [
        "#### $\\color{red}{\\textbf{Que:37}}$ Python programs to print STAR patterns:\n",
        "\n",
        "---\n",
        "\n"
      ],
      "metadata": {
        "id": "vBLQg5RnQBMG"
      }
    },
    {
      "cell_type": "code",
      "source": [
        "n = 5\n",
        "\n",
        "for i in range(n):\n",
        "    print(\"*\" * (n-i)) # Prints * n-i times"
      ],
      "metadata": {
        "colab": {
          "base_uri": "https://localhost:8080/"
        },
        "id": "DkdtBo78jUcQ",
        "outputId": "56f404a3-9b28-4d7f-ab11-9f77529480e2"
      },
      "execution_count": null,
      "outputs": [
        {
          "output_type": "stream",
          "name": "stdout",
          "text": [
            "*****\n",
            "****\n",
            "***\n",
            "**\n",
            "*\n"
          ]
        }
      ]
    },
    {
      "cell_type": "code",
      "source": [
        "# Python Program to print star pattern 1\n",
        "'''\n",
        "\n",
        "* * * * *\n",
        "* * * *\n",
        "* * *\n",
        "* *\n",
        "*\n",
        "\n",
        "'''\n",
        "# define a function to print star shape\n",
        "def star_pattern2(n):\n",
        "    # Use outer for loop for rows\n",
        "\n",
        "    for i in range(n, 0, -1 ):\n",
        "\n",
        "        # Use inner for loop for columns / stars\n",
        "\n",
        "        for j in range(1, i + 1):\n",
        "            # print stars in each row\n",
        "            print(\"* \", end=\"\")\n",
        "\n",
        "        # End of line after each row\n",
        "        print()\n",
        "\n",
        "n = int(input(\"Enter number of rows:\"))\n",
        "star_pattern2(n)"
      ],
      "metadata": {
        "colab": {
          "base_uri": "https://localhost:8080/"
        },
        "id": "F2HyK6xi_mGS",
        "outputId": "28eedbc4-4e85-4ecf-ad01-9878522efb9b"
      },
      "execution_count": null,
      "outputs": [
        {
          "output_type": "stream",
          "name": "stdout",
          "text": [
            "Enter number of rows:5\n",
            "* * * * * \n",
            "* * * * \n",
            "* * * \n",
            "* * \n",
            "* \n"
          ]
        }
      ]
    },
    {
      "cell_type": "code",
      "source": [
        "# Python Program to print star pattern 2\n",
        "'''\n",
        "*\n",
        "* *\n",
        "* * *\n",
        "* * * *\n",
        "* * * * *\n",
        "'''\n",
        "# define a Function\n",
        "def star_pattern1(n):\n",
        "    # Use outer for loop for rows\n",
        "\n",
        "    for i in range(1, n+1):\n",
        "\n",
        "        # Use inner for loop for columns / stars\n",
        "\n",
        "        for j in range(1, i + 1):\n",
        "            # print stars in each row\n",
        "            print(\"* \", end=\"\")\n",
        "\n",
        "        # End of line after each row\n",
        "        print()\n",
        "\n",
        "n = int(input(\"Enter number of rows:\"))\n",
        "\n",
        "star_pattern1(n)"
      ],
      "metadata": {
        "colab": {
          "base_uri": "https://localhost:8080/"
        },
        "id": "niYxss7K_XZ6",
        "outputId": "324294a9-8ca6-4a1d-cb29-1426a44b4309"
      },
      "execution_count": null,
      "outputs": [
        {
          "output_type": "stream",
          "name": "stdout",
          "text": [
            "Enter number of rows:5\n",
            "* \n",
            "* * \n",
            "* * * \n",
            "* * * * \n",
            "* * * * * \n"
          ]
        }
      ]
    },
    {
      "cell_type": "code",
      "source": [
        "# Python Program to print star Triangle pattern 3\n",
        "'''\n",
        "     Enter number of rows:5\n",
        "     *\n",
        "    **\n",
        "   ***\n",
        "  ****\n",
        " *****\n",
        "\n",
        "'''\n",
        "\n",
        "\n",
        "# define a function to print star shape\n",
        "def star_pattern3(n):\n",
        "    # Use outer for loop for rows\n",
        "    spaces = n\n",
        "    for i in range(1, n + 1):\n",
        "\n",
        "        # Use inner for loop 1  for spaces before stars\n",
        "\n",
        "        for j in range(1, spaces + 1):\n",
        "            # print spaces\n",
        "            print(\" \", end=\"\")\n",
        "        # Use inner for loop 2  for columns / stars\n",
        "\n",
        "        for k in range(1, i + 1):\n",
        "            # print stars in each row\n",
        "            print(\"*\", end=\"\")\n",
        "\n",
        "        # End of line after each row\n",
        "        print()\n",
        "        # decrease spaces\n",
        "        spaces = spaces - 1\n",
        "\n",
        "\n",
        "n = int(input(\"Enter number of rows:\"))\n",
        "star_pattern3(n)"
      ],
      "metadata": {
        "colab": {
          "base_uri": "https://localhost:8080/"
        },
        "id": "LmY4E80z_sS6",
        "outputId": "fbd3616d-a68c-4e13-c306-12d4a48dd666"
      },
      "execution_count": null,
      "outputs": [
        {
          "output_type": "stream",
          "name": "stdout",
          "text": [
            "Enter number of rows:5\n",
            "     *\n",
            "    **\n",
            "   ***\n",
            "  ****\n",
            " *****\n"
          ]
        }
      ]
    },
    {
      "cell_type": "code",
      "source": [
        "# Python Program to print star Triangle pattern 4\n",
        "'''\n",
        "     * \n",
        "    * * \n",
        "   * * * \n",
        "  * * * * \n",
        " * * * * * \n",
        "\n",
        "'''\n",
        "\n",
        "\n",
        "# define a function to print star shape\n",
        "def star_pattern4(n):\n",
        "    # Use outer for loop for rows\n",
        "    spaces = n\n",
        "    for i in range(1, n + 1):\n",
        "\n",
        "        # Use inner for loop 1  for spaces before stars\n",
        "\n",
        "        for j in range(1, spaces + 1):\n",
        "            # print spaces\n",
        "            print(\" \", end=\"\")\n",
        "        # Use inner for loop 2  for columns / stars\n",
        "\n",
        "        for k in range(1, i + 1):\n",
        "            # print stars in each row\n",
        "            print(\"* \", end=\"\")\n",
        "\n",
        "        # End of line after each row\n",
        "        print()\n",
        "        # decrease spaces\n",
        "        spaces = spaces - 1\n",
        "\n",
        "\n",
        "n = int(input(\"Enter number of rows:\"))\n",
        "star_pattern4(n)"
      ],
      "metadata": {
        "colab": {
          "base_uri": "https://localhost:8080/"
        },
        "id": "MjNKFDph_vu5",
        "outputId": "0b392818-4570-41a8-a159-c2f0fc2e17b0"
      },
      "execution_count": null,
      "outputs": [
        {
          "output_type": "stream",
          "name": "stdout",
          "text": [
            "Enter number of rows:5\n",
            "     * \n",
            "    * * \n",
            "   * * * \n",
            "  * * * * \n",
            " * * * * * \n"
          ]
        }
      ]
    },
    {
      "cell_type": "code",
      "source": [
        "# Python Program to Print Hollow Square 5 Star Pattern\n",
        "'''\n",
        "Please Enter any Side of a Square  : 5\n",
        "Hollow Square Star Pattern\n",
        "* * * * * \n",
        "*       * \n",
        "*       * \n",
        "*       * \n",
        "* * * * * \n",
        "\n",
        "\n",
        "'''\n",
        "side = int(input(\"Please Enter any Side of a Square  : \"))\n",
        "\n",
        "print(\"Hollow Square Star Pattern\")\n",
        "for i in range(side):\n",
        "    for j in range(side):\n",
        "        if(i == 0 or i == side-1 or j == 0 or j == side-1):\n",
        "            print('*', end = ' ')\n",
        "        else:\n",
        "            print(' ', end = ' ')\n",
        "    print()"
      ],
      "metadata": {
        "colab": {
          "base_uri": "https://localhost:8080/"
        },
        "id": "i9uUKb5c_0aN",
        "outputId": "ee570050-e79a-41b6-b90f-89e9b67a7646"
      },
      "execution_count": null,
      "outputs": [
        {
          "output_type": "stream",
          "name": "stdout",
          "text": [
            "Please Enter any Side of a Square  : 5\n",
            "Hollow Square Star Pattern\n",
            "* * * * * \n",
            "*       * \n",
            "*       * \n",
            "*       * \n",
            "* * * * * \n"
          ]
        }
      ]
    },
    {
      "cell_type": "code",
      "source": [
        "# Python Program to Print Filled Square Star Pattern 6\n",
        "'''\n",
        "Please Enter any Side of a Square  : 5\n",
        "Filled Square Star Pattern\n",
        "* * * * * \n",
        "* * * * * \n",
        "* * * * * \n",
        "* * * * * \n",
        "* * * * * \n",
        "\n",
        "\n",
        "'''\n",
        "side = int(input(\"Please Enter any Side of a Square  : \"))\n",
        "\n",
        "print(\"Filled Square Star Pattern\")\n",
        "for i in range(side):\n",
        "    for j in range(side):\n",
        "        print('*', end = ' ')\n",
        "\n",
        "    print()"
      ],
      "metadata": {
        "colab": {
          "base_uri": "https://localhost:8080/"
        },
        "id": "-V9giJrs_3RZ",
        "outputId": "61e64dac-d71a-42ba-b327-995814ac7571"
      },
      "execution_count": null,
      "outputs": [
        {
          "output_type": "stream",
          "name": "stdout",
          "text": [
            "Please Enter any Side of a Square  : 5\n",
            "Filled Square Star Pattern\n",
            "* * * * * \n",
            "* * * * * \n",
            "* * * * * \n",
            "* * * * * \n",
            "* * * * * \n"
          ]
        }
      ]
    },
    {
      "cell_type": "code",
      "source": [
        "# Program to print star patterns\n",
        "'''\n",
        "Enter number of rows=5\n",
        "        * \n",
        "      * * \n",
        "    * * * \n",
        "  * * * * \n",
        "* * * * * \n",
        "  * * * * \n",
        "    * * * \n",
        "      * * \n",
        "        * \n",
        "'''\n",
        "rows = int(input(\"Enter number of rows=\"))\n",
        "i = 1\n",
        "while i <= rows:\n",
        "    j = i\n",
        "    while j < rows:\n",
        "        # printing spaces before stars\n",
        "        print(' ', end=' ')\n",
        "        j += 1\n",
        "    k = 1\n",
        "    # print stars\n",
        "    while k <= i:\n",
        "        print('*', end=' ')\n",
        "        k += 1\n",
        "    print()\n",
        "    i += 1\n",
        "# for downside output of star pattern\n",
        "i = rows\n",
        "while i >= 1:\n",
        "    j = i\n",
        "    while j <= rows:\n",
        "        print(' ', end=' ')\n",
        "        j += 1\n",
        "    k = 1\n",
        "    while k < i:\n",
        "        print('*', end=' ')\n",
        "        k += 1\n",
        "    print('')\n",
        "    i -= 1"
      ],
      "metadata": {
        "colab": {
          "base_uri": "https://localhost:8080/"
        },
        "id": "Ssot-GhG_6Ma",
        "outputId": "5290d744-7b36-495e-8eaa-42120fe4b15c"
      },
      "execution_count": null,
      "outputs": [
        {
          "output_type": "stream",
          "name": "stdout",
          "text": [
            "Enter number of rows=5\n",
            "        * \n",
            "      * * \n",
            "    * * * \n",
            "  * * * * \n",
            "* * * * * \n",
            "  * * * * \n",
            "    * * * \n",
            "      * * \n",
            "        * \n",
            "          \n"
          ]
        }
      ]
    },
    {
      "cell_type": "code",
      "source": [
        "# Python Star Pattern Printing Program 8\n",
        "'''\n",
        "Enter number of rows:5\n",
        "*\n",
        "* *\n",
        "* * *\n",
        "* * * *\n",
        "* * * * *\n",
        "* * * *\n",
        "* * *\n",
        "* *\n",
        "*\n",
        "\n",
        "'''\n",
        "\n",
        "rows = int(input(\"Enter number of rows:\"))\n",
        "for i in range(1, rows+1):\n",
        "    for j in range(1, i + 1):\n",
        "        print(\"*\", end=' ')\n",
        "    print()\n",
        "\n",
        "for i in range(rows, 1, -1):\n",
        "    for j in range(1, i):\n",
        "        print(\"*\", end=' ')\n",
        "    print()"
      ],
      "metadata": {
        "colab": {
          "base_uri": "https://localhost:8080/"
        },
        "id": "bflMq3IT_8W7",
        "outputId": "78d4b601-a2d1-441e-8b9f-6085a2a131ec"
      },
      "execution_count": null,
      "outputs": [
        {
          "output_type": "stream",
          "name": "stdout",
          "text": [
            "Enter number of rows:5\n",
            "* \n",
            "* * \n",
            "* * * \n",
            "* * * * \n",
            "* * * * * \n",
            "* * * * \n",
            "* * * \n",
            "* * \n",
            "* \n"
          ]
        }
      ]
    },
    {
      "cell_type": "code",
      "source": [
        "#Python Print star pattern 9\n",
        "'''\n",
        "Enter number of Rows:5\n",
        "        * * * * * *\n",
        "         * * * * *\n",
        "          * * * *\n",
        "           * * *\n",
        "            * *\n",
        "             *\n",
        "\n",
        "'''\n",
        "\n",
        "rows = int(input(\"Enter number of Rows:\"))\n",
        "space = 2 * rows - 2\n",
        "for i in range(rows, -1, -1):\n",
        "    for j in range(space, 0, -1):\n",
        "        print(end=\" \")\n",
        "    space += 1\n",
        "    for j in range(0, i + 1):\n",
        "        print(\"*\", end=\" \")\n",
        "    print(\"\")"
      ],
      "metadata": {
        "colab": {
          "base_uri": "https://localhost:8080/"
        },
        "id": "K_E5LrvQ_-J5",
        "outputId": "2e52ab70-ac66-4905-b049-d260627e38ae"
      },
      "execution_count": null,
      "outputs": [
        {
          "output_type": "stream",
          "name": "stdout",
          "text": [
            "Enter number of Rows:5\n",
            "        * * * * * * \n",
            "         * * * * * \n",
            "          * * * * \n",
            "           * * * \n",
            "            * * \n",
            "             * \n"
          ]
        }
      ]
    },
    {
      "cell_type": "code",
      "source": [
        "# Write a Python program\n",
        "# to display Sand glass\n",
        "# star pattern 10\n",
        "'''\n",
        "Enter number of Rows:5\n",
        "* * * * * \n",
        " * * * * \n",
        "  * * * \n",
        "   * * \n",
        "    * \n",
        "   * * \n",
        "  * * * \n",
        " * * * * \n",
        "* * * * * \n",
        "'''\n",
        "\n",
        "rows = int(input(\"Enter number of Rows:\"))\n",
        "\n",
        "for i in range(1,rows):\n",
        "    for j in range(1,i):\n",
        "        # print required number of spaces\n",
        "        print('', end=' ')\n",
        "\n",
        "    k = i\n",
        "    for k in range(i,rows+1):\n",
        "        print('*', end=' ')\n",
        "\n",
        "    print()\n",
        "\n",
        "\n",
        "i = rows - 1\n",
        "while i >= 0:\n",
        "    j = 0\n",
        "    while j < i:\n",
        "        print('', end=' ')\n",
        "        j += 1\n",
        "    k = i\n",
        "    while k <= rows - 1:\n",
        "        print('*', end=' ')\n",
        "        k += 1\n",
        "    print('')\n",
        "    i -= 1"
      ],
      "metadata": {
        "colab": {
          "base_uri": "https://localhost:8080/"
        },
        "id": "Hfr2IExvABET",
        "outputId": "aaa0f236-e470-4484-c2db-fbf47cea0fa9"
      },
      "execution_count": null,
      "outputs": [
        {
          "output_type": "stream",
          "name": "stdout",
          "text": [
            "Enter number of Rows:5\n",
            "* * * * * \n",
            " * * * * \n",
            "  * * * \n",
            "   * * \n",
            "    * \n",
            "   * * \n",
            "  * * * \n",
            " * * * * \n",
            "* * * * * \n"
          ]
        }
      ]
    },
    {
      "cell_type": "code",
      "source": [
        "# Python Hollow Star Diamond Pattern 14\n",
        "'''\n",
        "        * \n",
        "      *   *\n",
        "    *       *\n",
        "  *           *\n",
        "*               *\n",
        "  *           *\n",
        "    *       *\n",
        "      *   *\n",
        "        * \n",
        "'''\n",
        "\n",
        "rows = 5\n",
        "i = 1\n",
        "while i <= rows:\n",
        "    j = rows\n",
        "    while j > i:\n",
        "        # display space\n",
        "        print(' ', end=' ')\n",
        "        j -= 1\n",
        "    print('*', end=' ')\n",
        "    k = 1\n",
        "    while k < 2 * (i - 1):\n",
        "        print(' ', end=' ')\n",
        "        k += 1\n",
        "    if i == 1:\n",
        "        print()\n",
        "    else:\n",
        "        print('*')\n",
        "    i += 1\n",
        "\n",
        "i = rows - 1\n",
        "while i >= 1:\n",
        "    j = rows\n",
        "    while j > i:\n",
        "        print(' ', end=' ')\n",
        "        j -= 1\n",
        "    print('*', end=' ')\n",
        "    k = 1\n",
        "    while k <= 2 * (i - 1)-1:\n",
        "        print(' ', end=' ')\n",
        "        k += 1\n",
        "    if i == 1:\n",
        "        print()\n",
        "    else:\n",
        "        print('*')\n",
        "    i -= 1"
      ],
      "metadata": {
        "colab": {
          "base_uri": "https://localhost:8080/"
        },
        "id": "ZvsISa1SAF1M",
        "outputId": "629a7d97-475c-41db-b03a-217635c74520"
      },
      "execution_count": null,
      "outputs": [
        {
          "output_type": "stream",
          "name": "stdout",
          "text": [
            "        * \n",
            "      *   *\n",
            "    *       *\n",
            "  *           *\n",
            "*               *\n",
            "  *           *\n",
            "    *       *\n",
            "      *   *\n",
            "        * \n"
          ]
        }
      ]
    },
    {
      "cell_type": "markdown",
      "source": [
        "#### $\\color{red}{\\textbf{Que:38}}$ Write a program to print multiplicatiion table of `n` using the for loop in the reverse order?"
      ],
      "metadata": {
        "id": "TLVzQj4YQBOt"
      }
    },
    {
      "cell_type": "code",
      "source": [
        "num = int(input(\"Enter the Number: \"))\n",
        "\n",
        "for i in range(10, 0, -1):\n",
        "     # print(str(num) + \" X \" + str(i) + \"=\" + str(i*num))\n",
        "     print(f\"{num} X {i} = {num*i}\")"
      ],
      "metadata": {
        "colab": {
          "base_uri": "https://localhost:8080/"
        },
        "id": "5aZPp_GnA6oh",
        "outputId": "55a19087-64dc-4155-bcba-4c2e984dcaad"
      },
      "execution_count": null,
      "outputs": [
        {
          "output_type": "stream",
          "name": "stdout",
          "text": [
            "Enter the Number: 5\n",
            "5 X 10 = 50\n",
            "5 X 9 = 45\n",
            "5 X 8 = 40\n",
            "5 X 7 = 35\n",
            "5 X 6 = 30\n",
            "5 X 5 = 25\n",
            "5 X 4 = 20\n",
            "5 X 3 = 15\n",
            "5 X 2 = 10\n",
            "5 X 1 = 5\n"
          ]
        }
      ]
    },
    {
      "cell_type": "code",
      "source": [
        "#this is the range() function\n",
        "for a in range(10, 0, -2): # range(start, stop, step)\n",
        "    print(a, end=\", \")     # 1 is minimum possible number but won't be included\n",
        "\n",
        "print(\"\\b\\b\")              # this will remove the comma in last"
      ],
      "metadata": {
        "colab": {
          "base_uri": "https://localhost:8080/"
        },
        "id": "kVfx54OkBpUD",
        "outputId": "70bfaace-0e5b-4a34-aa1b-48567922a351"
      },
      "execution_count": null,
      "outputs": [
        {
          "output_type": "stream",
          "name": "stdout",
          "text": [
            "10, 8, 6, 4, 2, \b\b\n"
          ]
        }
      ]
    },
    {
      "cell_type": "markdown",
      "source": [
        "#### $\\color{red}{\\textbf{Que:39}}$ Factorial of a number using **Recursion**?"
      ],
      "metadata": {
        "id": "mTcoKr479Wo9"
      }
    },
    {
      "cell_type": "code",
      "source": [
        "# n! = 1 * 2 * 3 * 4...*n\n",
        "# n! = [1 * 2 * 3 * 4... n-1] *n\n",
        "# n! = n * (n-1)! \n",
        "\n",
        "# n = 0\n",
        "# product = 1\n",
        "# for i in range(n):\n",
        "# product = product * (i+1)\n",
        "# print(product)\n",
        "\n",
        "def factorial_iter(n):\n",
        "    product = 1       # we initilize the product to 1 \n",
        "    for i in range(n):\n",
        "        product = product * (i+1)\n",
        "    return product\n",
        "\n",
        "def factorial_recursive(n):\n",
        "    if n == 1 or n == 0:\n",
        "        return 1\n",
        "    # recursion is a function that calls itself\n",
        "    # it is used to directly use a mathematical formula as a function\n",
        "    return n * factorial_recursive(n-1)  # n * (n-1)!\n",
        "\n",
        "f1 = factorial_iter(3)\n",
        "f2 = factorial_recursive(0)\n",
        "print(f1)\n",
        "print(f2)"
      ],
      "metadata": {
        "colab": {
          "base_uri": "https://localhost:8080/"
        },
        "id": "wtd1eGauI6JU",
        "outputId": "1c62dbd1-77b3-4e17-91e6-4b26c332ae0f"
      },
      "execution_count": null,
      "outputs": [
        {
          "output_type": "stream",
          "name": "stdout",
          "text": [
            "6\n",
            "1\n"
          ]
        }
      ]
    },
    {
      "cell_type": "markdown",
      "source": [
        "#### $\\color{red}{\\textbf{Que:40}}$ Write a function takes `list` of 4 numbers and returns the **percentage** of the numbers?\n"
      ],
      "metadata": {
        "id": "EF4LdCpp9Wuq"
      }
    },
    {
      "cell_type": "code",
      "source": [
        "def percent(marks):\n",
        "    p = ((marks[0] + marks[1] + marks[2]+ marks[3])/400 )*100\n",
        "    return p\n",
        "\n",
        "marks1 = [45, 78, 86, 77]\n",
        "marks2 = [75, 98, 88, 78]\n",
        "\n",
        "percentage1 = percent(marks1)\n",
        "percentage2 = percent(marks2)\n",
        "\n",
        "print(percentage1, percentage2)"
      ],
      "metadata": {
        "id": "JPFJnu8cIVNs"
      },
      "execution_count": null,
      "outputs": []
    },
    {
      "cell_type": "markdown",
      "source": [
        "*Creating a function that takes marks of subject as list input from the user and calculate percentage*\n"
      ],
      "metadata": {
        "id": "DD4gnSLPNk4x"
      }
    },
    {
      "cell_type": "code",
      "source": [
        "# creating an empty list\n",
        "lst = []\n",
        "\n",
        "# iterating till the range\n",
        "for i in range(0, 5):\n",
        "    elem = int(input(\"Enter the Marks of a subject: \"))\n",
        "    lst.append(elem) # adding the element\n",
        "      \n",
        "def percent(marks):\n",
        "    p = ((marks[0] + marks[1] + marks[2]+ marks[3]+ marks[4])/500 )*100\n",
        "    return p\n",
        "\n",
        "per_marks = percent(lst)\n",
        "print(\"list of marks: \", lst)\n",
        "print(f\"Percentage Marks = {per_marks}\")"
      ],
      "metadata": {
        "colab": {
          "base_uri": "https://localhost:8080/"
        },
        "id": "MPLbU1wiN0uX",
        "outputId": "d60b61c5-6b32-4e6b-dd48-84e400ad5a18"
      },
      "execution_count": null,
      "outputs": [
        {
          "output_type": "stream",
          "name": "stdout",
          "text": [
            "Enter the Marks of a subject: 50\n",
            "Enter the Marks of a subject: 51\n",
            "Enter the Marks of a subject: 52\n",
            "Enter the Marks of a subject: 53\n",
            "Enter the Marks of a subject: 54\n",
            "list of marks:  [50, 51, 52, 53, 54]\n",
            "Percentage Marks = 52.0\n"
          ]
        }
      ]
    },
    {
      "cell_type": "markdown",
      "source": [
        "#### $\\color{red}{\\textbf{Que:41}}$ write a program using the function to find the greatest of the the three numbers?"
      ],
      "metadata": {
        "id": "ZATRZmSH9WyG"
      }
    },
    {
      "cell_type": "code",
      "source": [
        "def maximum(num1, num2, num3):\n",
        "    if (num1>num2):\n",
        "        if(num1>num3):\n",
        "            return num1\n",
        "        else:\n",
        "            return num3\n",
        "    else:\n",
        "        if(num2>num3):\n",
        "            return num2\n",
        "        else:\n",
        "            return num3\n",
        "\n",
        "m = maximum(13, 55, 2)\n",
        "print(\"The value of the maximum is \" + str(m))"
      ],
      "metadata": {
        "colab": {
          "base_uri": "https://localhost:8080/"
        },
        "id": "am4QqM-zSV8t",
        "outputId": "b2cfc8e9-fac7-499f-ed80-f38eab346e46"
      },
      "execution_count": null,
      "outputs": [
        {
          "output_type": "execute_result",
          "data": {
            "text/plain": [
              "14"
            ]
          },
          "metadata": {},
          "execution_count": 1
        }
      ]
    },
    {
      "cell_type": "markdown",
      "source": [
        "#### $\\color{red}{\\textbf{Que:42}}$ Write a python program using function to convert **celsius** to **fahrenheit**?"
      ],
      "metadata": {
        "id": "685hB2el5kIV"
      }
    },
    {
      "cell_type": "code",
      "source": [
        "def farh(cel):\n",
        "    return (cel*(9/5)) + 32\n",
        "\n",
        "c = int(input(\"Input the temprature in Celsius: \"))\n",
        "f = farh(c)\n",
        "print(f\"{c} degree Celsius = {f:.2f} Fahreheit\") "
      ],
      "metadata": {
        "colab": {
          "base_uri": "https://localhost:8080/"
        },
        "id": "AP47m_r2WceU",
        "outputId": "d827b2ea-1823-4eb6-9d5b-a9eb812f5e4d"
      },
      "execution_count": null,
      "outputs": [
        {
          "output_type": "stream",
          "name": "stdout",
          "text": [
            "Input the temprature in Celsius: 37\n",
            "37 degree Celsius = 98.60 Fahreheit\n"
          ]
        }
      ]
    },
    {
      "cell_type": "markdown",
      "source": [
        "#### $\\color{red}{\\textbf{Que:43}}$ How to prevent a python `print()` function to print a new line at the end?\n"
      ],
      "metadata": {
        "id": "EZH6Lrq65kM9"
      }
    },
    {
      "cell_type": "code",
      "source": [
        "print(\"Hello\", end=\" \")\n",
        "print(\"How\", end=\" \")\n",
        "print(\"are\", end=\" \")\n",
        "print(\"you?\", end=\" \")"
      ],
      "metadata": {
        "colab": {
          "base_uri": "https://localhost:8080/"
        },
        "id": "--1zJbfZZZte",
        "outputId": "2369b8e9-b48a-430d-a91b-33de51704f5b"
      },
      "execution_count": null,
      "outputs": [
        {
          "output_type": "stream",
          "name": "stdout",
          "text": [
            "Hello How are you? "
          ]
        }
      ]
    },
    {
      "cell_type": "markdown",
      "source": [
        "#### $\\color{red}{\\textbf{Que:44}}$ Write a **recurcive** function to calculate the sum of first `n` **natural** numbers?\n",
        "\n"
      ],
      "metadata": {
        "id": "vTCYQw4z5kQu"
      }
    },
    {
      "cell_type": "code",
      "source": [
        "n=int(input(\"Enter a number: \"))\n",
        "sum = 0\n",
        "\n",
        "while(n > 0):\n",
        "    sum=sum+n\n",
        "    n=n-1\n",
        "    \n",
        "print(\"The sum of first n natural numbers is\",sum)"
      ],
      "metadata": {
        "colab": {
          "base_uri": "https://localhost:8080/"
        },
        "id": "oo_hg1OCK0Tx",
        "outputId": "b0ab7242-ea86-499c-8cdb-861b88795ab9"
      },
      "execution_count": null,
      "outputs": [
        {
          "output_type": "stream",
          "name": "stdout",
          "text": [
            "Enter a number: 3\n",
            "The sum of first n natural numbers is 6\n"
          ]
        }
      ]
    },
    {
      "cell_type": "code",
      "source": [
        "# 1+2+3+4+5+6...\n",
        "# 1+2 = 3\n",
        "# 1+2+3 = 6\n",
        "# 1+2+3+4 = 10\n",
        "# 1+2+3+4+5 = 15\n",
        "# sum(n) = sum(n-1) + n\n",
        "\n",
        "def sum(n):\n",
        "    if n <= 1:\n",
        "        return n\n",
        "    else:\n",
        "        return sum(n-1) + n\n",
        "\n",
        "sum(5)"
      ],
      "metadata": {
        "colab": {
          "base_uri": "https://localhost:8080/"
        },
        "id": "wgzdPv5RL2j0",
        "outputId": "5f808cdd-4fac-4d42-823a-8abdd9e4a9e2"
      },
      "execution_count": null,
      "outputs": [
        {
          "output_type": "execute_result",
          "data": {
            "text/plain": [
              "15"
            ]
          },
          "metadata": {},
          "execution_count": 23
        }
      ]
    },
    {
      "cell_type": "code",
      "source": [
        "num=int(input(\"Enter a number: \"))\n",
        "\n",
        "def sum(n):\n",
        "    if n > 0:\n",
        "        return n + sum(n-1)\n",
        "    else:\n",
        "        return 0\n",
        "\n",
        "print(f\"The sum of first {num} natural numbers is {sum(num)}\")"
      ],
      "metadata": {
        "colab": {
          "base_uri": "https://localhost:8080/"
        },
        "id": "qZDJHwGKTk_V",
        "outputId": "c66a48e5-8692-438b-a331-67199eb4e917"
      },
      "execution_count": null,
      "outputs": [
        {
          "output_type": "stream",
          "name": "stdout",
          "text": [
            "Enter a number: 5\n",
            "The sum of first 5 natural numbers is 15\n"
          ]
        }
      ]
    },
    {
      "cell_type": "markdown",
      "source": [
        "#### $\\color{red}{\\textbf{Que:45}}$ Write the python function which convert `inch` to `cm`?"
      ],
      "metadata": {
        "id": "86MfCYMg5kVR"
      }
    },
    {
      "cell_type": "code",
      "source": [
        "# inch x 2.54 =  centimeters\n",
        "# inch to cm converter\n",
        "def inch(cm):\n",
        "    return 2.54 * cm\n",
        "\n",
        "i = int(input(\"Input the value in inchs: \"))\n",
        "c = inch(i)\n",
        "print(f\"{i} inchs = {c:.2f} cm\")"
      ],
      "metadata": {
        "colab": {
          "base_uri": "https://localhost:8080/"
        },
        "id": "kOAiMWHjzEtM",
        "outputId": "8cbd5b61-9681-43bd-9223-5371be423cd9"
      },
      "execution_count": null,
      "outputs": [
        {
          "output_type": "stream",
          "name": "stdout",
          "text": [
            "Input the value in inchs: 100\n",
            "100 inchs = 254.00 cm\n"
          ]
        }
      ]
    },
    {
      "cell_type": "markdown",
      "source": [
        "#### $\\color{red}{\\textbf{Que:46}}$ Write a python function  to remove a given word form a `string` and `strip` it at the same time?"
      ],
      "metadata": {
        "id": "YyouTOQQ5kZf"
      }
    },
    {
      "cell_type": "code",
      "source": [
        "def remove_and_strip(string, word):\n",
        "    newStr = string.replace(word, \"\")\n",
        "    return newStr.strip()\n",
        "\n",
        "this = \"     Python is easy to learn      \"\n",
        "n = remove_and_strip(this, \"easy\")\n",
        "print(n)"
      ],
      "metadata": {
        "colab": {
          "base_uri": "https://localhost:8080/"
        },
        "id": "FCKfJKvJHrmO",
        "outputId": "2c68f560-af7c-47db-e4c6-4fc2b2eaa39c"
      },
      "execution_count": null,
      "outputs": [
        {
          "output_type": "stream",
          "name": "stdout",
          "text": [
            "Python is  to learn\n"
          ]
        }
      ]
    },
    {
      "cell_type": "markdown",
      "source": [
        "#### $\\color{red}{\\textbf{Que:47}}$ Write a python function to print multiplication table of a given number?"
      ],
      "metadata": {
        "id": "tizvAl325kd8"
      }
    },
    {
      "cell_type": "code",
      "source": [
        "def mul_tab(num):\n",
        "    for i in range(1, 11):\n",
        "        print(f\"{num} X {i} = {num*i}\")\n",
        "\n",
        "mul_tab(9)"
      ],
      "metadata": {
        "colab": {
          "base_uri": "https://localhost:8080/"
        },
        "id": "2x_PONAiKn-z",
        "outputId": "18e69ceb-ebff-4b85-9968-d50fbc751e7b"
      },
      "execution_count": null,
      "outputs": [
        {
          "output_type": "stream",
          "name": "stdout",
          "text": [
            "9 X 1 = 9\n",
            "9 X 2 = 18\n",
            "9 X 3 = 27\n",
            "9 X 4 = 36\n",
            "9 X 5 = 45\n",
            "9 X 6 = 54\n",
            "9 X 7 = 63\n",
            "9 X 8 = 72\n",
            "9 X 9 = 81\n",
            "9 X 10 = 90\n"
          ]
        }
      ]
    },
    {
      "cell_type": "markdown",
      "source": [
        "`yield` and `return` in Python? \n",
        "\n",
        "`yield` - **Provide output and** $\\color{green}{\\textbf{CONTINUE}}$\n",
        "- it gives back the generator object.\n",
        "- it is used inside a function.\n",
        "- it keeps the states of local variable.\n",
        "- it does not exit the function. \n",
        "\n",
        "`return` - **Provide output and** $\\color{red}{\\textbf{STOP}}$\n",
        "- it gives back the actual returned value.\n",
        "- it is used inside a function.\n",
        "- it destroys the state of local varible.\n",
        "- it exit the function.  "
      ],
      "metadata": {
        "id": "b6av3E9ljl7Z"
      }
    },
    {
      "cell_type": "code",
      "source": [
        "def mul_tab(num):\n",
        "    for i in range(1, 11):\n",
        "        yield num*i\n",
        "\n",
        "list(mul_tab(9))"
      ],
      "metadata": {
        "colab": {
          "base_uri": "https://localhost:8080/"
        },
        "id": "j0qBOcVdgowM",
        "outputId": "436f29c4-eabf-4ffe-b0bd-8bf391b5e438"
      },
      "execution_count": null,
      "outputs": [
        {
          "output_type": "execute_result",
          "data": {
            "text/plain": [
              "[9, 18, 27, 36, 45, 54, 63, 72, 81, 90]"
            ]
          },
          "metadata": {},
          "execution_count": 89
        }
      ]
    },
    {
      "cell_type": "code",
      "source": [
        "def mul_tab(num):\n",
        "    for i in range(1, 11):\n",
        "        return num*i # 9(num) X 1(i) = 9 and then exit function\n",
        "\n",
        "mul_tab(9)"
      ],
      "metadata": {
        "colab": {
          "base_uri": "https://localhost:8080/"
        },
        "id": "vxIGBRoZmNVN",
        "outputId": "60f0f824-2477-452e-9d8e-7333659ee75e"
      },
      "execution_count": null,
      "outputs": [
        {
          "output_type": "execute_result",
          "data": {
            "text/plain": [
              "9"
            ]
          },
          "metadata": {},
          "execution_count": 94
        }
      ]
    },
    {
      "cell_type": "markdown",
      "source": [
        "#### $\\color{red}{\\textbf{Que:48}}$How to make your `own_range` function in python?\n"
      ],
      "metadata": {
        "id": "1Ng3cooab3OC"
      }
    },
    {
      "cell_type": "code",
      "source": [
        "   def own_range(start=0, end=0, step=1):\n",
        "\tif step == 0:\n",
        "\t\traise ValueError(\"own_range() arg 3 must be not zero\")\n",
        "\tif start > end and step < 0:\n",
        "\t\twhile start > end:\n",
        "\t\t\tyield start \n",
        "\t\t\tstart += step\n",
        "\telif start > end or (start != 0 or end == 0) and start != 0 and end == 0:\n",
        "\t\twhile end < start:\n",
        "\t\t\tyield end\n",
        "\t\t\tend += step\n",
        "\telif start == 0 and end != 0 and end > 0 and step > 0 or (start != 0 or end == 0) and start != 0 and start < end and step > 0:\n",
        "\t\twhile start < end:\n",
        "\t\t\tyield start\n",
        "\t\t\tstart += step\n",
        "\n",
        "print(list(own_range(0, 10, 2)))"
      ],
      "metadata": {
        "colab": {
          "base_uri": "https://localhost:8080/"
        },
        "id": "MxCIQeOsbWxN",
        "outputId": "3a95d205-b486-4f4c-af64-2bc85b598dae"
      },
      "execution_count": null,
      "outputs": [
        {
          "output_type": "stream",
          "name": "stdout",
          "text": [
            "[0, 2, 4, 6, 8]\n"
          ]
        }
      ]
    },
    {
      "cell_type": "markdown",
      "source": [
        "#### $\\color{red}{\\textbf{Que:49}}$Python Program to demonstrate the use of `sample()` function "
      ],
      "metadata": {
        "id": "S5IEFnB-KHpR"
      }
    },
    {
      "cell_type": "code",
      "source": [
        "# Python3 program to demonstrate\n",
        "# the use of sample() function .\n",
        "  \n",
        "# import random \n",
        "import random\n",
        "  \n",
        "  \n",
        "# Prints list of random items of\n",
        "# length 3 from the given list.\n",
        "list1 = [1, 2, 3, 4, 5, 6] \n",
        "print(\"With list:\", random.sample(list1, 3))\n",
        "  \n",
        "# Prints list of random items of\n",
        "# length 4 from the given string. \n",
        "string = \"GoogleColab\"\n",
        "print(\"With string:\", random.sample(string, 4))\n",
        "  \n",
        "# Prints list of random items of\n",
        "# length 4 from the given tuple.\n",
        "tuple1 = (\"faizy\", \"electronics\", \"science\",\n",
        "                   \"portal\", \"scientist\", \"Mtech\")\n",
        "print(\"With tuple:\", random.sample(tuple1, 4))\n",
        "  \n",
        "  \n",
        "# Prints list of random items of\n",
        "# length 3 from the given set.\n",
        "set1 = {\"a\", \"b\", \"c\", \"d\", \"e\"}\n",
        "print(\"With set:\", random.sample(set1, 3))"
      ],
      "metadata": {
        "colab": {
          "base_uri": "https://localhost:8080/"
        },
        "id": "3LcsIu_WsSaj",
        "outputId": "02843d87-601e-48c4-e6fc-3d88309b9a38"
      },
      "execution_count": null,
      "outputs": [
        {
          "output_type": "stream",
          "name": "stdout",
          "text": [
            "With list: [2, 1, 5]\n",
            "With string: ['b', 'l', 'o', 'o']\n",
            "With tuple: ['portal', 'Mtech', 'science', 'electronics']\n",
            "With set: ['c', 'e', 'a']\n"
          ]
        }
      ]
    },
    {
      "cell_type": "markdown",
      "source": [
        "#### $\\color{red}{\\textbf{Que:50}}$ Generate a password with length \"passlen\" with no duplicate characters in the password"
      ],
      "metadata": {
        "id": "OooU_y1HE3M0"
      }
    },
    {
      "cell_type": "markdown",
      "source": [
        "**Syntax** : `random.sample(sequence, k)`\n",
        "\n",
        "**Parameters**:\n",
        "- **sequence**: Can be a `list`, `tuple`, `string`, or `set`.\n",
        "- **k**: An Integer value, it specify the length of a sample.\n",
        "\n",
        "**Returns**: `k` length new list of elements chosen from the `sequence`."
      ],
      "metadata": {
        "id": "wkeh3B0_rzdm"
      }
    },
    {
      "cell_type": "code",
      "source": [
        "import random\n",
        "\n",
        "lower = \"abcdefghijklmnopqrstuvwxyz\"\n",
        "upper = \"ABCDEFGHIJKLMNOPQRSTUVWXYZ\" \n",
        "numbers= \"0123456789\"\n",
        "symbols = \"@_\"\n",
        "\n",
        "s = lower + upper + numbers + symbols\n",
        "\n",
        "passlen = 16\n",
        "password = \"\".join(random.sample(s, passlen))\n",
        "print(password)"
      ],
      "metadata": {
        "colab": {
          "base_uri": "https://localhost:8080/"
        },
        "id": "qHkOP1smgGzf",
        "outputId": "a926e86b-d536-4974-a35c-2b1e9b8e1355"
      },
      "execution_count": null,
      "outputs": [
        {
          "output_type": "stream",
          "name": "stdout",
          "text": [
            "WNyOnI0Lm63Hv5sU\n"
          ]
        }
      ]
    },
    {
      "cell_type": "markdown",
      "source": [
        "### $\\color{skyblue}{\\textbf{Connect with me:}}$\n",
        "\n",
        "\n",
        "[<img align=\"left\" alt=\"codeSTACKr | Twitter\" width=\"22px\" src=\"https://cdn.jsdelivr.net/npm/simple-icons@v3/icons/twitter.svg\" />][twitter]\n",
        "[<img align=\"left\" alt=\"codeSTACKr | LinkedIn\" width=\"22px\" src=\"https://cdn.jsdelivr.net/npm/simple-icons@v3/icons/linkedin.svg\" />][linkedin]\n",
        "[<img align=\"left\" alt=\"codeSTACKr.com\" width=\"22px\" src=\"https://raw.githubusercontent.com/iconic/open-iconic/master/svg/globe.svg\" />][StackExchange AI]\n",
        "\n",
        "[twitter]: https://twitter.com/F4izy\n",
        "[linkedin]: https://www.linkedin.com/in/mohd-faizy/\n",
        "[StackExchange AI]: https://ai.stackexchange.com/users/36737/cypher\n",
        "\n",
        "\n",
        "---\n",
        "\n",
        "\n"
      ],
      "metadata": {
        "id": "IhFpHVbn5kxt"
      }
    }
  ]
}