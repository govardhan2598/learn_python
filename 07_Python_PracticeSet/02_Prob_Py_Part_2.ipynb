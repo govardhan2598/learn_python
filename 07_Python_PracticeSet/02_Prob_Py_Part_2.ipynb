{
  "nbformat": 4,
  "nbformat_minor": 0,
  "metadata": {
    "colab": {
      "provenance": [],
      "collapsed_sections": [],
      "toc_visible": true
    },
    "kernelspec": {
      "name": "python3",
      "display_name": "Python 3"
    },
    "language_info": {
      "name": "python"
    }
  },
  "cells": [
    {
      "cell_type": "markdown",
      "source": [
        "# <center><b>Python Problems(51-)</b></center>"
      ],
      "metadata": {
        "id": "m2fVclY10-Ze"
      }
    },
    {
      "cell_type": "markdown",
      "source": [
        "#### $\\color{skyblue}{\\textbf{Recursion}}$\n",
        "\n",
        "https://www.w3resource.com/python-exercises/data-structures-and-algorithms/python-recursion.php"
      ],
      "metadata": {
        "id": "lz42gBnHVeR7"
      }
    },
    {
      "cell_type": "markdown",
      "source": [
        "How to hide `input()`? "
      ],
      "metadata": {
        "id": "_HSrxlZDV_xa"
      }
    },
    {
      "cell_type": "code",
      "source": [
        "import getpass\n",
        "\n",
        "password = getpass.getpass(\"Enter password: \")\n",
        "\n",
        "# print(password)"
      ],
      "metadata": {
        "colab": {
          "base_uri": "https://localhost:8080/"
        },
        "id": "TKn9QY08V2C4",
        "outputId": "b5fe734b-935e-44bf-d630-ec5915aba443"
      },
      "execution_count": null,
      "outputs": [
        {
          "name": "stdout",
          "output_type": "stream",
          "text": [
            "Entering password: ··········\n"
          ]
        }
      ]
    },
    {
      "cell_type": "markdown",
      "source": [
        "#### ***Working with*** $\\color{red}{\\textbf{text_files:}}$"
      ],
      "metadata": {
        "id": "_K0lh9YLVm4t"
      }
    },
    {
      "cell_type": "markdown",
      "source": [
        "- `r` $\\rightarrow$ open for `reading` \n",
        "- `w` $\\rightarrow$ open for `writing`\n",
        "- `a` $\\rightarrow$ open for `appending`\n",
        "- `+` $\\rightarrow$ open for `updating`\n",
        "- `'rb'` will open for read in `binary` mode. \n",
        "- `'rt'` will open for read in `text` mode. In case of text file `t` is by default."
      ],
      "metadata": {
        "id": "PsWwr3Xobgq5"
      }
    },
    {
      "cell_type": "code",
      "source": [
        "#create a new directory and give it a name\n",
        "! mkdir python_text"
      ],
      "metadata": {
        "id": "b9xmVxv9UHjM"
      },
      "execution_count": null,
      "outputs": []
    },
    {
      "cell_type": "code",
      "source": [
        "#move into the directory you just created\n",
        "! cd python_text"
      ],
      "metadata": {
        "id": "VGrSno0vUULD"
      },
      "execution_count": null,
      "outputs": []
    },
    {
      "cell_type": "code",
      "source": [
        "# changing the current working directory\n",
        "import os\n",
        "os.chdir('/content/python_text')"
      ],
      "metadata": {
        "id": "OhrMnv13UpMo"
      },
      "execution_count": null,
      "outputs": []
    },
    {
      "cell_type": "code",
      "source": [
        "pwd"
      ],
      "metadata": {
        "colab": {
          "base_uri": "https://localhost:8080/",
          "height": 35
        },
        "id": "YctjM4XHU5cO",
        "outputId": "4288b429-8a22-484e-b1e8-598954056318"
      },
      "execution_count": null,
      "outputs": [
        {
          "output_type": "execute_result",
          "data": {
            "text/plain": [
              "'/content/python_text'"
            ],
            "application/vnd.google.colaboratory.intrinsic+json": {
              "type": "string"
            }
          },
          "metadata": {},
          "execution_count": 5
        }
      ]
    },
    {
      "cell_type": "code",
      "source": [
        "#create empty files in the same directory:\n",
        "# ! touch file1.txt file2.py\n",
        "\n",
        "! touch sample1.txt sample2.txt sample3.txt "
      ],
      "metadata": {
        "id": "4PpmHDbzT_BV"
      },
      "execution_count": null,
      "outputs": []
    },
    {
      "cell_type": "code",
      "source": [
        "with open(\"sample1.txt\", \"w\") as f:\n",
        "    f.write(\"I am learning Python!\\n\")\n",
        "    f.write(\"I am really enjoying it!\\n\")\n",
        "    f.write(\"And I want to add more lines to say how much I like it\\n\")\n",
        "\n",
        "f = open(\"sample1.txt\", 'r')\n",
        "data = f.read()\n",
        "print(data)\n",
        "f.close()"
      ],
      "metadata": {
        "id": "rBXS0SSAj3Zs",
        "colab": {
          "base_uri": "https://localhost:8080/"
        },
        "outputId": "3a7d055b-5dab-4d06-e833-caa3607c9b25"
      },
      "execution_count": null,
      "outputs": [
        {
          "output_type": "stream",
          "name": "stdout",
          "text": [
            "I am learning Python!\n",
            "I am really enjoying it!\n",
            "And I want to add more lines to say how much I like it\n",
            "\n"
          ]
        }
      ]
    },
    {
      "cell_type": "markdown",
      "source": [
        "**How to append a text file in Python**"
      ],
      "metadata": {
        "id": "BM6v_lpOYTCy"
      }
    },
    {
      "cell_type": "code",
      "source": [
        "with open(\"sample1.txt\", \"a\") as f:\n",
        "    f.write(\"I am adding in more lines\\n\")\n",
        "    f.write(\"And more…\")\n",
        "\n",
        "# if we dont want to use f.close() we ue `with open()`\n",
        "# with open(\"sample2.txt\", \"r\") as f:\n",
        "#     print(f.read())\n",
        "\n",
        "f = open(\"sample1.txt\", 'r')\n",
        "data = f.read() \n",
        "print(data)\n",
        "f.close()"
      ],
      "metadata": {
        "id": "-vonl_nVYUvp",
        "colab": {
          "base_uri": "https://localhost:8080/"
        },
        "outputId": "9bec1653-68fc-45df-cfc0-7bf984c1b2cc"
      },
      "execution_count": null,
      "outputs": [
        {
          "output_type": "stream",
          "name": "stdout",
          "text": [
            "I am learning Python!\n",
            "I am really enjoying it!\n",
            "And I want to add more lines to say how much I like it\n",
            "I am adding in more lines\n",
            "And more…\n"
          ]
        }
      ]
    },
    {
      "cell_type": "code",
      "source": [
        "# Use open function to read the content of a file!\n",
        "f = open(\"sample1.txt\", 'r') # by default the mode is r\n",
        "# data = f.read()            # this will read complet sample1.txt file\n",
        "data = f.read(21)            # reads first 21 characters from the file\n",
        "\n",
        "print(data)\n",
        "print(len(data))\n",
        "            \n",
        "f.close()"
      ],
      "metadata": {
        "colab": {
          "base_uri": "https://localhost:8080/"
        },
        "id": "whITSB2LY-m4",
        "outputId": "85c8249c-5836-4578-96b4-2f8c53c762a7"
      },
      "execution_count": null,
      "outputs": [
        {
          "output_type": "stream",
          "name": "stdout",
          "text": [
            "I am learning Python!\n",
            "21\n"
          ]
        }
      ]
    },
    {
      "cell_type": "code",
      "source": [
        "with open(\"sample2.txt\", \"w\") as f:\n",
        "    f.write(\"twinkle twinkle little star how I wonder what you are!\")\n",
        "    \n",
        "with open(\"sample2.txt\", \"r\") as f:\n",
        "    print(f.read())"
      ],
      "metadata": {
        "id": "oaN4LQtUal2z",
        "colab": {
          "base_uri": "https://localhost:8080/"
        },
        "outputId": "fc0b3dc9-b64e-43d8-e56b-a3e8e11cdf67"
      },
      "execution_count": null,
      "outputs": [
        {
          "output_type": "stream",
          "name": "stdout",
          "text": [
            "twinkle twinkle little star how I wonder what you are!\n"
          ]
        }
      ]
    },
    {
      "cell_type": "code",
      "source": [
        "# if we want to read line by line\n",
        "\n",
        "f = open('sample1.txt')\n",
        "# read first line\n",
        "data = f.readline() \n",
        "print(data)\n",
        "\n",
        "# Read second line\n",
        "data = f.readline() \n",
        "print(data)\n",
        "\n",
        "# Read third line\n",
        "data = f.readline() \n",
        "print(data)\n",
        "\n",
        "# Read fourth line... and so on...\n",
        "data = f.readline() \n",
        "print(data)\n",
        "\n",
        "f.close()"
      ],
      "metadata": {
        "colab": {
          "base_uri": "https://localhost:8080/"
        },
        "id": "psSFNOi0hGwB",
        "outputId": "41737598-753b-4a1e-82c0-a2fb51e4b7b7"
      },
      "execution_count": null,
      "outputs": [
        {
          "output_type": "stream",
          "name": "stdout",
          "text": [
            "I am learning Python!\n",
            "\n",
            "I am really enjoying it!\n",
            "\n",
            "And I want to add more lines to say how much I like it\n",
            "\n",
            "I am adding in more lines\n",
            "\n"
          ]
        }
      ]
    },
    {
      "cell_type": "markdown",
      "source": [
        "#### $\\color{red}{\\textbf{Que:51}}$ Write a program to read the text form a given file `sample.txt` and find out whether it contains the word `twinkle`?"
      ],
      "metadata": {
        "id": "7HG49o4YeAXm"
      }
    },
    {
      "cell_type": "code",
      "source": [
        "# method-1\n",
        "f = open('sample2.txt')\n",
        "t = f.read()\n",
        "if 'twinkle' in t:\n",
        "    print(\"Twinkle is present\")\n",
        "else:\n",
        "    print(\"Twinkle is not present\")\n",
        "\n",
        "f.close()"
      ],
      "metadata": {
        "colab": {
          "base_uri": "https://localhost:8080/"
        },
        "id": "5dMBoBzLiG6g",
        "outputId": "fc0ba718-851e-4c14-bcb6-2656670b07d5"
      },
      "execution_count": null,
      "outputs": [
        {
          "output_type": "stream",
          "name": "stdout",
          "text": [
            "Twinkle is present\n"
          ]
        }
      ]
    },
    {
      "cell_type": "code",
      "source": [
        "# method-2\n",
        "with open('sample2.txt') as f:\n",
        "    f.read()\n",
        "    if 'twinkle' in t:\n",
        "        print(\"Twinkle is present\")\n",
        "    else:\n",
        "        print(\"Twinkle is not present\")"
      ],
      "metadata": {
        "colab": {
          "base_uri": "https://localhost:8080/"
        },
        "id": "T6zMb8G5ew1U",
        "outputId": "09e1d556-571c-4cba-9918-3e8befb0adb8"
      },
      "execution_count": null,
      "outputs": [
        {
          "output_type": "stream",
          "name": "stdout",
          "text": [
            "Twinkle is present\n"
          ]
        }
      ]
    },
    {
      "cell_type": "markdown",
      "source": [
        "#### $\\color{red}{\\textbf{Que:52}}$ The `game()` function in program lets a user play a game and returns the score as an integer. you need to read file `hiscore.txt` which is either **blank** or **contain** some previous `hi-score`. you need to write a program to update this `hi-score` whenever `game()` breaks the `hi-score`? "
      ],
      "metadata": {
        "id": "K9967mLhUXxb"
      }
    },
    {
      "cell_type": "code",
      "source": [
        "# creating a text file\n",
        "! touch hiscore.txt\n",
        "\n",
        "with open(\"hiscore.txt\", \"w\") as f:\n",
        "    f.write(\"99\")   # if blank, you score will be the current hi-score"
      ],
      "metadata": {
        "id": "D_Ik7Kl-juV3"
      },
      "execution_count": null,
      "outputs": []
    },
    {
      "cell_type": "code",
      "source": [
        "def game():\n",
        "    return int(input(\"Enter your Game Score: \"))\n",
        "\n",
        "score = game()\n",
        "\n",
        "with open(\"hiscore.txt\", 'r') as f:\n",
        "    hiScore_Str = f.read()\n",
        "\n",
        "# if the hi-score.txt file empty\n",
        "# this  will append the current score    \n",
        "if hiScore_Str=='':\n",
        "    with open(\"hiscore.txt\", \"w\") as f:\n",
        "        f.write(str(score))\n",
        "\n",
        "elif int(hiScore_Str)<score :\n",
        "    with open(\"hiscore.txt\", \"w\") as f:\n",
        "        f.write(str(score))\n",
        "\n",
        "with open(\"hiscore.txt\", \"r\") as f:\n",
        "    print(f\"Current hi-score is: {f.read()}\")"
      ],
      "metadata": {
        "id": "h8MVaasTjtYI",
        "colab": {
          "base_uri": "https://localhost:8080/"
        },
        "outputId": "036d7f46-2d1f-4a7d-cdec-fb989ae8a5ee"
      },
      "execution_count": null,
      "outputs": [
        {
          "output_type": "stream",
          "name": "stdout",
          "text": [
            "Enter your Game Score: 98\n",
            "Current hi-score is: 99\n"
          ]
        }
      ]
    },
    {
      "cell_type": "markdown",
      "source": [
        "#### $\\color{red}{\\textbf{Que:53}}$ Write a program to genrate multiplication tables\n",
        "from `2` to `10` and write it to the different files and place all these files in a seprate folder? "
      ],
      "metadata": {
        "id": "AhUng_VZjt0z"
      }
    },
    {
      "cell_type": "code",
      "source": [
        "#create a new directory and give it a name\n",
        "! mkdir /content/python_text/tables"
      ],
      "metadata": {
        "id": "dnVBPLKdrOpX"
      },
      "execution_count": null,
      "outputs": []
    },
    {
      "cell_type": "code",
      "source": [
        "for i in range(2, 11):\n",
        "    with open(f\"/content/python_text/tables/table_of_{i}.txt\", 'w') as f:\n",
        "        for j in range(1, 11):\n",
        "            f.write(f\"{i}X{j}={i*j}\")\n",
        "            if j!=10:   #\n",
        "                f.write('\\n')"
      ],
      "metadata": {
        "id": "tzlo03XSta_B"
      },
      "execution_count": null,
      "outputs": []
    },
    {
      "cell_type": "markdown",
      "source": [
        "#### $\\color{red}{\\textbf{Que:54}}$ A file contain a word `donkey` multiple times. you need to write a program which replace this word with `#$%@^$#` by updating the same file?"
      ],
      "metadata": {
        "id": "OzZHDUKHjujC"
      }
    },
    {
      "cell_type": "code",
      "source": [
        "with open(\"sample3.txt\", \"w\") as f:\n",
        "    f.write(\"Gonna ride that donkey, donkey\\n\")\n",
        "    f.write(\"Down to the honky tonky\\n\")\n",
        "    f.write(\"It's gonna get funky, funky\\n\")\n",
        "    f.write(\"Gonna ride that donkey, donkey\\n\")\n",
        "    f.write(\"Down to the honky tonky\\n\")\n",
        "    f.write(\"It's gonna get funky, funky\\n\")\n",
        "\n",
        "with open(\"sample3.txt\", \"r\") as f:\n",
        "    print(f.read())"
      ],
      "metadata": {
        "colab": {
          "base_uri": "https://localhost:8080/"
        },
        "id": "Jwv2xM_-Px4o",
        "outputId": "1f0b45d3-0848-471f-a2ca-55de0e15141b"
      },
      "execution_count": null,
      "outputs": [
        {
          "output_type": "stream",
          "name": "stdout",
          "text": [
            "Gonna ride that donkey, donkey\n",
            "Down to the honky tonky\n",
            "It's gonna get funky, funky\n",
            "Gonna ride that donkey, donkey\n",
            "Down to the honky tonky\n",
            "It's gonna get funky, funky\n",
            "\n"
          ]
        }
      ]
    },
    {
      "cell_type": "code",
      "source": [
        "with open(\"sample3.txt\", \"r\") as f:\n",
        "    content = f.read()\n",
        "\n",
        "content =  content.replace(\"donkey\", \"#$%@^$#\")\n",
        "\n",
        "with open(\"sample3.txt\", \"w\") as f:\n",
        "    f.write(content)\n",
        "\n",
        "with open(\"sample3.txt\", \"r\") as f:\n",
        "    print(f.read())"
      ],
      "metadata": {
        "colab": {
          "base_uri": "https://localhost:8080/"
        },
        "id": "JzuXsewRRuD5",
        "outputId": "87934c8f-6a20-483c-dbbd-fb7c3e25a68e"
      },
      "execution_count": null,
      "outputs": [
        {
          "output_type": "stream",
          "name": "stdout",
          "text": [
            "Gonna ride that #$%@^$#, #$%@^$#\n",
            "Down to the honky tonky\n",
            "It's gonna get funky, funky\n",
            "Gonna ride that #$%@^$#, #$%@^$#\n",
            "Down to the honky tonky\n",
            "It's gonna get funky, funky\n",
            "\n"
          ]
        }
      ]
    },
    {
      "cell_type": "markdown",
      "source": [
        "**Censoring the multiple words**"
      ],
      "metadata": {
        "id": "MyvOFKJeTHGt"
      }
    },
    {
      "cell_type": "code",
      "source": [
        "words = [\"donkey\", \"honky\", \"tonky\"]\n",
        "\n",
        "with open(\"sample3.txt\", \"r\") as f:\n",
        "    content = f.read()\n",
        "\n",
        "for word in words:\n",
        "    content =  content.replace(word, \"#$%@^$#\")\n",
        "\n",
        "with open(\"sample3.txt\", \"w\") as f:\n",
        "    f.write(content)\n",
        "\n",
        "with open(\"sample3.txt\", \"r\") as f:\n",
        "    print(f.read())"
      ],
      "metadata": {
        "colab": {
          "base_uri": "https://localhost:8080/"
        },
        "id": "gciM1_J6TFM8",
        "outputId": "912e6e40-e8df-49c6-f91b-bd0a2b9ccd19"
      },
      "execution_count": null,
      "outputs": [
        {
          "output_type": "stream",
          "name": "stdout",
          "text": [
            "Gonna ride that #$%@^$#, #$%@^$#\n",
            "Down to the #$%@^$# #$%@^$#\n",
            "It's gonna get funky, funky\n",
            "Gonna ride that #$%@^$#, #$%@^$#\n",
            "Down to the #$%@^$# #$%@^$#\n",
            "It's gonna get funky, funky\n",
            "\n"
          ]
        }
      ]
    },
    {
      "cell_type": "markdown",
      "source": [
        "#### $\\color{red}{\\textbf{Que:55}}$ write a program to mine a `.log` file and find out whether it contain the word `python` and also find the line number where the python is present? "
      ],
      "metadata": {
        "id": "kfMACQ9ujvEM"
      }
    },
    {
      "cell_type": "code",
      "source": [
        "! gdown 1OosCVAwrWfkPXunnpOLHYlGGVnEkwclp"
      ],
      "metadata": {
        "colab": {
          "base_uri": "https://localhost:8080/"
        },
        "id": "jUotDRCqKCy0",
        "outputId": "71875d36-f4c0-4c25-f4ca-9993b3b84ca6"
      },
      "execution_count": null,
      "outputs": [
        {
          "output_type": "stream",
          "name": "stdout",
          "text": [
            "Downloading...\n",
            "From: https://drive.google.com/uc?id=1OosCVAwrWfkPXunnpOLHYlGGVnEkwclp\n",
            "To: /content/python_text/log.txt\n",
            "\r  0% 0.00/11.4k [00:00<?, ?B/s]\r100% 11.4k/11.4k [00:00<00:00, 16.8MB/s]\n"
          ]
        }
      ]
    },
    {
      "cell_type": "code",
      "source": [
        "with open(\"log.txt\", \"r\") as f:\n",
        "    content = f.read().lower() # this will eliminate the case-sensetive problem\n",
        "\n",
        "if 'python' in content:  # case-sensetive: to fix this -> use `.lower()` \n",
        "    print(\"Yes! python is present\")\n",
        "else:\n",
        "    print(\"No! python is not present\")"
      ],
      "metadata": {
        "colab": {
          "base_uri": "https://localhost:8080/"
        },
        "id": "RNH8r0HEWEaf",
        "outputId": "df5a72ea-3ab6-4a68-9ed8-d9b2fff2e5e5"
      },
      "execution_count": null,
      "outputs": [
        {
          "output_type": "stream",
          "name": "stdout",
          "text": [
            "Yes! python is present\n"
          ]
        }
      ]
    },
    {
      "cell_type": "markdown",
      "source": [
        "**finding the line-number where the python is present in the log file**"
      ],
      "metadata": {
        "id": "4h2AOP9CatAP"
      }
    },
    {
      "cell_type": "code",
      "source": [
        "content = True\n",
        "i = 1\n",
        "\n",
        "with open(\"log.txt\", \"r\") as f:\n",
        "    while content:\n",
        "        content = f.readline()\n",
        "        if 'python' in content.lower():  \n",
        "            print(content)\n",
        "            print(f\"Yes! python is presentand line numer is {i}\\n\")\n",
        "        i+=1"
      ],
      "metadata": {
        "colab": {
          "base_uri": "https://localhost:8080/"
        },
        "id": "ZwNqBFUYYQq5",
        "outputId": "bb7944af-f1f3-483c-9a28-6c1a9218d64f"
      },
      "execution_count": null,
      "outputs": [
        {
          "output_type": "stream",
          "name": "stdout",
          "text": [
            "03/22 08:51:06 INFO   :...mailbox_register: Python has stopped working\n",
            "\n",
            "Yes! python is presentand line numer is 21\n",
            "\n",
            "03/22 08:51:06 INFO   python :.....mailslot_create: creating mailslot for RSVP via UDP\n",
            "\n",
            "Yes! python is presentand line numer is 39\n",
            "\n"
          ]
        }
      ]
    },
    {
      "cell_type": "markdown",
      "source": [
        "#### $\\color{red}{\\textbf{Que:56}}$ Write a program to make a copy of text file `sample3.txt`?"
      ],
      "metadata": {
        "id": "LMg-PeuZjxhD"
      }
    },
    {
      "cell_type": "code",
      "source": [
        "with open(\"sample3.txt\", \"r\") as f:\n",
        "    content = f.read()\n",
        "\n",
        "with open(\"copy_sample3.txt\", \"w\") as f:\n",
        "    f.write(content)\n",
        "\n",
        "with open(\"copy_sample3.txt\") as f:\n",
        "    print(f.read())"
      ],
      "metadata": {
        "id": "esMoKpoRjylv",
        "colab": {
          "base_uri": "https://localhost:8080/"
        },
        "outputId": "accff980-8413-4ee7-f185-d0c67c760dc0"
      },
      "execution_count": null,
      "outputs": [
        {
          "output_type": "stream",
          "name": "stdout",
          "text": [
            "Gonna ride that #$%@^$#, #$%@^$#\n",
            "Down to the #$%@^$# #$%@^$#\n",
            "It's gonna get funky, funky\n",
            "Gonna ride that #$%@^$#, #$%@^$#\n",
            "Down to the #$%@^$# #$%@^$#\n",
            "It's gonna get funky, funky\n",
            "\n"
          ]
        }
      ]
    },
    {
      "cell_type": "markdown",
      "source": [
        "#### $\\color{red}{\\textbf{Que:57}}$ write a program to find out whether a file is identical & matches the content of another file?"
      ],
      "metadata": {
        "id": "lknhclbOjxrO"
      }
    },
    {
      "cell_type": "code",
      "source": [
        "# file1 = 'log.txt'\n",
        "file1 = 'copy_sample3.txt'\n",
        "file2 = 'sample3.txt'\n",
        "\n",
        "with open(file1) as f:\n",
        "    f1 = f.read()\n",
        "\n",
        "with open(file2) as f:\n",
        "    f2 = f.read()\n",
        "\n",
        "if f1==f2:\n",
        "    print(\"Files are identical\")\n",
        "else:\n",
        "    print(\"Files are not identical\")"
      ],
      "metadata": {
        "id": "XyPu_XP4jzU2",
        "colab": {
          "base_uri": "https://localhost:8080/"
        },
        "outputId": "5648355d-d6c0-4890-aeac-3b13b59f6223"
      },
      "execution_count": null,
      "outputs": [
        {
          "output_type": "stream",
          "name": "stdout",
          "text": [
            "Files are identical\n"
          ]
        }
      ]
    },
    {
      "cell_type": "markdown",
      "source": [
        "#### $\\color{red}{\\textbf{Que:58}}$ Write a program to wipe out the content of a file using python?"
      ],
      "metadata": {
        "id": "d6Xm5BDcjx2p"
      }
    },
    {
      "cell_type": "code",
      "source": [
        "with open('copy_sample3.txt', 'w') as f:\n",
        "    f.write(\" \")\n",
        "\n",
        "with open('copy_sample3.txt', 'r') as f:\n",
        "    print(f.read())"
      ],
      "metadata": {
        "id": "YEKFViigjz_W",
        "colab": {
          "base_uri": "https://localhost:8080/"
        },
        "outputId": "fdb0cd7c-f727-4b92-92b3-d99061238910"
      },
      "execution_count": null,
      "outputs": [
        {
          "output_type": "stream",
          "name": "stdout",
          "text": [
            " \n"
          ]
        }
      ]
    },
    {
      "cell_type": "markdown",
      "source": [
        "#### $\\color{red}{\\textbf{Que:59}}$ Write a python program to rename a file to `renamed_by_python.txt`"
      ],
      "metadata": {
        "id": "c2siaPHHjx-D"
      }
    },
    {
      "cell_type": "code",
      "source": [
        "import os\n",
        "\n",
        "oldname = 'sample2.txt'\n",
        "newname = 'renamed_by_python.txt'\n",
        "\n",
        "with open(oldname) as f:\n",
        "    content = f.read()\n",
        "\n",
        "with open(newname, 'w') as f:\n",
        "    f.write(content)\n",
        "\n",
        "os.remove(oldname)"
      ],
      "metadata": {
        "id": "Z2JPlOMCj0wl"
      },
      "execution_count": null,
      "outputs": []
    },
    {
      "cell_type": "markdown",
      "source": [
        "#### $\\color{red}{\\textbf{Que:60}}$ Create a `class` programmer for storing information of few programmers working at MicroSoft?"
      ],
      "metadata": {
        "id": "AKfZP2kl0B_U"
      }
    },
    {
      "cell_type": "code",
      "source": [
        "class Programmer:\n",
        "    company = \"Microsoft\" # class attribute\n",
        "    def __init__(self, name, product):\n",
        "        self.name = name\n",
        "        self.product = product\n",
        "    \n",
        "    def getInfo(self):    # Methods of a class\n",
        "        print(f\"The name of companey {self.company} and programmer is {self.name} and the product is {self.product}\")\n",
        "\n",
        "# creating the object of class\n",
        "pro_1 = Programmer(\"jhon\", \"Skype\") \n",
        "pro_2 = Programmer(\"maria\", \"Github\")\n",
        "\n",
        "pro_1.getInfo()\n",
        "pro_2.getInfo()"
      ],
      "metadata": {
        "id": "TpwOw5vB0Lk1",
        "colab": {
          "base_uri": "https://localhost:8080/"
        },
        "outputId": "76c0df4a-fb7a-42b3-8e2f-acdc0cb7fe7c"
      },
      "execution_count": null,
      "outputs": [
        {
          "output_type": "stream",
          "name": "stdout",
          "text": [
            "The name of companey Microsoft and programmer is jhon and the product is Skype\n",
            "The name of companey Microsoft and programmer is maria and the product is Github\n"
          ]
        }
      ]
    },
    {
      "cell_type": "markdown",
      "source": [
        "#### $\\color{red}{\\textbf{Que:61}}$ Write a class **claculator** capable of finding **square**, **cube** and **squareroot** of a number?"
      ],
      "metadata": {
        "id": "QOnWgO7Z0Hpr"
      }
    },
    {
      "cell_type": "code",
      "source": [
        "class Calculator:\n",
        "    def __init__(self, num):\n",
        "        self.number = num\n",
        "    \n",
        "    def square(self):\n",
        "        return self.number**2\n",
        "             \n",
        "    def cube(self):\n",
        "        return self.number**3\n",
        "        \n",
        "    def sqrt(self):\n",
        "        return self.number**0.5\n",
        "\n",
        "a = int(input(\"Enter the Number: \"))\n",
        "calc = Calculator(a)\n",
        "\n",
        "print(f\"Square of the {a} is: {calc.square()}\")\n",
        "print(f\"Cube of the {a} is: {calc.cube()}\")\n",
        "print(f\"SquareRoot of the {a} is: {calc.sqrt()}\")"
      ],
      "metadata": {
        "id": "kx4vK1g20MbH",
        "colab": {
          "base_uri": "https://localhost:8080/"
        },
        "outputId": "df322e1f-0f0d-48f9-9ef9-9fe3bd152856"
      },
      "execution_count": null,
      "outputs": [
        {
          "output_type": "stream",
          "name": "stdout",
          "text": [
            "Enter the Number: 9\n",
            "Square of the 9 is: 81\n",
            "Cube of the 9 is: 729\n",
            "SquareRoot of the 9 is: 3.0\n"
          ]
        }
      ]
    },
    {
      "cell_type": "code",
      "source": [
        "class Calculator:\n",
        "    def __init__(self, num):\n",
        "        self.number = num\n",
        "\n",
        "    def square(self):\n",
        "        print(f\"The value of {self.number} square is {self.number **2}\")\n",
        "\n",
        "    def squareRoot(self):\n",
        "        print(f\"The value of {self.number} square root is {self.number **0.5}\")\n",
        "\n",
        "    def cube(self):\n",
        "        print(f\"The value of {self.number} cube is {self.number **3}\")\n",
        "\n",
        "a = Calculator(9)\n",
        "a.square()\n",
        "a.squareRoot() \n",
        "a.cube()"
      ],
      "metadata": {
        "colab": {
          "base_uri": "https://localhost:8080/"
        },
        "id": "Bqt2DKaMfPyv",
        "outputId": "cb5b34a7-1570-4acd-b5f8-df6984f4b292"
      },
      "execution_count": null,
      "outputs": [
        {
          "output_type": "stream",
          "name": "stdout",
          "text": [
            "The value of 9 square is 81\n",
            "The value of 9 square root is 3.0\n",
            "The value of 9 cube is 729\n"
          ]
        }
      ]
    },
    {
      "cell_type": "markdown",
      "source": [
        "#### $\\color{red}{\\textbf{Que:62}}$ Create a class with a class attribute `a` and  create an object form it and set it `object.a = 0`. Does this change the class attribute?"
      ],
      "metadata": {
        "id": "Giep_PNg0HuA"
      }
    },
    {
      "cell_type": "code",
      "source": [
        "class Sample:\n",
        "    a = \"jhon\"\n",
        "\n",
        "obj = Sample()\n",
        "obj.a = 0            # This won't the class attribute\n",
        "#  \n",
        "\n",
        "print(Sample.a)\n",
        "print(obj.a)"
      ],
      "metadata": {
        "id": "V5_JQrWt0M_b",
        "colab": {
          "base_uri": "https://localhost:8080/"
        },
        "outputId": "2fc53953-088a-47c8-ab09-60a9754a7225"
      },
      "execution_count": null,
      "outputs": [
        {
          "output_type": "stream",
          "name": "stdout",
          "text": [
            "jhon\n",
            "0\n"
          ]
        }
      ]
    },
    {
      "cell_type": "markdown",
      "source": [
        "#### $\\color{red}{\\textbf{Que:63}}$ Add the static method in $\\color{red}{\\textbf{problem:61}}$ to greet the user with hello!?"
      ],
      "metadata": {
        "id": "9AfdPUFd0Hyn"
      }
    },
    {
      "cell_type": "code",
      "source": [
        "class Calculator:\n",
        "    def __init__(self, num):\n",
        "        self.number = num\n",
        "\n",
        "    def square(self):\n",
        "        print(f\"The value of {self.number} square is {self.number **2}\")\n",
        "\n",
        "    def squareRoot(self):\n",
        "        print(f\"The value of {self.number} square root is {self.number **0.5}\")\n",
        "\n",
        "    def cube(self):\n",
        "        print(f\"The value of {self.number} cube is {self.number **3}\")\n",
        "    \n",
        "    @staticmethod\n",
        "    def greet():\n",
        "        print(\"***Hello there welcome to the best calculator of the world***\")\n",
        "\n",
        "a = Calculator(9)\n",
        "a.greet()\n",
        "a.square()\n",
        "a.squareRoot() \n",
        "a.cube()"
      ],
      "metadata": {
        "id": "8jYhrNTx0Q6D",
        "colab": {
          "base_uri": "https://localhost:8080/"
        },
        "outputId": "1c03fab9-13a5-416e-c6e4-df1a57554d55"
      },
      "execution_count": null,
      "outputs": [
        {
          "output_type": "stream",
          "name": "stdout",
          "text": [
            "***Hello there welcome to the best calculator of the world***\n",
            "The value of 9 square is 81\n",
            "The value of 9 square root is 3.0\n",
            "The value of 9 cube is 729\n"
          ]
        }
      ]
    },
    {
      "cell_type": "markdown",
      "source": [
        "#### $\\color{red}{\\textbf{Que:64}}$ Write a `class Train` which has methods to book a ticket, `getStatus(no_of_seats)` and `getFare` information of trains running under indian railways?"
      ],
      "metadata": {
        "id": "pUNzyuAy0H2t"
      }
    },
    {
      "cell_type": "code",
      "source": [
        "class Train:\n",
        "    def __init__(self, name, seats):\n",
        "        self.name = name\n",
        "        self.seats = seats\n",
        "\n",
        "    def getStatus(self):\n",
        "        if self.seats > 0 and self.seats < 73:\n",
        "            print(\"--------------------------------------------------\")\n",
        "            print(f\"Seats available : {self.seats}\")\n",
        "            print(\"--------------------------------------------------\")\n",
        "        else:\n",
        "            print(\"No! seats are avalible\")\n",
        "\n",
        "    def bookTicket(self):\n",
        "        if self.seats > 0 and self.seats < 73:\n",
        "            print(\"--------------------------------------------------\")\n",
        "            print(f\"Your ticket has been booked!\")\n",
        "            print(\"--------------------------------------------------\")\n",
        "            print(f\"Train name: {self.name}\")\n",
        "            self.seats = self.seats - 1\n",
        "        else:\n",
        "            print(\"Sorry this train is full! Kindly try in tatkal\")\n",
        "\n",
        "    @staticmethod\n",
        "    def fareInfo(s):\n",
        "        if s > 0 and s < 73:\n",
        "            if s % 8 == 1 or s % 8 == 4:\n",
        "                return \"Rs 100\"\n",
        "            elif s % 8 == 2 or s % 8 == 5:\n",
        "                return \"Rs 90\"\n",
        "            elif s % 8 == 3 or s % 8 == 6:\n",
        "                return \"Rs 80\"\n",
        "            elif s % 8 == 7:\n",
        "                return \"Rs 120\"\n",
        "            else:\n",
        "                return \"Rs 140\"\n",
        "        else:\n",
        "            return \"Error :( Try again\"\n",
        "                            \n",
        "    @staticmethod\n",
        "    def berth_type(s):\n",
        "        if s > 0 and s < 73:\n",
        "            if s % 8 == 1 or s % 8 == 4:\n",
        "                return \"Lower Berth\"\n",
        "            elif s % 8 == 2 or s % 8 == 5:\n",
        "                return \"Middle Berth\"\n",
        "            elif s % 8 == 3 or s % 8 == 6:\n",
        "                return \"Upper Berth\"\n",
        "            elif s % 8 == 7:\n",
        "                return \"Side Lower Berth\"\n",
        "            else:\n",
        "                return \"Side Upper Berth\"\n",
        "        else:\n",
        "            return \"Invalid seat Number\"\n",
        "    \n",
        "    def cancleTicket(self):\n",
        "        if self.seats > 0 and self.seats < 73:\n",
        "            print(f\"Your ticket has been cancelled! Your seat number is {self.seats+1}\")\n",
        "            self.seats = self.seats + 1\n",
        "        else:\n",
        "            print(\"No ticket to cancel\")\n",
        "\n",
        "\n",
        "s = int(input(\"Enter the seat number: \")) \n",
        "# Creating the object of a class\n",
        "intercity = Train(\"Intercity Express: 12036\", s)\n",
        "\n",
        "intercity.bookTicket()                        # Booking the ticket\n",
        "print(f\"Seat number: {s}\")\n",
        "print(f\"seat location: {intercity.berth_type(s)}\") \n",
        "print(f\"Seat fare: {intercity.fareInfo(s)}\")\n",
        "intercity.getStatus()                         # Status after booking \n",
        "intercity.cancleTicket()                      # ticket Cancellation  \n",
        "intercity.getStatus()                         # Status after Cancellation"
      ],
      "metadata": {
        "id": "SEuIatXV0Qij",
        "colab": {
          "base_uri": "https://localhost:8080/"
        },
        "outputId": "cdc93085-84ab-4e39-b6f9-9b1b3a85535b"
      },
      "execution_count": null,
      "outputs": [
        {
          "output_type": "stream",
          "name": "stdout",
          "text": [
            "Enter the seat number: 12\n",
            "--------------------------------------------------\n",
            "Your ticket has been booked!\n",
            "--------------------------------------------------\n",
            "Train name: Intercity Express: 12036\n",
            "Seat number: 12\n",
            "seat location: Lower Berth\n",
            "Seat fare: Rs 100\n",
            "--------------------------------------------------\n",
            "Seats available : 11\n",
            "--------------------------------------------------\n",
            "Your ticket has been cancelled! Your seat number is 12\n",
            "--------------------------------------------------\n",
            "Seats available : 12\n",
            "--------------------------------------------------\n"
          ]
        }
      ]
    },
    {
      "cell_type": "markdown",
      "source": [
        "#### $\\color{red}{\\textbf{Que:65}}$ Can we change the `self` parameter inside a class to something else. try changing `self` $\\rightarrow$ `slf` and see the effect?"
      ],
      "metadata": {
        "id": "N22zgXIE0H7S"
      }
    },
    {
      "cell_type": "code",
      "source": [
        "class Sample:\n",
        "    def __init__(slf, name):\n",
        "        slf.name = name\n",
        "\n",
        "obj = Sample(\"jhon\")\n",
        "obj.a = \"mark\"            \n",
        "print(obj.name)"
      ],
      "metadata": {
        "id": "TjXbKGVY0P-Y",
        "colab": {
          "base_uri": "https://localhost:8080/"
        },
        "outputId": "5516abd1-4412-4514-f697-3d0dbe12a160"
      },
      "execution_count": null,
      "outputs": [
        {
          "output_type": "stream",
          "name": "stdout",
          "text": [
            "jhon\n"
          ]
        }
      ]
    },
    {
      "cell_type": "markdown",
      "source": [
        "Yes! we can but it, as its just a parameter like other, but doing this will decrese the Code readability."
      ],
      "metadata": {
        "id": "5no6gPkDMU9e"
      }
    },
    {
      "cell_type": "markdown",
      "source": [
        "#### $\\color{red}{\\textbf{Que:66}}$ Create a class `C2dVec` vector and use it to create another class representing a `C3dVec` Vector?"
      ],
      "metadata": {
        "id": "-TctNCwQ0H_5"
      }
    },
    {
      "cell_type": "code",
      "source": [
        "class C2dVec:\n",
        "    def __init__(self, i, j):\n",
        "        self.icap = i\n",
        "        self.jcap = j\n",
        "\n",
        "    def __str__(self):\n",
        "        return f\"{self.icap}i + {self.jcap}j\"\n",
        "    \n",
        "\n",
        "class C3dVec(C2dVec):\n",
        "    def __init__(self, i, j, k):\n",
        "        super().__init__(i, j)\n",
        "        self.kcap = k\n",
        "\n",
        "    def __str__(self):\n",
        "        return f\"{self.icap}i + {self.jcap}j + {self.kcap}k\"\n",
        "\n",
        "v2d = C2dVec(1, 2)\n",
        "v3d = C3dVec(1, 2, 3)\n",
        "\n",
        "print(v2d)\n",
        "print(v3d)"
      ],
      "metadata": {
        "id": "xTas4DNZ0PYf",
        "colab": {
          "base_uri": "https://localhost:8080/"
        },
        "outputId": "2d237933-cb20-409c-b559-10a356a80387"
      },
      "execution_count": null,
      "outputs": [
        {
          "output_type": "stream",
          "name": "stdout",
          "text": [
            "1i + 2j\n",
            "1i + 2j + 3k\n"
          ]
        }
      ]
    },
    {
      "cell_type": "markdown",
      "source": [
        "#### $\\color{red}{\\textbf{Que:67}}$ Create a `class Pet:` from a `class Animal` and further create `class Dog` from pets. Add a method bark to the class Dog?"
      ],
      "metadata": {
        "id": "SmW_aCLY0IEz"
      }
    },
    {
      "cell_type": "code",
      "source": [
        "class Animal:\n",
        "    animalType = \"Mammal\"\n",
        "\n",
        "class Pet(Animal):\n",
        "    color = \"white\"\n",
        "\n",
        "class Dog(Pet):    \n",
        "    @staticmethod\n",
        "    def bark():\n",
        "        print(\"Woof!\")\n",
        "\n",
        "tommy = Dog()\n",
        "tommy.bark()"
      ],
      "metadata": {
        "id": "1A2Ae39s0O6f",
        "colab": {
          "base_uri": "https://localhost:8080/"
        },
        "outputId": "e6e73fca-4f9c-402c-af80-d41af91dd4a8"
      },
      "execution_count": null,
      "outputs": [
        {
          "output_type": "stream",
          "name": "stdout",
          "text": [
            "Woof!\n"
          ]
        }
      ]
    },
    {
      "cell_type": "markdown",
      "source": [
        "#### $\\color{red}{\\textbf{Que:68}}$ Create a `class Employee:` and add `salary` and `increment` properties to it. Write a $\\color{skyblue}{\\textbf{getter}}$ method `getSalary()` and $\\color{skyblue}{\\textbf{setter}}$  `setSalary()` which changes the value of increment based on the salary?\n",
        "\n",
        "\n"
      ],
      "metadata": {
        "id": "i8nTpMww0II5"
      }
    },
    {
      "cell_type": "code",
      "source": [
        "class Employee:\n",
        "    companey = \"Google\"\n",
        "    def __init__(self, salary, increment):\n",
        "        self.salary = salary\n",
        "        self.increment = increment\n",
        "\n",
        "    # getter - Syntax: @property\n",
        "    @property\n",
        "    def getSalary(self):\n",
        "        return self.salary + self.increment\n",
        "\n",
        "    # setter - Syntax: @name.setter\n",
        "    @getSalary.setter\n",
        "    def setSalary(self, newSalary):\n",
        "        self.increment = newSalary- self.salary\n",
        "\n",
        "emp = Employee(5000, 600)\n",
        "print(f\"Basic Salary: {emp.salary}\")\n",
        "print(f\"Old Increment: {emp.increment}\")\n",
        "print(f\"Old Gross Salary: {emp.getSalary}\")   # without setter\n",
        "# emp.getSalary = 6100                  # getter method can't set attribute like this\n",
        "\n",
        "# seting attribute using setter\n",
        "emp.setSalary = int(input(\"Enter New Gross Salary: \"))\n",
        "print(f\"Basic Salary: {emp.salary}\")\n",
        "print(f\"New Increment: {emp.increment}\")"
      ],
      "metadata": {
        "id": "4BDeTgpT0OK3",
        "colab": {
          "base_uri": "https://localhost:8080/"
        },
        "outputId": "2ff6db74-10f6-4b07-eabf-2a0610349d74"
      },
      "execution_count": null,
      "outputs": [
        {
          "output_type": "stream",
          "name": "stdout",
          "text": [
            "Basic Salary: 5000\n",
            "Old Increment: 600\n",
            "Old Gross Salary: 5600\n",
            "Enter New Gross Salary: 6000\n",
            "Basic Salary: 5000\n",
            "New Increment: 1000\n"
          ]
        }
      ]
    },
    {
      "cell_type": "markdown",
      "source": [
        "#### $\\color{red}{\\textbf{Que:69}}$ Write a `class Complex:` to represent complex number, which uses overload operator `__add__` and `__mul__` to add and multiply them?"
      ],
      "metadata": {
        "id": "Ii2YX6m10INT"
      }
    },
    {
      "cell_type": "markdown",
      "source": [
        "**Complex addition:**\n",
        "$$(a + ib)+(c + id) = (a+c) + i(b+d)$$\n",
        "\n",
        "**Complex Multiplication:**\n",
        "$$(a + ib).(c + id) = ac + iad + ibc + i^2bd$$\n",
        "where: $i^2 = -1$\n",
        "$$Or$$\n",
        "$$(a + ib).(c + id) = (ac - bd)+i(ad + bc)$$ \n"
      ],
      "metadata": {
        "id": "ZYhIeo7Ctbo1"
      }
    },
    {
      "cell_type": "code",
      "execution_count": null,
      "metadata": {
        "id": "OQk8PjyCSNF4",
        "colab": {
          "base_uri": "https://localhost:8080/"
        },
        "outputId": "a4ec89aa-a2f2-4197-937d-a5bd34097beb"
      },
      "outputs": [
        {
          "output_type": "stream",
          "name": "stdout",
          "text": [
            "4+6i\n",
            "-5+10i\n",
            "4-6i\n",
            "-5-10i\n"
          ]
        }
      ],
      "source": [
        "class Complex:\n",
        "    def __init__(self, real, imag):\n",
        "        self.real = real\n",
        "        self.imag = imag\n",
        "\n",
        "    def __add__(self, other):\n",
        "        addReal = self.real + other.real\n",
        "        addImag = self.imag + other.imag\n",
        "        return Complex(addReal, addImag)\n",
        "\n",
        "    def __mul__(self, other):\n",
        "        mulReal = self.real * other.real - self.imag * other.imag\n",
        "        mulImag = self.real * other.imag + self.imag * other.real\n",
        "        return Complex(mulReal, mulImag)\n",
        "\n",
        "    def __str__(self):\n",
        "        if self.imag < 0: \n",
        "            return f\"{self.real}-{-self.imag}i\"\n",
        "        else:\n",
        "            return f\"{self.real}+{self.imag}i\"\n",
        "\n",
        "a = Complex(1, 2)\n",
        "b = Complex(3, 4)\n",
        "c = Complex(1, -2)\n",
        "d = Complex(3, -4)\n",
        "\n",
        "print(a + b)\n",
        "print(a * b)\n",
        "print(c + d)\n",
        "print(c * d)"
      ]
    },
    {
      "cell_type": "markdown",
      "source": [
        "#### $\\color{red}{\\textbf{Que:70}}$ Write a `class Vector:` representing a vector of `n` dimension. Overload  `__add__` and `__mul__` operator which calculate the `sum` and the `dot` product of them?"
      ],
      "metadata": {
        "id": "aeM1wwbsnmmk"
      }
    },
    {
      "cell_type": "code",
      "source": [
        "class Vector:\n",
        "    def __init__(self, vec1):\n",
        "        self.vec1 = vec1\n",
        "\n",
        "    def __str__(self):\n",
        "        str1 = \" \"\n",
        "        index = 0\n",
        "        for i in self.vec1:\n",
        "            str1 += f\"{i}a{index} +\"\n",
        "            index += 1\n",
        "        return str1[:-1] # this will eliminate the '+' in the end\n",
        "\n",
        "    def __add__(self, vec2):\n",
        "        newList = []\n",
        "        for i in range(len(self.vec1)):\n",
        "            newList.append(self.vec1[i] + vec2.vec1[i])\n",
        "        return Vector(newList)\n",
        "       \n",
        "    def __mul__(self, vec2):\n",
        "        sum = 0\n",
        "        for i in range(len(self.vec1)):\n",
        "            sum += self.vec1[i] * vec2.vec1[i]\n",
        "        return sum \n",
        "\n",
        "v1 = Vector([1, 2, 3])\n",
        "v2 = Vector([4, 5, 6 ])\n",
        "\n",
        "print(\"Using operator overloader __str__ :\", v1)\n",
        "print(\"Using operator overloader __add__ :\", v1 + v2)\n",
        "print(\"Using operator overloader __mul__ :\", v1 * v2)"
      ],
      "metadata": {
        "id": "EvyJaVCYnnX0",
        "colab": {
          "base_uri": "https://localhost:8080/"
        },
        "outputId": "345d8e4c-ecfc-458b-e2e7-41e7852f1d06"
      },
      "execution_count": null,
      "outputs": [
        {
          "output_type": "stream",
          "name": "stdout",
          "text": [
            "Using operator overloader __str__ :  1a0 +2a1 +3a2 \n",
            "Using operator overloader __add__ :  5a0 +7a1 +9a2 \n",
            "Using operator overloader __mul__ : 32\n"
          ]
        }
      ]
    },
    {
      "cell_type": "markdown",
      "source": [
        "#### $\\color{red}{\\textbf{Que:71}}$ Write `__str__` method to print the vector as follow:\n",
        "$$7\\hat{i}+8\\hat{j}+10\\hat{k}$$\n",
        "\n",
        "Assume vector of dimension 3 for this problem?"
      ],
      "metadata": {
        "id": "MebuIvs3VmBU"
      }
    },
    {
      "cell_type": "code",
      "source": [
        "class Vector:\n",
        "    def __init__(self, vec):\n",
        "        self.vec = vec\n",
        "\n",
        "    def __str__(self):\n",
        "        return f\"{self.vec[0]}i + {self.vec[1]}j + {self.vec[2]}k\"\n",
        "\n",
        "v1 = Vector([1, 2, 3])\n",
        "print(v1)"
      ],
      "metadata": {
        "colab": {
          "base_uri": "https://localhost:8080/"
        },
        "id": "BB4NOxtlvpCn",
        "outputId": "46da6bb4-07bd-4de6-c7ce-c51b77fa5bc2"
      },
      "execution_count": null,
      "outputs": [
        {
          "output_type": "stream",
          "name": "stdout",
          "text": [
            "1i + 2j + 3k\n"
          ]
        }
      ]
    },
    {
      "cell_type": "markdown",
      "source": [
        "#### $\\color{red}{\\textbf{Que:72}}$ Overide the `__len__()` method on vector of  $\\color{Skyblue}{\\textbf{problem:70}}$ to display the dimesion of the vector?"
      ],
      "metadata": {
        "id": "MyIXeQ4twyGd"
      }
    },
    {
      "cell_type": "code",
      "source": [
        "class Vector:\n",
        "    def __init__(self, vec1):\n",
        "        self.vec1 = vec1\n",
        "\n",
        "    def __str__(self):\n",
        "        str1 = \" \"\n",
        "        index = 0\n",
        "        for i in self.vec1:\n",
        "            str1 += f\"{i}a{index} +\"\n",
        "            index += 1\n",
        "        return str1[:-1] # this will eliminate the '+' in the end\n",
        "\n",
        "    def __add__(self, vec2):\n",
        "        newList = []\n",
        "        for i in range(len(self.vec1)):\n",
        "            newList.append(self.vec1[i] + vec2.vec1[i])\n",
        "        return Vector(newList)\n",
        "       \n",
        "    def __mul__(self, vec2):\n",
        "        sum = 0\n",
        "        for i in range(len(self.vec1)):\n",
        "            sum += self.vec1[i] * vec2.vec1[i]\n",
        "        return sum\n",
        "\n",
        "    def __len__(self):\n",
        "        return len(self.vec1) \n",
        "\n",
        "v1 = Vector([1, 2, 3])\n",
        "v2 = Vector([4, 5, 6, 7 ,8])\n",
        "\n",
        "print(\"Dimesion of vec1 Using operator overloader __len__ :\", len(v1))\n",
        "print(\"Dimesion of vec2 Using operator overloader __len__ :\", len(v2))"
      ],
      "metadata": {
        "colab": {
          "base_uri": "https://localhost:8080/"
        },
        "id": "0FMLIwLkxrEE",
        "outputId": "f4ab7a4e-b4b8-46e7-bdd8-96da6fe8c9d4"
      },
      "execution_count": null,
      "outputs": [
        {
          "output_type": "stream",
          "name": "stdout",
          "text": [
            "Dimesion of vec1 Using operator overloader __len__ : 3\n",
            "Dimesion of vec2 Using operator overloader __len__ : 5\n"
          ]
        }
      ]
    },
    {
      "cell_type": "markdown",
      "source": [
        "#### $\\color{red}{\\textbf{Que:73}}$ Using the `len()` function throw an error if the vectors in $\\color{Skyblue}{\\textbf{problem:70}}$ are of different length are added or multiplied?"
      ],
      "metadata": {
        "id": "FHnTPQMEzwEF"
      }
    },
    {
      "cell_type": "code",
      "source": [
        "class Vector:\n",
        "    def __init__(self, vec1):\n",
        "        self.vec1 = vec1\n",
        "\n",
        "    def __str__(self):\n",
        "        str1 = \" \"\n",
        "        index = 0\n",
        "        for i in self.vec1:\n",
        "            str1 += f\"{i}a{index} +\"\n",
        "            index += 1\n",
        "        return str1[:-1] # this will eliminate the '+' in the end\n",
        "\n",
        "    def __add__(self, vec2):\n",
        "        if len(self.vec1) == len(vec2.vec1):\n",
        "            newList = []\n",
        "            for i in range(len(self.vec1)):\n",
        "                newList.append(self.vec1[i] + vec2.vec1[i])\n",
        "            return Vector(newList)\n",
        "        else:\n",
        "            return \"Error: Can't add, Vector of different length\"\n",
        "       \n",
        "    def __mul__(self, vec2):\n",
        "        if len(self.vec1) == len(vec2.vec1):\n",
        "            sum = 0\n",
        "            for i in range(len(self.vec1)):\n",
        "                sum += self.vec1[i] * vec2.vec1[i]\n",
        "            return sum\n",
        "        else:\n",
        "            return \"Error: Can't multiply, Vector of different length\"\n",
        "\n",
        "    def __len__(self):\n",
        "        return len(self.vec1) \n",
        "\n",
        "v1 = Vector([1, 2, 3])\n",
        "v2 = Vector([4, 5, 6, 7])\n",
        "\n",
        "print(v1 + v2)\n",
        "print(v1 * v2)"
      ],
      "metadata": {
        "colab": {
          "base_uri": "https://localhost:8080/"
        },
        "id": "yBZSio115YCa",
        "outputId": "14833b92-a409-49f8-8aaa-b9baed82a4e8"
      },
      "execution_count": 5,
      "outputs": [
        {
          "output_type": "stream",
          "name": "stdout",
          "text": [
            "Error: Can't add, Vector of different length\n",
            "Error: Can't multiply, Vector of different length\n"
          ]
        }
      ]
    },
    {
      "cell_type": "markdown",
      "source": [
        "### $\\color{skyblue}{\\textbf{Connect with me:}}$\n",
        "\n",
        "\n",
        "[<img align=\"left\" alt=\"codeSTACKr | Twitter\" width=\"22px\" src=\"https://cdn.jsdelivr.net/npm/simple-icons@v3/icons/twitter.svg\" />][twitter]\n",
        "[<img align=\"left\" alt=\"codeSTACKr | LinkedIn\" width=\"22px\" src=\"https://cdn.jsdelivr.net/npm/simple-icons@v3/icons/linkedin.svg\" />][linkedin]\n",
        "[<img align=\"left\" alt=\"codeSTACKr.com\" width=\"22px\" src=\"https://raw.githubusercontent.com/iconic/open-iconic/master/svg/globe.svg\" />][StackExchange AI]\n",
        "\n",
        "[twitter]: https://twitter.com/F4izy\n",
        "[linkedin]: https://www.linkedin.com/in/mohd-faizy/\n",
        "[StackExchange AI]: https://ai.stackexchange.com/users/36737/cypher\n",
        "\n",
        "\n",
        "---"
      ],
      "metadata": {
        "id": "cHcM6yM2T3-C"
      }
    }
  ]
}