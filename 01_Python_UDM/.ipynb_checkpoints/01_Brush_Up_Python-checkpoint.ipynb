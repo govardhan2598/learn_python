{
  "nbformat": 4,
  "nbformat_minor": 0,
  "metadata": {
    "kernelspec": {
      "display_name": "Python 3",
      "language": "python",
      "name": "python3"
    },
    "language_info": {
      "codemirror_mode": {
        "name": "ipython",
        "version": 3
      },
      "file_extension": ".py",
      "mimetype": "text/x-python",
      "name": "python",
      "nbconvert_exporter": "python",
      "pygments_lexer": "ipython3",
      "version": "3.6.4"
    },
    "colab": {
      "provenance": [],
      "collapsed_sections": [
        "KNrWyywx4AZl",
        "yAxE3Brv4AZy",
        "8dTuWdMs4AaP",
        "g45pDtTM4Aat",
        "JkLWI_g24AbU",
        "xF_7XNlffeK0",
        "gkvHJljk4Abr",
        "mG22HYcu4AcJ"
      ],
      "toc_visible": true
    }
  },
  "cells": [
    {
      "cell_type": "markdown",
      "metadata": {
        "id": "E6TTlvtY4yjX"
      },
      "source": [
        "<center>\n",
        "        <a href=\"https://colab.research.google.com/drive/1np0SLuRb5aG1biJjTV-hMyaITRVXMSJy\" target=\"_parent\">\n",
        "        <img src=\"https://colab.research.google.com/assets/colab-badge.svg\" alt=\"Open In Colab\"/>\n",
        "        </a>\n",
        "</center>\n",
        "\n",
        "# <center><b>Brush Up Python</b></center>\n",
        "\n",
        "\n"
      ]
    },
    {
      "cell_type": "markdown",
      "metadata": {
        "id": "KNrWyywx4AZl"
      },
      "source": [
        "## **1. Basics**"
      ]
    },
    {
      "cell_type": "code",
      "metadata": {
        "id": "5Aqwgx3v4AZo",
        "colab": {
          "base_uri": "https://localhost:8080/"
        },
        "outputId": "4056010b-5ef8-45eb-8651-454e29bb52a9"
      },
      "source": [
        "# printing any value\n",
        "print(\"Hello\")"
      ],
      "execution_count": null,
      "outputs": [
        {
          "output_type": "stream",
          "name": "stdout",
          "text": [
            "Hello\n"
          ]
        }
      ]
    },
    {
      "cell_type": "code",
      "source": [
        "num = 10\n",
        "name = \"faizy\"\n",
        "\n",
        "print(num)\n",
        "print(name)"
      ],
      "metadata": {
        "colab": {
          "base_uri": "https://localhost:8080/"
        },
        "id": "Yb69QJRfAYt6",
        "outputId": "ccb2e5ef-907f-4f71-b30f-58189a3eb7cc"
      },
      "execution_count": null,
      "outputs": [
        {
          "output_type": "stream",
          "name": "stdout",
          "text": [
            "10\n",
            "faizy\n"
          ]
        }
      ]
    },
    {
      "cell_type": "code",
      "source": [
        "print(\"My name is \",name,\". My roll number is \",num,\".\")"
      ],
      "metadata": {
        "colab": {
          "base_uri": "https://localhost:8080/"
        },
        "id": "oXnBo76DAvBA",
        "outputId": "c80bfc9a-e2d1-4331-fda5-46c4e26ff187"
      },
      "execution_count": null,
      "outputs": [
        {
          "output_type": "stream",
          "name": "stdout",
          "text": [
            "My name is  faizy . My roll number is  10 .\n"
          ]
        }
      ]
    },
    {
      "cell_type": "code",
      "source": [
        "print(\"My name is \"+name+\". My roll number is \"+str(num)+\".\")"
      ],
      "metadata": {
        "colab": {
          "base_uri": "https://localhost:8080/"
        },
        "id": "8eoFdvfDA5nv",
        "outputId": "6d1eff33-b6ce-4978-fd27-7d7d29c9000a"
      },
      "execution_count": null,
      "outputs": [
        {
          "output_type": "stream",
          "name": "stdout",
          "text": [
            "My name is faizy. My roll number is 10.\n"
          ]
        }
      ]
    },
    {
      "cell_type": "code",
      "source": [
        "print(\"My name is {}. My roll number is {}\".format(name, num))"
      ],
      "metadata": {
        "colab": {
          "base_uri": "https://localhost:8080/"
        },
        "id": "Wdltdf6UBlgn",
        "outputId": "ed0420e6-09fb-4b92-cc9b-1e7549474a39"
      },
      "execution_count": null,
      "outputs": [
        {
          "output_type": "stream",
          "name": "stdout",
          "text": [
            "My name is faizy. My roll number is 10\n"
          ]
        }
      ]
    },
    {
      "cell_type": "code",
      "source": [
        "print(f\"My name is {name}. My roll number is {num}.\")"
      ],
      "metadata": {
        "colab": {
          "base_uri": "https://localhost:8080/"
        },
        "id": "KH1fNji8B4E-",
        "outputId": "be48891d-c8a7-4418-d8d3-af0f2dd901f4"
      },
      "execution_count": null,
      "outputs": [
        {
          "output_type": "stream",
          "name": "stdout",
          "text": [
            "My name is faizy. My roll number is 10.\n"
          ]
        }
      ]
    },
    {
      "cell_type": "markdown",
      "metadata": {
        "id": "yAxE3Brv4AZy"
      },
      "source": [
        "## **2. Variable**\n",
        "A variable is a reserved memory location to store values. A varaiable name must begin alphabet/underscore followed by alphabets/numbers/underscores"
      ]
    },
    {
      "cell_type": "code",
      "source": [
        "var1 = 10\n",
        "var2 = 20\n",
        "var3 = var1 + var2\n",
        "var3"
      ],
      "metadata": {
        "colab": {
          "base_uri": "https://localhost:8080/"
        },
        "id": "h0Ri6tD8_pD2",
        "outputId": "aaa96cce-33eb-4738-d808-d56c3dd90f55"
      },
      "execution_count": null,
      "outputs": [
        {
          "output_type": "execute_result",
          "data": {
            "text/plain": [
              "30"
            ]
          },
          "metadata": {},
          "execution_count": 7
        }
      ]
    },
    {
      "cell_type": "code",
      "metadata": {
        "id": "U9TUN8dL4AZz",
        "colab": {
          "base_uri": "https://localhost:8080/"
        },
        "outputId": "f33f4aac-7f12-46c9-d7fc-0014f25f2791"
      },
      "source": [
        "# python data types\n",
        "number = 3\n",
        "float_number = 99.99\n",
        "character = 'a'\n",
        "string = \"Hello, World!\"\n",
        "\n",
        "print(number, type(number))\n",
        "print(float_number, type(float_number))\n",
        "print(character, type(character))\n",
        "print(string, type(string))"
      ],
      "execution_count": null,
      "outputs": [
        {
          "output_type": "stream",
          "name": "stdout",
          "text": [
            "3 <class 'int'>\n",
            "99.99 <class 'float'>\n",
            "a <class 'str'>\n",
            "Hello, World! <class 'str'>\n"
          ]
        }
      ]
    },
    {
      "cell_type": "code",
      "metadata": {
        "id": "4BQa0Ihj4AZ4",
        "colab": {
          "base_uri": "https://localhost:8080/"
        },
        "outputId": "b7bf9031-b859-424b-ee85-1e638f07c5fc"
      },
      "source": [
        "# Writing basic operations\n",
        "# Assigning the values to the varibles\n",
        "a = 4\n",
        "b = 3\n",
        "\n",
        "print(a+b)  # addition \n",
        "print(a-b)  # subtraction\n",
        "print(a*b)  # Multiplication\n",
        "print(a/b)  # divison\n",
        "print(a**b) # power of \n",
        "print('quotient = ', a//b) # floor division - How many times\n",
        "print('remainder = ',a%b)  # modulo division - remainder "
      ],
      "execution_count": null,
      "outputs": [
        {
          "output_type": "stream",
          "name": "stdout",
          "text": [
            "7\n",
            "1\n",
            "12\n",
            "1.3333333333333333\n",
            "64\n",
            "quotient =  1\n",
            "remainder =  1\n"
          ]
        }
      ]
    },
    {
      "cell_type": "markdown",
      "source": [
        "$\\color{red}{\\textbf{Note:}}$ During the modulo division when ever the `Numrator < Denominator` the answer is always Numrator itself."
      ],
      "metadata": {
        "id": "SnXwPL7zPRQ9"
      }
    },
    {
      "cell_type": "code",
      "source": [
        "3%4 "
      ],
      "metadata": {
        "colab": {
          "base_uri": "https://localhost:8080/"
        },
        "id": "vUtxE7OJO1lQ",
        "outputId": "f9ac2bd7-4c3d-47bb-df25-fb6fb4c09c3d"
      },
      "execution_count": 1,
      "outputs": [
        {
          "output_type": "execute_result",
          "data": {
            "text/plain": [
              "3"
            ]
          },
          "metadata": {},
          "execution_count": 1
        }
      ]
    },
    {
      "cell_type": "markdown",
      "source": [
        "**Modulus**\n",
        "\n",
        ">The modulus-function computes the remainder of a division, which is the \"leftover\" of an integral division. `Modulo divison can be used to find whether the given number is even or odd.`\n",
        "\n",
        "\n",
        "**Floor**\n",
        "\n",
        ">The floor-function provides the lower-bound of an integral division. The upper-bound is computed by the ceil function. (Basically speaking, the floor-function cuts off all decimals)."
      ],
      "metadata": {
        "id": "VlAy_1fXyBD-"
      }
    },
    {
      "cell_type": "code",
      "metadata": {
        "id": "PZcUeozh4AZ9",
        "colab": {
          "base_uri": "https://localhost:8080/"
        },
        "outputId": "70e089c2-2e96-473a-9a78-ab5d867dde13"
      },
      "source": [
        "# getting input \n",
        "n1 = input(\"Enter a number: \")\n",
        "\n",
        "print(n1, type(n1))"
      ],
      "execution_count": null,
      "outputs": [
        {
          "output_type": "stream",
          "name": "stdout",
          "text": [
            "Enter a number: 12\n",
            "12 <class 'str'>\n"
          ]
        }
      ]
    },
    {
      "cell_type": "markdown",
      "source": [
        "$\\color{red}{\\textbf{Que:}}$ **The `input()` function by default returns the value as _____ data type​?**\n",
        "\n",
        "$\\color{green}{\\textbf{ANS:}}$ *String data type* <class 'str'>\n",
        "\n",
        "> **Explanation:**\n",
        "In Python, we implement the `input()` function to get user input. The input function translates whatever you give it as input into a string. Even if an integer value is entered, the `input()` method accepts it as a string.​"
      ],
      "metadata": {
        "id": "pVRYrBYObqwy"
      }
    },
    {
      "cell_type": "code",
      "source": [
        "n2 = float(input())\n",
        "print(n2, type(n2))"
      ],
      "metadata": {
        "id": "BgofR-RKaTvD",
        "colab": {
          "base_uri": "https://localhost:8080/"
        },
        "outputId": "6913f20d-02be-447b-aa48-82092a080d73"
      },
      "execution_count": null,
      "outputs": [
        {
          "output_type": "stream",
          "name": "stdout",
          "text": [
            "12.5\n",
            "12.5 <class 'float'>\n"
          ]
        }
      ]
    },
    {
      "cell_type": "code",
      "metadata": {
        "id": "zTfDQM0G4AaI",
        "colab": {
          "base_uri": "https://localhost:8080/"
        },
        "outputId": "c3a90fd0-5e30-4957-bc22-746760f46db7"
      },
      "source": [
        " # casting string to integer\n",
        "n3 = int(input(\"Enter a number: \"))\n",
        "\n",
        "print(n3, type(n3))\n",
        "print(\"Square of the number:\", n3**2)"
      ],
      "execution_count": null,
      "outputs": [
        {
          "output_type": "stream",
          "name": "stdout",
          "text": [
            "Enter a number: 3\n",
            "3 <class 'int'>\n",
            "Square of the number: 9\n"
          ]
        }
      ]
    },
    {
      "cell_type": "code",
      "source": [
        " # casting string to integer\n",
        "n4 = float(input(\"Enter a number: \"))\n",
        "\n",
        "print(n4, type(n4))\n",
        "print(\"Square of the number:\", n4**2)"
      ],
      "metadata": {
        "id": "qVWdMljoen44",
        "colab": {
          "base_uri": "https://localhost:8080/"
        },
        "outputId": "f41a0806-8e58-4804-d1b7-9aa0f5e5e53e"
      },
      "execution_count": null,
      "outputs": [
        {
          "output_type": "stream",
          "name": "stdout",
          "text": [
            "Enter a number: 14\n",
            "14.0 <class 'float'>\n",
            "Square of the number: 196.0\n"
          ]
        }
      ]
    },
    {
      "cell_type": "markdown",
      "metadata": {
        "id": "rwr__v2S4AaO"
      },
      "source": [
        "## **3. Python Built-in Data Structures**"
      ]
    },
    {
      "cell_type": "markdown",
      "metadata": {
        "id": "8dTuWdMs4AaP"
      },
      "source": [
        "### 3.1. List\n",
        "\n",
        "* List is an `ordered` collection of data. \n",
        "* It is `mutable` and `allow duplicates`. \n",
        "* It list is created by enclosing the data items with in square brackets delimited by \",\""
      ]
    },
    {
      "cell_type": "code",
      "metadata": {
        "id": "mzIvWCwN4AaQ",
        "colab": {
          "base_uri": "https://localhost:8080/"
        },
        "outputId": "33363a14-4ce2-4547-b4d4-93a57aad3d16"
      },
      "source": [
        "# Creating a list\n",
        "marks = [35, 68, 96, 80, 90]\n",
        "\n",
        "print(marks)\n",
        "print(len(marks))"
      ],
      "execution_count": null,
      "outputs": [
        {
          "output_type": "stream",
          "name": "stdout",
          "text": [
            "[35, 68, 96, 80, 90]\n",
            "5\n"
          ]
        }
      ]
    },
    {
      "cell_type": "markdown",
      "source": [
        "#### `int` \n"
      ],
      "metadata": {
        "id": "Y5R9BXS3UsM6"
      }
    },
    {
      "cell_type": "code",
      "metadata": {
        "id": "k1a5eCD34AaU",
        "colab": {
          "base_uri": "https://localhost:8080/"
        },
        "outputId": "cedb3ef7-916b-45b9-c67c-ac23791b3434"
      },
      "source": [
        "# Creating a list: int\n",
        "marks = [35, 68, 96, 80, 90]\n",
        "\n",
        "# Indexing list elements\n",
        "print(\"marks[0] : \", marks[0])\n",
        "print(\"marks[len(marks)-1] : \", marks[len(marks)-1])\n",
        "print(\"marks[-1] : \", marks[-1])\n",
        "print(\"marks[0] : \", marks[0])\n",
        "print(\"marks[len(marks)-1] :\", marks[len(marks)-1])\n",
        "print(\"marks[-1] :\", marks[-1])"
      ],
      "execution_count": null,
      "outputs": [
        {
          "output_type": "stream",
          "name": "stdout",
          "text": [
            "marks[0] :  35\n",
            "marks[len(marks)-1] :  90\n",
            "marks[-1] :  90\n",
            "marks[0] :  35\n",
            "marks[len(marks)-1] : 90\n",
            "marks[-1] : 90\n"
          ]
        }
      ]
    },
    {
      "cell_type": "markdown",
      "source": [
        "#### `float`"
      ],
      "metadata": {
        "id": "g67bP_MVUuZt"
      }
    },
    {
      "cell_type": "code",
      "source": [
        "# Creating a list: float\n",
        "m1 = [45.5, 58.5, 86.5, 70.5, 93.5]\n",
        "\n",
        "# Indexing list elements\n",
        "print(\"marks[0] : \", m1[0])\n",
        "print(\"marks[len(marks)-1] : \", m1[len(m1)-1])\n",
        "print(\"marks[-1] : \", m1[-1])\n",
        "print(\"marks[0] :\", float(m1[0]))\n",
        "print(\"marks[len(marks)-1] :\", float(m1[len(m1)-1]))\n",
        "print(\"marks[-1] :\", float(m1[-1]))"
      ],
      "metadata": {
        "id": "jomsp5zPhci6",
        "colab": {
          "base_uri": "https://localhost:8080/"
        },
        "outputId": "746af12d-e42a-4a93-980c-59fcc18db9d5"
      },
      "execution_count": null,
      "outputs": [
        {
          "output_type": "stream",
          "name": "stdout",
          "text": [
            "marks[0] :  45.5\n",
            "marks[len(marks)-1] :  93.5\n",
            "marks[-1] :  93.5\n",
            "marks[0] : 45.5\n",
            "marks[len(marks)-1] : 93.5\n",
            "marks[-1] : 93.5\n"
          ]
        }
      ]
    },
    {
      "cell_type": "code",
      "metadata": {
        "id": "qw7cbvvp4AaY",
        "colab": {
          "base_uri": "https://localhost:8080/"
        },
        "outputId": "7f7e1b77-4688-43e6-ecc4-cb23343362b4"
      },
      "source": [
        "# Modifying list elemets\n",
        "marks = [35, 68, 96, 80, 90]\n",
        "marks[0] = 38\n",
        "print(marks)"
      ],
      "execution_count": null,
      "outputs": [
        {
          "output_type": "stream",
          "name": "stdout",
          "text": [
            "[38, 68, 96, 80, 90]\n"
          ]
        }
      ]
    },
    {
      "cell_type": "code",
      "metadata": {
        "id": "Fn8aHFJH4Aac",
        "colab": {
          "base_uri": "https://localhost:8080/"
        },
        "outputId": "3f399947-6039-433f-bfb0-c2a21ad2dcce"
      },
      "source": [
        "# Slicing the list\n",
        "# Syntax: list[start:end(exclusive)]\n",
        "marks = [35, 68, 96, 80, 90, 48, 76, 98, 63]\n",
        "\n",
        "print(marks[1:len(marks)])\n",
        "print(marks[:len(marks)])\n",
        "print(marks[:len(marks)-1])\n",
        "print(marks[0:])\n",
        "print(marks[:])\n",
        "print(marks[2:4])\n",
        "print(marks[1:9:3])\n",
        "print(marks[::2])"
      ],
      "execution_count": null,
      "outputs": [
        {
          "output_type": "stream",
          "name": "stdout",
          "text": [
            "[68, 96, 80, 90, 48, 76, 98, 63]\n",
            "[35, 68, 96, 80, 90, 48, 76, 98, 63]\n",
            "[35, 68, 96, 80, 90, 48, 76, 98]\n",
            "[35, 68, 96, 80, 90, 48, 76, 98, 63]\n",
            "[35, 68, 96, 80, 90, 48, 76, 98, 63]\n",
            "[96, 80]\n",
            "[68, 90, 98]\n",
            "[35, 96, 90, 76, 63]\n"
          ]
        }
      ]
    },
    {
      "cell_type": "markdown",
      "source": [
        "```python\n",
        "marks.remove(1)\n",
        "print(marks)\n",
        "---------------------------------------\n",
        "ValueError                                Traceback (most recent call last)\n",
        "<ipython-input-8-ad42289a8415> in <module>()\n",
        "----> 1 marks.remove(1)\n",
        "      2 print(marks)\n",
        "\n",
        "ValueError: list.remove(x): x not in list\n",
        "```"
      ],
      "metadata": {
        "id": "2REpg6igoBKk"
      }
    },
    {
      "cell_type": "code",
      "source": [
        "l1= [38, 68, 96, 80, 90, 89, 89, 89, 89, 89, 89, 89]"
      ],
      "metadata": {
        "id": "CLP7V03uS3OS"
      },
      "execution_count": null,
      "outputs": []
    },
    {
      "cell_type": "markdown",
      "source": [
        "#### `.append()`"
      ],
      "metadata": {
        "id": "vfAaRQzJSfF6"
      }
    },
    {
      "cell_type": "code",
      "source": [
        "l1.append(89)\n",
        "print(l1)"
      ],
      "metadata": {
        "id": "nna-YE2QS5tU",
        "colab": {
          "base_uri": "https://localhost:8080/"
        },
        "outputId": "9c14f2a5-28ce-4ce0-938d-2cec3142b52c"
      },
      "execution_count": null,
      "outputs": [
        {
          "output_type": "stream",
          "name": "stdout",
          "text": [
            "[38, 68, 96, 80, 90, 89, 89, 89, 89, 89, 89, 89, 89]\n"
          ]
        }
      ]
    },
    {
      "cell_type": "markdown",
      "source": [
        "#### `.insert()`\n"
      ],
      "metadata": {
        "id": "ltlp1SWsTGsT"
      }
    },
    {
      "cell_type": "code",
      "source": [
        "l1.insert(1, 70)\n",
        "print(l1)"
      ],
      "metadata": {
        "id": "18gpdUE_S7Qr",
        "colab": {
          "base_uri": "https://localhost:8080/"
        },
        "outputId": "f9556629-5da2-490e-eea6-7c68a4d535ed"
      },
      "execution_count": null,
      "outputs": [
        {
          "output_type": "stream",
          "name": "stdout",
          "text": [
            "[38, 70, 68, 96, 80, 90, 89, 89, 89, 89, 89, 89, 89, 89]\n"
          ]
        }
      ]
    },
    {
      "cell_type": "markdown",
      "source": [
        "#### `.remove()`\n"
      ],
      "metadata": {
        "id": "50GDJvhfTIp5"
      }
    },
    {
      "cell_type": "code",
      "source": [
        "l1.remove(70)\n",
        "print(l1)"
      ],
      "metadata": {
        "id": "o56eztBcS8jB",
        "colab": {
          "base_uri": "https://localhost:8080/"
        },
        "outputId": "36470f08-a76a-42da-c5ce-9efba1e68afb"
      },
      "execution_count": null,
      "outputs": [
        {
          "output_type": "stream",
          "name": "stdout",
          "text": [
            "[38, 68, 96, 80, 90, 89, 89, 89, 89, 89, 89, 89, 89]\n"
          ]
        }
      ]
    },
    {
      "cell_type": "markdown",
      "source": [
        "#### `.copy()`\n"
      ],
      "metadata": {
        "id": "owePIo6GTKah"
      }
    },
    {
      "cell_type": "code",
      "source": [
        "# The copy() method returns a new list. It doesn't modify the original list.\n",
        "_l1 = l1.copy()\n",
        "print(_l1)"
      ],
      "metadata": {
        "id": "doe9wRRVS-AZ",
        "colab": {
          "base_uri": "https://localhost:8080/"
        },
        "outputId": "1030ca07-099b-485e-e495-e7cef3ebfb4d"
      },
      "execution_count": null,
      "outputs": [
        {
          "output_type": "stream",
          "name": "stdout",
          "text": [
            "[38, 68, 96, 80, 90, 89, 89, 89, 89, 89, 89, 89, 89]\n"
          ]
        }
      ]
    },
    {
      "cell_type": "markdown",
      "source": [
        "#### `.count()`"
      ],
      "metadata": {
        "id": "4s2mEErrTML5"
      }
    },
    {
      "cell_type": "code",
      "metadata": {
        "id": "DGmKPwPu4Aag",
        "colab": {
          "base_uri": "https://localhost:8080/"
        },
        "outputId": "82fa28f1-863f-4c63-b4ad-792646c94acb"
      },
      "source": [
        "# returns the count of how many times a given object occurs in a List.\n",
        "print(l1.count(89))"
      ],
      "execution_count": null,
      "outputs": [
        {
          "output_type": "stream",
          "name": "stdout",
          "text": [
            "8\n"
          ]
        }
      ]
    },
    {
      "cell_type": "markdown",
      "source": [
        "#### `.reverse()`"
      ],
      "metadata": {
        "id": "tRRGSlYNSX5T"
      }
    },
    {
      "cell_type": "code",
      "source": [
        "# Operating System List\n",
        "systems = ['windows', 'macOS', 'Linux']\n",
        "print('Original List:', systems)\n",
        "\n",
        "# List Reverse\n",
        "systems.reverse()\n",
        "\n",
        "# updated list\n",
        "print('Updated List:', systems)"
      ],
      "metadata": {
        "colab": {
          "base_uri": "https://localhost:8080/"
        },
        "id": "vqwqmzJVOMCu",
        "outputId": "a7a9041d-a734-4ff7-9dc4-a2899dc8f7cf"
      },
      "execution_count": null,
      "outputs": [
        {
          "output_type": "stream",
          "name": "stdout",
          "text": [
            "Original List: ['windows', 'macOS', 'Linux']\n",
            "Updated List: ['Linux', 'macOS', 'windows']\n"
          ]
        }
      ]
    },
    {
      "cell_type": "markdown",
      "source": [
        "#### `.remove()`"
      ],
      "metadata": {
        "id": "GOHUFn4LSMOv"
      }
    },
    {
      "cell_type": "code",
      "source": [
        "# Operating System List\n",
        "systems = ['windows', 'macOS', 'Linux']\n",
        "print('Original List:', systems)\n",
        "\n",
        "# List Reverse\n",
        "systems.remove(\"macOS\")\n",
        "\n",
        "# updated list\n",
        "print('Updated List:', systems)"
      ],
      "metadata": {
        "colab": {
          "base_uri": "https://localhost:8080/"
        },
        "id": "tRt9iAV5OwsU",
        "outputId": "44a1dd5f-5ae3-4564-e6c4-90443a436ab3"
      },
      "execution_count": null,
      "outputs": [
        {
          "output_type": "stream",
          "name": "stdout",
          "text": [
            "Original List: ['windows', 'macOS', 'Linux']\n",
            "Updated List: ['windows', 'Linux']\n"
          ]
        }
      ]
    },
    {
      "cell_type": "markdown",
      "source": [
        "#### `pop()` "
      ],
      "metadata": {
        "id": "6OUkUcEMR4oS"
      }
    },
    {
      "cell_type": "code",
      "source": [
        "# create a list of prime numbers\n",
        "prime_numbers = [2, 3, 5, 7]\n",
        "\n",
        "# remove the element at index 2\n",
        "removed_element = prime_numbers.pop(2)\n",
        "\n",
        "print('Removed Element:', removed_element)\n",
        "print('Updated List:', prime_numbers)"
      ],
      "metadata": {
        "colab": {
          "base_uri": "https://localhost:8080/"
        },
        "id": "x_rfQOMSRxsW",
        "outputId": "c5989e63-3c58-402a-9dc1-1645baeef677"
      },
      "execution_count": null,
      "outputs": [
        {
          "output_type": "stream",
          "name": "stdout",
          "text": [
            "Removed Element: 5\n",
            "Updated List: [2, 3, 7]\n"
          ]
        }
      ]
    },
    {
      "cell_type": "markdown",
      "source": [
        "#### `.sorted()`"
      ],
      "metadata": {
        "id": "8Rb6ffOqSHZt"
      }
    },
    {
      "cell_type": "code",
      "metadata": {
        "id": "DAjZazb94Aak",
        "colab": {
          "base_uri": "https://localhost:8080/"
        },
        "outputId": "29e39e13-3b79-4947-835d-abc0e29e5b34"
      },
      "source": [
        "# sorting list elements\n",
        "list_1= [38, 68, 97, 80, 90, 89, 89, 99, 96, 84]\n",
        "print(sorted(list_1))\n",
        "print(sorted(list_1, reverse=True))"
      ],
      "execution_count": null,
      "outputs": [
        {
          "output_type": "stream",
          "name": "stdout",
          "text": [
            "[38, 68, 80, 84, 89, 89, 90, 96, 97, 99]\n",
            "[99, 97, 96, 90, 89, 89, 84, 80, 68, 38]\n"
          ]
        }
      ]
    },
    {
      "cell_type": "markdown",
      "source": [
        "#### `.extend()`"
      ],
      "metadata": {
        "id": "O59GapTVTmSq"
      }
    },
    {
      "cell_type": "code",
      "source": [
        "# Example usage for extend:\n",
        "first_list = [1, 2, 3, 4, 5]\n",
        "second_list = [6, 7, 8, 9]\n",
        "first_list.extend(second_list)\n",
        "print(first_list)"
      ],
      "metadata": {
        "colab": {
          "base_uri": "https://localhost:8080/"
        },
        "id": "sLRIFjBUTiK8",
        "outputId": "98759b94-64cf-48d6-cc56-e54e091fd0ce"
      },
      "execution_count": null,
      "outputs": [
        {
          "output_type": "stream",
          "name": "stdout",
          "text": [
            "[1, 2, 3, 4, 5, 6, 7, 8, 9]\n"
          ]
        }
      ]
    },
    {
      "cell_type": "markdown",
      "source": [
        "#### `clear()`"
      ],
      "metadata": {
        "id": "G6_dxlgNUh_U"
      }
    },
    {
      "cell_type": "markdown",
      "source": [
        " method removes all items from the list."
      ],
      "metadata": {
        "id": "wQISNaUL2RBW"
      }
    },
    {
      "cell_type": "code",
      "source": [
        "# list of cars\n",
        "cars = ['Benz',('volkswagen','BMW'),'Ford','Ferrari',('volkswagen','BMW')]\n",
        "numbers= [1,(1,3),5,7,(1,3),3,1,6,(1,3)]\n",
        "\n",
        "# clear the car list\n",
        "cars.clear()\n",
        "print(\"After clearing the car list = \",cars)\n",
        "\n",
        "# clear the number list\n",
        "numbers.clear()\n",
        "print(\"After clearing the number list = \",numbers)"
      ],
      "metadata": {
        "colab": {
          "base_uri": "https://localhost:8080/"
        },
        "id": "8TlUCWqUUVEU",
        "outputId": "661fc91a-9680-4676-82d4-984b5f26eac9"
      },
      "execution_count": null,
      "outputs": [
        {
          "output_type": "stream",
          "name": "stdout",
          "text": [
            "After clearing the car list =  []\n",
            "After clearing the number list =  []\n"
          ]
        }
      ]
    },
    {
      "cell_type": "markdown",
      "source": [
        "#### `List Comprehesion`"
      ],
      "metadata": {
        "id": "8M44CDI_ZXci"
      }
    },
    {
      "cell_type": "code",
      "metadata": {
        "id": "-aXXMnqv4Aap",
        "colab": {
          "base_uri": "https://localhost:8080/"
        },
        "outputId": "39fa9e50-ad61-4c5d-c096-6bf7397d7892"
      },
      "source": [
        "x = [1,2,3,4,5]\n",
        "output = []\n",
        "\n",
        "for i in x:\n",
        "    output.append(i**2)\n",
        "print(output)"
      ],
      "execution_count": null,
      "outputs": [
        {
          "output_type": "stream",
          "name": "stdout",
          "text": [
            "[1, 4, 9, 16, 25]\n"
          ]
        }
      ]
    },
    {
      "cell_type": "markdown",
      "source": [
        "OR"
      ],
      "metadata": {
        "id": "3nMDhNx7ZEDE"
      }
    },
    {
      "cell_type": "code",
      "source": [
        "# List Comprehesion\n",
        "x = [1,2,3,4,5]\n",
        "output = []\n",
        "output = [i**2 for i in x]\n",
        "print(output)"
      ],
      "metadata": {
        "colab": {
          "base_uri": "https://localhost:8080/"
        },
        "id": "UsI_QtwtZDMM",
        "outputId": "e7df437f-dce3-4d67-fc53-8439edbfa0a4"
      },
      "execution_count": null,
      "outputs": [
        {
          "output_type": "stream",
          "name": "stdout",
          "text": [
            "[1, 4, 9, 16, 25]\n"
          ]
        }
      ]
    },
    {
      "cell_type": "markdown",
      "metadata": {
        "id": "4arWxGwA4AbM"
      },
      "source": [
        "### 3.2. Dictionary\n",
        "* Dictionary is an `unordered` collection of `key-values` pairs. \n",
        "* It is `mutable`. `No duplicate` is allowed. \n",
        "* It is created by enclosing the key-value parirs (key:value) with in curly brackets delimited by \",\""
      ]
    },
    {
      "cell_type": "code",
      "source": [
        "d1 = {\"k1\":\"v1\",\"k2\":\"v2\",\"k3\":\"v3\"}\n",
        "d1"
      ],
      "metadata": {
        "colab": {
          "base_uri": "https://localhost:8080/"
        },
        "id": "9jFSqqvbPJ31",
        "outputId": "5a4961a0-dc08-4226-f621-86ef7a192be4"
      },
      "execution_count": null,
      "outputs": [
        {
          "output_type": "execute_result",
          "data": {
            "text/plain": [
              "{'k1': 'v1', 'k2': 'v2', 'k3': 'v3'}"
            ]
          },
          "metadata": {},
          "execution_count": 33
        }
      ]
    },
    {
      "cell_type": "code",
      "source": [
        "d1[\"k1\"]"
      ],
      "metadata": {
        "colab": {
          "base_uri": "https://localhost:8080/",
          "height": 36
        },
        "id": "lEF8c7sKPMyg",
        "outputId": "1b3d5a0f-257a-4471-9f88-00da1630917b"
      },
      "execution_count": null,
      "outputs": [
        {
          "output_type": "execute_result",
          "data": {
            "text/plain": [
              "'v1'"
            ],
            "application/vnd.google.colaboratory.intrinsic+json": {
              "type": "string"
            }
          },
          "metadata": {},
          "execution_count": 34
        }
      ]
    },
    {
      "cell_type": "code",
      "metadata": {
        "id": "4q9xZeDa4AbN",
        "colab": {
          "base_uri": "https://localhost:8080/"
        },
        "outputId": "b552f8d0-3a80-4b98-bb02-d04c7c65bc03"
      },
      "source": [
        "student = {\"name\":\"Faizy\", \"reg_no\":\"16NJI6\", \"course\":\"M.Tech\"}\n",
        "\n",
        "print(student)"
      ],
      "execution_count": null,
      "outputs": [
        {
          "output_type": "stream",
          "name": "stdout",
          "text": [
            "{'name': 'Faizy', 'reg_no': '16NJI6', 'course': 'M.Tech'}\n"
          ]
        }
      ]
    },
    {
      "cell_type": "code",
      "source": [
        "student[\"name\"]"
      ],
      "metadata": {
        "colab": {
          "base_uri": "https://localhost:8080/",
          "height": 36
        },
        "id": "pPzDYno8Opyb",
        "outputId": "4d087a65-14a8-4d96-923b-83ba1a1ec65e"
      },
      "execution_count": null,
      "outputs": [
        {
          "output_type": "execute_result",
          "data": {
            "text/plain": [
              "'Faizy'"
            ],
            "application/vnd.google.colaboratory.intrinsic+json": {
              "type": "string"
            }
          },
          "metadata": {},
          "execution_count": 36
        }
      ]
    },
    {
      "cell_type": "code",
      "metadata": {
        "id": "sgNdtURm4AbR",
        "colab": {
          "base_uri": "https://localhost:8080/"
        },
        "outputId": "908e3eb6-e172-4709-cca7-2deefe1e943e"
      },
      "source": [
        "# Accessing elements\n",
        "print(student[\"course\"])\n",
        "\n",
        "for key, value in student.items():\n",
        "    print(\"Key: {}, Value: {}\".format(key, value))"
      ],
      "execution_count": null,
      "outputs": [
        {
          "output_type": "stream",
          "name": "stdout",
          "text": [
            "M.Tech\n",
            "Key: name, Value: Faizy\n",
            "Key: reg_no, Value: 16NJI6\n",
            "Key: course, Value: M.Tech\n"
          ]
        }
      ]
    },
    {
      "cell_type": "markdown",
      "source": [
        "#### `clear()`"
      ],
      "metadata": {
        "id": "jOeBPxhtp6Fe"
      }
    },
    {
      "cell_type": "code",
      "source": [
        "# dictionary\n",
        "numbers = {1: \"one\", 2: \"two\"}\n",
        "\n",
        "# removes all the items from the dictionary\n",
        "numbers.clear()\n",
        "\n",
        "print(numbers)"
      ],
      "metadata": {
        "colab": {
          "base_uri": "https://localhost:8080/"
        },
        "id": "cHmeNS3Cp5wO",
        "outputId": "e04beeae-ba62-491c-d03d-fcfae5cd4e28"
      },
      "execution_count": null,
      "outputs": [
        {
          "output_type": "stream",
          "name": "stdout",
          "text": [
            "{}\n"
          ]
        }
      ]
    },
    {
      "cell_type": "markdown",
      "source": [
        "#### `copy()`"
      ],
      "metadata": {
        "id": "1ixMfmy_qIpt"
      }
    },
    {
      "cell_type": "markdown",
      "source": [
        " method returns a copy (shallow copy) of the dictionary."
      ],
      "metadata": {
        "id": "jR9Hr9uB2Vju"
      }
    },
    {
      "cell_type": "code",
      "source": [
        "original_marks = {'Physics':67, 'Maths':87}\n",
        "\n",
        "copied_marks = original_marks.copy()\n",
        "\n",
        "print('Original Marks:', original_marks)\n",
        "print('Copied Marks:', copied_marks)"
      ],
      "metadata": {
        "colab": {
          "base_uri": "https://localhost:8080/"
        },
        "id": "bW82SL6QqJd6",
        "outputId": "8d858fbd-327e-478d-fe05-5eeec76e1825"
      },
      "execution_count": null,
      "outputs": [
        {
          "output_type": "stream",
          "name": "stdout",
          "text": [
            "Original Marks: {'Physics': 67, 'Maths': 87}\n",
            "Copied Marks: {'Physics': 67, 'Maths': 87}\n"
          ]
        }
      ]
    },
    {
      "cell_type": "markdown",
      "source": [
        "#### `.fromkeys`"
      ],
      "metadata": {
        "id": "ouHYAkO8hIr0"
      }
    },
    {
      "cell_type": "code",
      "source": [
        "# keys for the dictionary\n",
        "x = ('key1', 'key2', 'key3')\n",
        "\n",
        "# value for the dictionary\n",
        "y = 0\n",
        "\n",
        "# creates a dictionary with keys and values\n",
        "thisdict = dict.fromkeys(x, y)\n",
        "\n",
        "print(thisdict)"
      ],
      "metadata": {
        "colab": {
          "base_uri": "https://localhost:8080/"
        },
        "id": "shFOXX5OhITH",
        "outputId": "e1bc450e-cdc9-4b00-d304-304d7a75a719"
      },
      "execution_count": null,
      "outputs": [
        {
          "output_type": "stream",
          "name": "stdout",
          "text": [
            "{'key1': 0, 'key2': 0, 'key3': 0}\n"
          ]
        }
      ]
    },
    {
      "cell_type": "code",
      "source": [
        "key = (\"India\", \"Austria\", \"USA\", \"Pakistan\", \"Czech Republic\")\n",
        "value  = \"Country\"\n",
        "countries = dict.fromkeys(key, value) # function fromkeys\n",
        "countries"
      ],
      "metadata": {
        "colab": {
          "base_uri": "https://localhost:8080/"
        },
        "id": "2Tmso9SviR3c",
        "outputId": "93288b67-10b9-490c-b501-a27ae2137da0"
      },
      "execution_count": null,
      "outputs": [
        {
          "output_type": "execute_result",
          "data": {
            "text/plain": [
              "{'India': 'Country',\n",
              " 'Austria': 'Country',\n",
              " 'USA': 'Country',\n",
              " 'Pakistan': 'Country',\n",
              " 'Czech Republic': 'Country'}"
            ]
          },
          "metadata": {},
          "execution_count": 41
        }
      ]
    },
    {
      "cell_type": "code",
      "source": [
        "key = \"Country\"\n",
        "value = (\"India\", \"Austria\", \"USA\", \"Pakistan\", \"Czech Republic\")\n",
        "countries = dict.fromkeys(key, value) # function fromkeys\n",
        "countries"
      ],
      "metadata": {
        "colab": {
          "base_uri": "https://localhost:8080/"
        },
        "id": "9my9_Zhfiokw",
        "outputId": "5541ad77-2f8e-4eb0-cc52-8502043ecfdd"
      },
      "execution_count": null,
      "outputs": [
        {
          "output_type": "execute_result",
          "data": {
            "text/plain": [
              "{'C': ('India', 'Austria', 'USA', 'Pakistan', 'Czech Republic'),\n",
              " 'o': ('India', 'Austria', 'USA', 'Pakistan', 'Czech Republic'),\n",
              " 'u': ('India', 'Austria', 'USA', 'Pakistan', 'Czech Republic'),\n",
              " 'n': ('India', 'Austria', 'USA', 'Pakistan', 'Czech Republic'),\n",
              " 't': ('India', 'Austria', 'USA', 'Pakistan', 'Czech Republic'),\n",
              " 'r': ('India', 'Austria', 'USA', 'Pakistan', 'Czech Republic'),\n",
              " 'y': ('India', 'Austria', 'USA', 'Pakistan', 'Czech Republic')}"
            ]
          },
          "metadata": {},
          "execution_count": 42
        }
      ]
    },
    {
      "cell_type": "markdown",
      "source": [
        "#### `.zip`"
      ],
      "metadata": {
        "id": "6w_mkbEThee2"
      }
    },
    {
      "cell_type": "code",
      "source": [
        "#creating dictionary from keys sequence and value sequence\n",
        "k = (12,13,14,15,16)\n",
        "v = (20,21,22,23,24)\n",
        "d = dict(zip(k,v))\n",
        "print(d)"
      ],
      "metadata": {
        "colab": {
          "base_uri": "https://localhost:8080/"
        },
        "id": "DncB4tophac2",
        "outputId": "47e6ba6e-f749-4669-9df5-f628bc9198ac"
      },
      "execution_count": null,
      "outputs": [
        {
          "output_type": "stream",
          "name": "stdout",
          "text": [
            "{12: 20, 13: 21, 14: 22, 15: 23, 16: 24}\n"
          ]
        }
      ]
    },
    {
      "cell_type": "markdown",
      "source": [
        "#### `items()` "
      ],
      "metadata": {
        "id": "OZUEnDdRpLnA"
      }
    },
    {
      "cell_type": "markdown",
      "source": [
        "method returns a view object that displays a list of dictionary's `(key, value)` `tuple` pairs."
      ],
      "metadata": {
        "id": "4zsmvBJc2ZS0"
      }
    },
    {
      "cell_type": "code",
      "source": [
        "d1 = {\"k1\":\"v1\",\"k2\":\"v2\",\"k3\":\"v3\"}\n",
        "d1.items()"
      ],
      "metadata": {
        "colab": {
          "base_uri": "https://localhost:8080/"
        },
        "id": "myUFwCDTnoaf",
        "outputId": "4b7cc27c-d81f-400a-ae33-d234555b4eb5"
      },
      "execution_count": null,
      "outputs": [
        {
          "output_type": "execute_result",
          "data": {
            "text/plain": [
              "dict_items([('k1', 'v1'), ('k2', 'v2'), ('k3', 'v3')])"
            ]
          },
          "metadata": {},
          "execution_count": 44
        }
      ]
    },
    {
      "cell_type": "markdown",
      "source": [
        "#### `del`"
      ],
      "metadata": {
        "id": "GdYD7wdspbB0"
      }
    },
    {
      "cell_type": "code",
      "source": [
        "# random sales dictionary\n",
        "sales = { 'apple': 2, 'orange': 3, 'grapes': 4 }\n",
        "items = sales.items()\n",
        "print('Original items: ', items)\n",
        "\n",
        "# delete an item from dictionary\n",
        "del[sales['apple']]\n",
        "print('Updated items: ', items)"
      ],
      "metadata": {
        "colab": {
          "base_uri": "https://localhost:8080/"
        },
        "id": "BsYPlTsJo-If",
        "outputId": "0d3e2d9f-03d3-4818-85c6-2852ddbafbd3"
      },
      "execution_count": null,
      "outputs": [
        {
          "output_type": "stream",
          "name": "stdout",
          "text": [
            "Original items:  dict_items([('apple', 2), ('orange', 3), ('grapes', 4)])\n",
            "Updated items:  dict_items([('orange', 3), ('grapes', 4)])\n"
          ]
        }
      ]
    },
    {
      "cell_type": "markdown",
      "source": [
        "#### `get()` "
      ],
      "metadata": {
        "id": "lZbKnX31q5TA"
      }
    },
    {
      "cell_type": "markdown",
      "source": [
        "method returns the value for the specified key if the key is in the dictionary."
      ],
      "metadata": {
        "id": "2gWmYn-N2hoa"
      }
    },
    {
      "cell_type": "code",
      "source": [
        "marks = {'Physics':67, 'Maths':87}\n",
        "\n",
        "print(marks.get('Physics'))"
      ],
      "metadata": {
        "colab": {
          "base_uri": "https://localhost:8080/"
        },
        "id": "lGr2opFEq46D",
        "outputId": "d95e2514-e82f-4dd3-bf1d-63ee9dacd855"
      },
      "execution_count": null,
      "outputs": [
        {
          "output_type": "stream",
          "name": "stdout",
          "text": [
            "67\n"
          ]
        }
      ]
    },
    {
      "cell_type": "markdown",
      "source": [
        "**or**"
      ],
      "metadata": {
        "id": "uFxMIvPRrZBN"
      }
    },
    {
      "cell_type": "code",
      "source": [
        "marks = {\"Physics\":67, \"Maths\":87}\n",
        "marks[\"Physics\"]"
      ],
      "metadata": {
        "colab": {
          "base_uri": "https://localhost:8080/"
        },
        "id": "4UAIz3oprEQe",
        "outputId": "fd508461-a092-4cce-f767-fb959d1c3a47"
      },
      "execution_count": null,
      "outputs": [
        {
          "output_type": "execute_result",
          "data": {
            "text/plain": [
              "67"
            ]
          },
          "metadata": {},
          "execution_count": 47
        }
      ]
    },
    {
      "cell_type": "markdown",
      "source": [
        "#### `.keys()` , `.values()`"
      ],
      "metadata": {
        "id": "QF2ifv7pr6HM"
      }
    },
    {
      "cell_type": "code",
      "source": [
        "d1 = {\"k1\":\"v1\",\"k2\":\"v2\",\"k3\":\"v3\"}\n",
        "print(d1.keys())\n",
        "print(d1.values())"
      ],
      "metadata": {
        "colab": {
          "base_uri": "https://localhost:8080/"
        },
        "id": "odmSechdrwA8",
        "outputId": "ecd9fb4a-18f8-4c42-97dd-0d41e6857afc"
      },
      "execution_count": null,
      "outputs": [
        {
          "output_type": "stream",
          "name": "stdout",
          "text": [
            "dict_keys(['k1', 'k2', 'k3'])\n",
            "dict_values(['v1', 'v2', 'v3'])\n"
          ]
        }
      ]
    },
    {
      "cell_type": "markdown",
      "source": [
        "#### `.popitem()`"
      ],
      "metadata": {
        "id": "L5TN3FJY2D9q"
      }
    },
    {
      "cell_type": "markdown",
      "source": [
        " `popitem()` "
      ],
      "metadata": {
        "id": "GWDfAzNnsJE1"
      }
    },
    {
      "cell_type": "markdown",
      "source": [
        "method removes and returns the **last element** `(key, value)` pair inserted into the dictionary."
      ],
      "metadata": {
        "id": "Vw40fdRj2da2"
      }
    },
    {
      "cell_type": "code",
      "source": [
        "d1 = {\"k1\":\"v1\",\"k2\":\"v2\",\"k3\":\"v3\"}\n",
        "\n",
        "# (\"k3\":\"v3\") is inserted at the last, so it is removed.\n",
        "d1.popitem()\n",
        "\n",
        "print('d1 = ', d1)\n",
        "\n",
        "# inserting a new element pair\n",
        "d1['k3'] = 'New Element'\n",
        "print(d1)"
      ],
      "metadata": {
        "colab": {
          "base_uri": "https://localhost:8080/"
        },
        "id": "BL5zIJQnsGoe",
        "outputId": "280da0b1-f047-4a8a-f4cb-29697fec7754"
      },
      "execution_count": null,
      "outputs": [
        {
          "output_type": "stream",
          "name": "stdout",
          "text": [
            "d1 =  {'k1': 'v1', 'k2': 'v2'}\n",
            "{'k1': 'v1', 'k2': 'v2', 'k3': 'New Element'}\n"
          ]
        }
      ]
    },
    {
      "cell_type": "markdown",
      "source": [
        "#### `pop()`"
      ],
      "metadata": {
        "id": "FJGVYPOoubRA"
      }
    },
    {
      "cell_type": "markdown",
      "source": [
        "method removes and returns an element from a dictionary having the given `key`."
      ],
      "metadata": {
        "id": "6ImXG8-92u3q"
      }
    },
    {
      "cell_type": "code",
      "source": [
        "d1 = {\"k1\":\"v1\",\"k2\":\"v2\",\"k3\":\"v3\"}\n",
        "\n",
        "d1_new = d1.pop(\"k2\")\n",
        "print(d1_new)"
      ],
      "metadata": {
        "colab": {
          "base_uri": "https://localhost:8080/"
        },
        "id": "_K3dfBROuZ5A",
        "outputId": "c159a176-3eda-4df4-89fd-ab962819abf8"
      },
      "execution_count": null,
      "outputs": [
        {
          "output_type": "stream",
          "name": "stdout",
          "text": [
            "v2\n"
          ]
        }
      ]
    },
    {
      "cell_type": "markdown",
      "source": [
        "#### `setdefault`"
      ],
      "metadata": {
        "id": "RHsm9KhuxLeL"
      }
    },
    {
      "cell_type": "code",
      "source": [
        "car = {\n",
        "  \"brand\": \"Ford\",\n",
        "  \"model\": \"Mustang\",\n",
        "  \"year\": 1964\n",
        "}\n",
        "\n",
        "x = car.setdefault(\"model\", \"Bronco\")\n",
        "\n",
        "# since the key is already present, so its respective value is returned \n",
        "print(x)\n",
        "car"
      ],
      "metadata": {
        "colab": {
          "base_uri": "https://localhost:8080/"
        },
        "id": "L5cFEP-0v_fm",
        "outputId": "c2f599c2-2fcb-45af-c9cc-41c015ff6501"
      },
      "execution_count": null,
      "outputs": [
        {
          "output_type": "stream",
          "name": "stdout",
          "text": [
            "Mustang\n"
          ]
        },
        {
          "output_type": "execute_result",
          "data": {
            "text/plain": [
              "{'brand': 'Ford', 'model': 'Mustang', 'year': 1964}"
            ]
          },
          "metadata": {},
          "execution_count": 51
        }
      ]
    },
    {
      "cell_type": "code",
      "source": [
        "car = {\n",
        "  \"brand\": \"Ford\",\n",
        "  \"model\": \"Mustang\",\n",
        "  \"year\": 1964\n",
        "}\n",
        "\n",
        "x = car.setdefault(\"color\", \"white\")\n",
        "\n",
        "# since the key is not present, so the key:value pair is added to the dict\n",
        "print(x)\n",
        "car"
      ],
      "metadata": {
        "colab": {
          "base_uri": "https://localhost:8080/"
        },
        "id": "RVn9k7nRwOLv",
        "outputId": "0ed43fb5-852a-4002-cfc5-a5532d9bfae0"
      },
      "execution_count": null,
      "outputs": [
        {
          "output_type": "stream",
          "name": "stdout",
          "text": [
            "white\n"
          ]
        },
        {
          "output_type": "execute_result",
          "data": {
            "text/plain": [
              "{'brand': 'Ford', 'model': 'Mustang', 'year': 1964, 'color': 'white'}"
            ]
          },
          "metadata": {},
          "execution_count": 52
        }
      ]
    },
    {
      "cell_type": "markdown",
      "source": [
        "#### `.update()`"
      ],
      "metadata": {
        "id": "GegUwGAm07gT"
      }
    },
    {
      "cell_type": "code",
      "source": [
        "d = {1: \"one\", 2: \"three\"}\n",
        "d1 = {2: \"two\"}\n",
        "\n",
        "# updates the value of key 2\n",
        "d.update(d1)\n",
        "d1 = {3: \"three\"}\n",
        "\n",
        "# adds element with key 3\n",
        "d.update(d1)\n",
        "print(d)"
      ],
      "metadata": {
        "colab": {
          "base_uri": "https://localhost:8080/"
        },
        "id": "dMpbrG8F09B6",
        "outputId": "8b2fe93d-fd74-4150-afae-39d8132ee75f"
      },
      "execution_count": null,
      "outputs": [
        {
          "output_type": "stream",
          "name": "stdout",
          "text": [
            "{1: 'one', 2: 'two', 3: 'three'}\n"
          ]
        }
      ]
    },
    {
      "cell_type": "markdown",
      "metadata": {
        "id": "g45pDtTM4Aat"
      },
      "source": [
        "### 3.3. Tuple\n",
        "* Tuple is an `ordered` collection of data. \n",
        "* It is `immutable` and `allow duplicates`. \n",
        "* It list is created by enclosing the data items with in round brackets delimited by \",\""
      ]
    },
    {
      "cell_type": "code",
      "source": [
        "t1 = (10,20,30)\n",
        "t1[1]"
      ],
      "metadata": {
        "colab": {
          "base_uri": "https://localhost:8080/"
        },
        "id": "Z62tA2GjeLvh",
        "outputId": "df52addd-0138-46cb-dbe5-e783609abf7e"
      },
      "execution_count": null,
      "outputs": [
        {
          "output_type": "execute_result",
          "data": {
            "text/plain": [
              "20"
            ]
          },
          "metadata": {},
          "execution_count": 54
        }
      ]
    },
    {
      "cell_type": "code",
      "metadata": {
        "id": "7kbQlvDo4Aat",
        "colab": {
          "base_uri": "https://localhost:8080/"
        },
        "outputId": "630127f5-3751-41dd-ff8a-d79fb1c9429d"
      },
      "source": [
        "# Creating a tuple\n",
        "marks = (35, 68, 96, 80, 90)\n",
        "print(marks)"
      ],
      "execution_count": null,
      "outputs": [
        {
          "output_type": "stream",
          "name": "stdout",
          "text": [
            "(35, 68, 96, 80, 90)\n"
          ]
        }
      ]
    },
    {
      "cell_type": "code",
      "metadata": {
        "id": "dKS2Lgw_4Aax",
        "colab": {
          "base_uri": "https://localhost:8080/"
        },
        "outputId": "d15b3758-ec32-4312-e263-df8d4a2a0a8f"
      },
      "source": [
        "# Indexing tuple elements\n",
        "print(\"marks[0] : \", marks[0])\n",
        "print(\"marks[len(marks)-1] : \", marks[len(marks)-1])\n",
        "print(\"marks[-1] : \", marks[-1])"
      ],
      "execution_count": null,
      "outputs": [
        {
          "output_type": "stream",
          "name": "stdout",
          "text": [
            "marks[0] :  35\n",
            "marks[len(marks)-1] :  90\n",
            "marks[-1] :  90\n"
          ]
        }
      ]
    },
    {
      "cell_type": "markdown",
      "source": [
        "$\\color{red}{\\textbf{Note}}$: We cannot modify the elemnts in a tuple\n",
        "\n",
        "```python\n",
        "marks = (35, 68, 96, 80, 90)\n",
        "marks[0] = 38\n",
        "---------------------------------------------------------------------------\n",
        "TypeError                                 Traceback (most recent call last)\n",
        "<ipython-input-11-125eb5cf945c> in <module>()\n",
        "      1 #  Note: We cannot modify the elemnts in a tuple\n",
        "----> 2 marks[0] = 38\n",
        "\n",
        "TypeError: 'tuple' object does not support item assignment\n",
        "```"
      ],
      "metadata": {
        "id": "xIf5qZRxagfF"
      }
    },
    {
      "cell_type": "code",
      "metadata": {
        "id": "4cebrSMp4Aa6",
        "colab": {
          "base_uri": "https://localhost:8080/"
        },
        "outputId": "a4d8e8d6-5fd3-4818-d7ce-52be0ec844b6"
      },
      "source": [
        "# Slicing the tuple\n",
        "# Syntax: tuple[start:end(exclusive)]\n",
        "marks = (35, 68, 96, 80, 90, 11, 12, 37, 54)\n",
        "\n",
        "print(len(marks))\n",
        "print(marks[1:len(marks)])\n",
        "print(marks[:len(marks)])\n",
        "print(marks[:len(marks)-2])\n",
        "print(marks[0:])       \n",
        "print(marks[:6])\n",
        "print(marks[2:4])\n",
        "print(marks[1:7:2])"
      ],
      "execution_count": null,
      "outputs": [
        {
          "output_type": "stream",
          "name": "stdout",
          "text": [
            "9\n",
            "(68, 96, 80, 90, 11, 12, 37, 54)\n",
            "(35, 68, 96, 80, 90, 11, 12, 37, 54)\n",
            "(35, 68, 96, 80, 90, 11, 12)\n",
            "(35, 68, 96, 80, 90, 11, 12, 37, 54)\n",
            "(35, 68, 96, 80, 90, 11)\n",
            "(96, 80)\n",
            "(68, 80, 11)\n"
          ]
        }
      ]
    },
    {
      "cell_type": "code",
      "metadata": {
        "id": "BAdUio0n4Aa-",
        "colab": {
          "base_uri": "https://localhost:8080/"
        },
        "outputId": "df15e1bf-3028-4ad5-a080-df6264f7de72"
      },
      "source": [
        "# tuple Comprehesion\n",
        "pass_mark = 50\n",
        "marks_new = tuple(mark for mark in marks if mark > pass_mark)\n",
        "print(sorted(marks_new))"
      ],
      "execution_count": null,
      "outputs": [
        {
          "output_type": "stream",
          "name": "stdout",
          "text": [
            "[54, 68, 80, 90, 96]\n"
          ]
        }
      ]
    },
    {
      "cell_type": "markdown",
      "metadata": {
        "id": "oE2GdE7D4AbD"
      },
      "source": [
        "### 3.4. Set\n",
        "* Set is an `unordered` collection of data. \n",
        "* It is `mutable` and does `not allow duplicates`. \n",
        "* It is created by enclosing the data items with in curly brackets delimited by \",\""
      ]
    },
    {
      "cell_type": "code",
      "source": [
        "s1 = {1,2,3,4}\n",
        "s1"
      ],
      "metadata": {
        "colab": {
          "base_uri": "https://localhost:8080/"
        },
        "id": "nLFsG5R-fKxo",
        "outputId": "c927503f-1688-46ef-b198-0a4f12faf112"
      },
      "execution_count": null,
      "outputs": [
        {
          "output_type": "execute_result",
          "data": {
            "text/plain": [
              "{1, 2, 3, 4}"
            ]
          },
          "metadata": {},
          "execution_count": 59
        }
      ]
    },
    {
      "cell_type": "code",
      "source": [
        "s2 = {1,1,1,2,2,2,3,3,3,4,4,4}\n",
        "s2"
      ],
      "metadata": {
        "colab": {
          "base_uri": "https://localhost:8080/"
        },
        "id": "F_idmnrHfPcI",
        "outputId": "616bb9dc-f514-449b-f686-ac9a146193e8"
      },
      "execution_count": null,
      "outputs": [
        {
          "output_type": "execute_result",
          "data": {
            "text/plain": [
              "{1, 2, 3, 4}"
            ]
          },
          "metadata": {},
          "execution_count": 60
        }
      ]
    },
    {
      "cell_type": "code",
      "metadata": {
        "id": "A-Xv_uZd4AbD",
        "colab": {
          "base_uri": "https://localhost:8080/"
        },
        "outputId": "1159e384-dc3f-4c14-81bf-d10e3c0829fc"
      },
      "source": [
        "cities = {\"Madras\", \"Delhi\", \"Bombay\", \"Calcutta\", \"Madras\"}\n",
        "\n",
        "print(cities)"
      ],
      "execution_count": null,
      "outputs": [
        {
          "output_type": "stream",
          "name": "stdout",
          "text": [
            "{'Madras', 'Delhi', 'Calcutta', 'Bombay'}\n"
          ]
        }
      ]
    },
    {
      "cell_type": "code",
      "metadata": {
        "id": "5HmWl31O4AbG",
        "colab": {
          "base_uri": "https://localhost:8080/"
        },
        "outputId": "cea8404b-cef3-40f0-bb0f-71d515015b42"
      },
      "source": [
        "# Set Operations\n",
        "a = {1, 2, 3, 4}\n",
        "b = {4, 5, 6}\n",
        "\n",
        "# Set Union\n",
        "print(a | b)\n",
        "\n",
        "# Set Intersection\n",
        "print(a & b)\n",
        "\n",
        "# Set Difference\n",
        "print(a - b)\n",
        "\n",
        "# Symmetric Difference\n",
        "print(a ^ b)"
      ],
      "execution_count": null,
      "outputs": [
        {
          "output_type": "stream",
          "name": "stdout",
          "text": [
            "{1, 2, 3, 4, 5, 6}\n",
            "{4}\n",
            "{1, 2, 3}\n",
            "{1, 2, 3, 5, 6}\n"
          ]
        }
      ]
    },
    {
      "cell_type": "markdown",
      "metadata": {
        "id": "JkLWI_g24AbU"
      },
      "source": [
        "### 3.5. String\n",
        "* A string is a sequence of charactes\n",
        "* It is `immutable`. \n",
        "* It is created by enclosing text with single/double/triple quotes"
      ]
    },
    {
      "cell_type": "code",
      "source": [
        "\"a string is the sequence of character\""
      ],
      "metadata": {
        "colab": {
          "base_uri": "https://localhost:8080/",
          "height": 36
        },
        "id": "rbSX_sjm8VYA",
        "outputId": "8c2653b4-843d-460b-c366-c2617c534354"
      },
      "execution_count": null,
      "outputs": [
        {
          "output_type": "execute_result",
          "data": {
            "text/plain": [
              "'a string is the sequence of character'"
            ],
            "application/vnd.google.colaboratory.intrinsic+json": {
              "type": "string"
            }
          },
          "metadata": {},
          "execution_count": 63
        }
      ]
    },
    {
      "cell_type": "code",
      "source": [
        "\"string is immutable\""
      ],
      "metadata": {
        "colab": {
          "base_uri": "https://localhost:8080/",
          "height": 36
        },
        "id": "B-lBUsmS864T",
        "outputId": "4d435449-43ad-4d6a-aafe-65fc93b0cd67"
      },
      "execution_count": null,
      "outputs": [
        {
          "output_type": "execute_result",
          "data": {
            "text/plain": [
              "'string is immutable'"
            ],
            "application/vnd.google.colaboratory.intrinsic+json": {
              "type": "string"
            }
          },
          "metadata": {},
          "execution_count": 64
        }
      ]
    },
    {
      "cell_type": "markdown",
      "source": [
        "**Varible**"
      ],
      "metadata": {
        "id": "tp9VPdYD9Lmz"
      }
    },
    {
      "cell_type": "code",
      "source": [
        "var = \"Knowledge\"\n",
        "var"
      ],
      "metadata": {
        "colab": {
          "base_uri": "https://localhost:8080/",
          "height": 36
        },
        "id": "JrgDIk5G9FwV",
        "outputId": "2ee8b63f-0eb2-4350-8882-564d8c83f786"
      },
      "execution_count": null,
      "outputs": [
        {
          "output_type": "execute_result",
          "data": {
            "text/plain": [
              "'Knowledge'"
            ],
            "application/vnd.google.colaboratory.intrinsic+json": {
              "type": "string"
            }
          },
          "metadata": {},
          "execution_count": 65
        }
      ]
    },
    {
      "cell_type": "markdown",
      "source": [
        ">A variable name must start with a letter or the **underscore** character. A variable name *cannot* start with a **number**. A variable name can only `(A-z, 0-9, and _ )`. Variable names are `case-sensitive` (`name`, `Name` and `NAME` are three different variables).\n",
        "\n",
        "```python\n",
        "1var = 'Knowledge'\n",
        "1var\n",
        "---------------------------\n",
        " Input In [line Number]\n",
        "    1var = \"Knowledge\"\n",
        "     ^\n",
        "SyntaxError: invalid syntax\n",
        "---------------------------\n",
        "```"
      ],
      "metadata": {
        "id": "an5UIk2J9lk0"
      }
    },
    {
      "cell_type": "code",
      "source": [
        "var_1 = \"Knowledge\"\n",
        "var_1"
      ],
      "metadata": {
        "colab": {
          "base_uri": "https://localhost:8080/",
          "height": 36
        },
        "id": "jHoEtPli-R_6",
        "outputId": "606e751c-f75d-4eab-9ab9-9f653eb0bae8"
      },
      "execution_count": null,
      "outputs": [
        {
          "output_type": "execute_result",
          "data": {
            "text/plain": [
              "'Knowledge'"
            ],
            "application/vnd.google.colaboratory.intrinsic+json": {
              "type": "string"
            }
          },
          "metadata": {},
          "execution_count": 66
        }
      ]
    },
    {
      "cell_type": "code",
      "source": [
        "_var1 = \"Knowledge\"\n",
        "_var1"
      ],
      "metadata": {
        "colab": {
          "base_uri": "https://localhost:8080/",
          "height": 36
        },
        "id": "0VRZmDcP-Ztk",
        "outputId": "7a0d2477-3b29-4562-be67-b6edc11170c2"
      },
      "execution_count": null,
      "outputs": [
        {
          "output_type": "execute_result",
          "data": {
            "text/plain": [
              "'Knowledge'"
            ],
            "application/vnd.google.colaboratory.intrinsic+json": {
              "type": "string"
            }
          },
          "metadata": {},
          "execution_count": 67
        }
      ]
    },
    {
      "cell_type": "code",
      "metadata": {
        "id": "8fcBSeW-4AbV",
        "colab": {
          "base_uri": "https://localhost:8080/"
        },
        "outputId": "da33c203-a6b8-4944-f148-cf3a7b7f91d5"
      },
      "source": [
        "word = \"Malayalam\"\n",
        "print(word)"
      ],
      "execution_count": null,
      "outputs": [
        {
          "output_type": "stream",
          "name": "stdout",
          "text": [
            "Malayalam\n"
          ]
        }
      ]
    },
    {
      "cell_type": "code",
      "metadata": {
        "id": "k6B77vE54AbY",
        "colab": {
          "base_uri": "https://localhost:8080/"
        },
        "outputId": "5b36fbd8-134a-4bb9-f963-33fe59a0963e"
      },
      "source": [
        "# String operations\n",
        "\n",
        "print(word.lower())\n",
        "print(word.upper())\n",
        "print(len(word))\n",
        "print(word.startswith(\"A\"))\n",
        "print(word.endswith(\"m\"))"
      ],
      "execution_count": null,
      "outputs": [
        {
          "output_type": "stream",
          "name": "stdout",
          "text": [
            "malayalam\n",
            "MALAYALAM\n",
            "9\n",
            "False\n",
            "True\n"
          ]
        }
      ]
    },
    {
      "cell_type": "code",
      "metadata": {
        "id": "PjmnRsLj4Abe",
        "colab": {
          "base_uri": "https://localhost:8080/"
        },
        "outputId": "d3fba672-7d6b-4f5d-f13b-09cf740bdca3"
      },
      "source": [
        "# Slicing the string\n",
        "print(word[0:5])"
      ],
      "execution_count": null,
      "outputs": [
        {
          "output_type": "stream",
          "name": "stdout",
          "text": [
            "Malay\n"
          ]
        }
      ]
    },
    {
      "cell_type": "code",
      "metadata": {
        "id": "5kvZI2O54Abi",
        "colab": {
          "base_uri": "https://localhost:8080/"
        },
        "outputId": "1d323afb-83e1-4025-f22e-2fbdfb4b6520"
      },
      "source": [
        "# Coverting string to a list of characters\n",
        "print(list(word))"
      ],
      "execution_count": null,
      "outputs": [
        {
          "output_type": "stream",
          "name": "stdout",
          "text": [
            "['M', 'a', 'l', 'a', 'y', 'a', 'l', 'a', 'm']\n"
          ]
        }
      ]
    },
    {
      "cell_type": "code",
      "metadata": {
        "id": "buxflZi84Abl",
        "colab": {
          "base_uri": "https://localhost:8080/"
        },
        "outputId": "5bd0d7f1-ec7c-4be0-9476-664dd1fab112"
      },
      "source": [
        "# splitting the text\n",
        "sentence = \"I love Machine Learning\"\n",
        "words = sentence.split(\" \")\n",
        "print(words)"
      ],
      "execution_count": null,
      "outputs": [
        {
          "output_type": "stream",
          "name": "stdout",
          "text": [
            "['I', 'love', 'Machine', 'Learning']\n"
          ]
        }
      ]
    },
    {
      "cell_type": "code",
      "metadata": {
        "id": "QTBTzN_A4Abo",
        "colab": {
          "base_uri": "https://localhost:8080/"
        },
        "outputId": "e982bf61-dd96-4c61-a19f-339d63f91b9e"
      },
      "source": [
        "# finding length of a list\n",
        "print(len(words))"
      ],
      "execution_count": null,
      "outputs": [
        {
          "output_type": "stream",
          "name": "stdout",
          "text": [
            "4\n"
          ]
        }
      ]
    },
    {
      "cell_type": "markdown",
      "source": [
        "### 3.6 Comparision & Logical Operators"
      ],
      "metadata": {
        "id": "xF_7XNlffeK0"
      }
    },
    {
      "cell_type": "code",
      "source": [
        "10 > 20"
      ],
      "metadata": {
        "colab": {
          "base_uri": "https://localhost:8080/"
        },
        "id": "5VAPW8LtfkKV",
        "outputId": "afe6c832-c99f-4359-a98b-7b0e750dad2e"
      },
      "execution_count": null,
      "outputs": [
        {
          "output_type": "execute_result",
          "data": {
            "text/plain": [
              "False"
            ]
          },
          "metadata": {},
          "execution_count": 74
        }
      ]
    },
    {
      "cell_type": "code",
      "source": [
        "10 < 20"
      ],
      "metadata": {
        "colab": {
          "base_uri": "https://localhost:8080/"
        },
        "id": "NOFzSAtIfq2H",
        "outputId": "563e5991-a5bf-4619-db17-e33dc2c30f5d"
      },
      "execution_count": null,
      "outputs": [
        {
          "output_type": "execute_result",
          "data": {
            "text/plain": [
              "True"
            ]
          },
          "metadata": {},
          "execution_count": 75
        }
      ]
    },
    {
      "cell_type": "code",
      "source": [
        "10 <= 20"
      ],
      "metadata": {
        "colab": {
          "base_uri": "https://localhost:8080/"
        },
        "id": "kss2zmFOftqv",
        "outputId": "f572fb3a-0984-4624-c035-55cef830fcbb"
      },
      "execution_count": null,
      "outputs": [
        {
          "output_type": "execute_result",
          "data": {
            "text/plain": [
              "True"
            ]
          },
          "metadata": {},
          "execution_count": 76
        }
      ]
    },
    {
      "cell_type": "code",
      "source": [
        "10 >= 20"
      ],
      "metadata": {
        "colab": {
          "base_uri": "https://localhost:8080/"
        },
        "id": "4PVufRo3fx85",
        "outputId": "d17f5f70-0600-4acd-ca3b-dd7005d57851"
      },
      "execution_count": null,
      "outputs": [
        {
          "output_type": "execute_result",
          "data": {
            "text/plain": [
              "False"
            ]
          },
          "metadata": {},
          "execution_count": 77
        }
      ]
    },
    {
      "cell_type": "code",
      "source": [
        "10 == 10"
      ],
      "metadata": {
        "colab": {
          "base_uri": "https://localhost:8080/"
        },
        "id": "RnC1vd8Vf5DQ",
        "outputId": "621a9b4a-a5a0-4eb5-e876-aecfda8e184a"
      },
      "execution_count": null,
      "outputs": [
        {
          "output_type": "execute_result",
          "data": {
            "text/plain": [
              "True"
            ]
          },
          "metadata": {},
          "execution_count": 78
        }
      ]
    },
    {
      "cell_type": "code",
      "source": [
        "10 == 20"
      ],
      "metadata": {
        "colab": {
          "base_uri": "https://localhost:8080/"
        },
        "id": "HtuXQkkWf9Jy",
        "outputId": "1e08764e-6e5b-4d21-c900-d3e1da33c30d"
      },
      "execution_count": null,
      "outputs": [
        {
          "output_type": "execute_result",
          "data": {
            "text/plain": [
              "False"
            ]
          },
          "metadata": {},
          "execution_count": 79
        }
      ]
    },
    {
      "cell_type": "code",
      "source": [
        "\"apple\" == \"apple\""
      ],
      "metadata": {
        "colab": {
          "base_uri": "https://localhost:8080/"
        },
        "id": "WXdvTq4ugIAp",
        "outputId": "67c80ced-51f9-46f3-9056-3a135a7c0d67"
      },
      "execution_count": null,
      "outputs": [
        {
          "output_type": "execute_result",
          "data": {
            "text/plain": [
              "True"
            ]
          },
          "metadata": {},
          "execution_count": 80
        }
      ]
    },
    {
      "cell_type": "code",
      "source": [
        "\"apple\" == \"mango\""
      ],
      "metadata": {
        "colab": {
          "base_uri": "https://localhost:8080/"
        },
        "id": "vIt5NP1hgWaN",
        "outputId": "cc84bb39-c5d3-44b1-85de-4d491354cb97"
      },
      "execution_count": null,
      "outputs": [
        {
          "output_type": "execute_result",
          "data": {
            "text/plain": [
              "False"
            ]
          },
          "metadata": {},
          "execution_count": 81
        }
      ]
    },
    {
      "cell_type": "code",
      "source": [
        "\"apple\" != \"apple\""
      ],
      "metadata": {
        "colab": {
          "base_uri": "https://localhost:8080/"
        },
        "id": "-QS5GDIZgP0J",
        "outputId": "43ae2d68-691c-4fd3-e226-bf404dd18342"
      },
      "execution_count": null,
      "outputs": [
        {
          "output_type": "execute_result",
          "data": {
            "text/plain": [
              "False"
            ]
          },
          "metadata": {},
          "execution_count": 82
        }
      ]
    },
    {
      "cell_type": "code",
      "source": [
        "(10 > 20) and (20 < 30)"
      ],
      "metadata": {
        "colab": {
          "base_uri": "https://localhost:8080/"
        },
        "id": "vGv41RbWgdQu",
        "outputId": "ccda7b02-0c4b-45cb-a6d9-4722f7fa140a"
      },
      "execution_count": null,
      "outputs": [
        {
          "output_type": "execute_result",
          "data": {
            "text/plain": [
              "False"
            ]
          },
          "metadata": {},
          "execution_count": 83
        }
      ]
    },
    {
      "cell_type": "code",
      "source": [
        "(10 < 20) and (20 < 30)"
      ],
      "metadata": {
        "colab": {
          "base_uri": "https://localhost:8080/"
        },
        "id": "zp6sogm5geBb",
        "outputId": "e34dfa0a-f516-4da1-a0c1-e4a42be2913f"
      },
      "execution_count": null,
      "outputs": [
        {
          "output_type": "execute_result",
          "data": {
            "text/plain": [
              "True"
            ]
          },
          "metadata": {},
          "execution_count": 84
        }
      ]
    },
    {
      "cell_type": "code",
      "source": [
        "(10 > 20) or (20 < 30)"
      ],
      "metadata": {
        "colab": {
          "base_uri": "https://localhost:8080/"
        },
        "id": "iLaOEPsqghdX",
        "outputId": "5af5dca1-ecc0-4fb9-bf16-7221a64d300b"
      },
      "execution_count": null,
      "outputs": [
        {
          "output_type": "execute_result",
          "data": {
            "text/plain": [
              "True"
            ]
          },
          "metadata": {},
          "execution_count": 85
        }
      ]
    },
    {
      "cell_type": "code",
      "source": [
        "(10 == 10) and (20 == 30) and (40 == 40)"
      ],
      "metadata": {
        "colab": {
          "base_uri": "https://localhost:8080/"
        },
        "id": "ni8BYs4cgjUC",
        "outputId": "3cceda7d-76de-4894-c610-7a4fba30da8c"
      },
      "execution_count": null,
      "outputs": [
        {
          "output_type": "execute_result",
          "data": {
            "text/plain": [
              "False"
            ]
          },
          "metadata": {},
          "execution_count": 86
        }
      ]
    },
    {
      "cell_type": "markdown",
      "metadata": {
        "id": "gkvHJljk4Abr"
      },
      "source": [
        "## **4. Control Structures**\n",
        "\n",
        "`if...else` syntax:\n",
        "    \n",
        "```python\n",
        "if CONDITION:\n",
        "    code block 1\n",
        "elif CONDITION:\n",
        "    code block 2\n",
        "else:\n",
        "    code block n\n",
        "```"
      ]
    },
    {
      "cell_type": "code",
      "metadata": {
        "id": "sphwK0u84Abs"
      },
      "source": [
        "a = 3\n",
        "b = 5\n",
        "\n",
        "if a > b:\n",
        "    print(\"a is greater than b\")"
      ],
      "execution_count": null,
      "outputs": []
    },
    {
      "cell_type": "code",
      "metadata": {
        "id": "16VoK1iK4Aby",
        "colab": {
          "base_uri": "https://localhost:8080/"
        },
        "outputId": "a2cdad21-4b61-488e-9e3d-2441fa77efcb"
      },
      "source": [
        "if a > b:\n",
        "    print(\"a is greater than b\")\n",
        "else:\n",
        "    print(\"b is greater than a\")"
      ],
      "execution_count": null,
      "outputs": [
        {
          "output_type": "stream",
          "name": "stdout",
          "text": [
            "b is greater than a\n"
          ]
        }
      ]
    },
    {
      "cell_type": "code",
      "source": [
        "num1 = int(input(\"Enter the number:\"))\n",
        "\n",
        "if num1 > 30 and (num1 <= 40):\n",
        "    print(\"You have passed with 3rd Division.\")\n",
        "elif (num1 > 40) and (num1 < 60):\n",
        "    print(\"You have passed with 2nd Division.\")\n",
        "elif (num1 >= 60):\n",
        "    print(\"You have passed with 1st Division.\")\n",
        "else:\n",
        "    print(\"You are failed\")"
      ],
      "metadata": {
        "colab": {
          "base_uri": "https://localhost:8080/"
        },
        "id": "JSmnsF3bAzf3",
        "outputId": "91eb4ba1-d066-4e86-cb1f-da4ed8415f32"
      },
      "execution_count": null,
      "outputs": [
        {
          "output_type": "stream",
          "name": "stdout",
          "text": [
            "Enter the number:39\n",
            "You have passed with 3rd Division.\n"
          ]
        }
      ]
    },
    {
      "cell_type": "code",
      "metadata": {
        "id": "HORIibnf4Ab4",
        "colab": {
          "base_uri": "https://localhost:8080/"
        },
        "outputId": "03137fce-ce1b-4222-c4e3-c261c0cd4aa4"
      },
      "source": [
        "score = 80\n",
        "grade = None\n",
        "\n",
        "if score > 90:\n",
        "    grade = \"A\"\n",
        "elif score >= 80:    \n",
        "    grade = \"B\"\n",
        "elif score > 70:    \n",
        "    grade = \"C\"\n",
        "elif score > 60:    \n",
        "    grade = \"D\"\n",
        "elif score > 50:    \n",
        "    grade = \"E\"\n",
        "else:\n",
        "    grade = \"F\"\n",
        "    \n",
        "print(\"Grade: \" + grade)"
      ],
      "execution_count": null,
      "outputs": [
        {
          "output_type": "stream",
          "name": "stdout",
          "text": [
            "Grade: B\n"
          ]
        }
      ]
    },
    {
      "cell_type": "markdown",
      "metadata": {
        "id": "6sa-3LQn4Ab8"
      },
      "source": [
        "<b>'for' syntax:</b>\n",
        "    \n",
        "    for ELEMENT in SEQUENCE:\n",
        "        code block"
      ]
    },
    {
      "cell_type": "code",
      "metadata": {
        "id": "mJa5Dtnt4Ab9",
        "colab": {
          "base_uri": "https://localhost:8080/"
        },
        "outputId": "3bf31071-3bd6-403a-c6d9-9ba252328a2a"
      },
      "source": [
        "my_team = [\"Ayush\", \"subash\", \"ashoke\", \"faziy\", \"prem\", \"ajay\"]\n",
        "\n",
        "for person in my_team:\n",
        "    mail = person + \"@gmail.com\"\n",
        "    print(mail)"
      ],
      "execution_count": null,
      "outputs": [
        {
          "output_type": "stream",
          "name": "stdout",
          "text": [
            "Ayush@gmail.com\n",
            "subash@gmail.com\n",
            "ashoke@gmail.com\n",
            "faziy@gmail.com\n",
            "prem@gmail.com\n",
            "ajay@gmail.com\n"
          ]
        }
      ]
    },
    {
      "cell_type": "code",
      "metadata": {
        "id": "OS4jPecz4AcA",
        "colab": {
          "base_uri": "https://localhost:8080/"
        },
        "outputId": "f2ba4660-73f0-4351-fa0d-8dd8df6c9fd8"
      },
      "source": [
        "for i in range(len(my_team)):\n",
        "    mail = my_team[i] + \"@gmail.com\"\n",
        "    print(mail)"
      ],
      "execution_count": null,
      "outputs": [
        {
          "output_type": "stream",
          "name": "stdout",
          "text": [
            "Ayush@gmail.com\n",
            "subash@gmail.com\n",
            "ashoke@gmail.com\n",
            "faziy@gmail.com\n",
            "prem@gmail.com\n",
            "ajay@gmail.com\n"
          ]
        }
      ]
    },
    {
      "cell_type": "markdown",
      "metadata": {
        "id": "QeNksfbF4AcF"
      },
      "source": [
        "<b>'while' syntax:</b>\n",
        "    \n",
        "    while CONDITION:\n",
        "        code block"
      ]
    },
    {
      "cell_type": "code",
      "metadata": {
        "id": "L6obCb3D4AcG",
        "colab": {
          "base_uri": "https://localhost:8080/"
        },
        "outputId": "78752b55-b2bd-4ad5-ec98-a845eef682a0"
      },
      "source": [
        "# Finding the factorial of number using while loop\n",
        "n = int(input(\"Enter a number: \"))\n",
        "n_factorial = 1\n",
        "x = 2\n",
        "\n",
        "while x <= n:\n",
        "    n_factorial = n_factorial * x\n",
        "    x = x+1\n",
        "    \n",
        "print(\"%d! = %d\" % (n, n_factorial))"
      ],
      "execution_count": null,
      "outputs": [
        {
          "output_type": "stream",
          "name": "stdout",
          "text": [
            "Enter a number: 5\n",
            "5! = 120\n"
          ]
        }
      ]
    },
    {
      "cell_type": "markdown",
      "metadata": {
        "id": "mG22HYcu4AcJ"
      },
      "source": [
        "## **5. Functions**\n",
        "* A function is a block of code that can be reused. \n",
        "* It is defined using the 'def' keyword in python."
      ]
    },
    {
      "cell_type": "markdown",
      "metadata": {
        "id": "Xoj8A6ES4AcK"
      },
      "source": [
        "<b>Function syntax:</b>\n",
        "\n",
        "    def function_name(parameters):\n",
        "        code...\n",
        "        return value"
      ]
    },
    {
      "cell_type": "code",
      "metadata": {
        "id": "pq2C_ono4AcL",
        "colab": {
          "base_uri": "https://localhost:8080/"
        },
        "outputId": "e0d49cd2-637a-4294-be16-5dd747a3ceb1"
      },
      "source": [
        "# Defining the function\n",
        "def area_of_square(length, breadth):\n",
        "    area = length*breadth\n",
        "    return area\n",
        "\n",
        "# Calling the function\n",
        "area_of_square(2, 3)"
      ],
      "execution_count": null,
      "outputs": [
        {
          "output_type": "execute_result",
          "data": {
            "text/plain": [
              "6"
            ]
          },
          "metadata": {},
          "execution_count": 94
        }
      ]
    },
    {
      "cell_type": "code",
      "metadata": {
        "id": "ygai5LLj4AcS",
        "colab": {
          "base_uri": "https://localhost:8080/"
        },
        "outputId": "5a877217-c72d-4ab0-e497-ce35b9515d6e"
      },
      "source": [
        "# Function with default arguments\n",
        "def greet(name=\"\"):\n",
        "    print(\"Hello \" + name)\n",
        "\n",
        "greet(\"Faizy\")\n",
        "greet()"
      ],
      "execution_count": null,
      "outputs": [
        {
          "output_type": "stream",
          "name": "stdout",
          "text": [
            "Hello Faizy\n",
            "Hello \n"
          ]
        }
      ]
    },
    {
      "cell_type": "code",
      "source": [
        "# Factorial using iterative - 1\n",
        "def fact_iterative(n):\n",
        "    f=1\n",
        "    for i in range(1, n+1):\n",
        "        f=f*i\n",
        "    return f\n",
        "\n",
        "x= 5 \n",
        "result=fact_iterative(x)\n",
        "print(result)"
      ],
      "metadata": {
        "colab": {
          "base_uri": "https://localhost:8080/"
        },
        "id": "CBVZeLaluAro",
        "outputId": "2e1ff350-2b2a-4261-b672-b922938fd2f7"
      },
      "execution_count": null,
      "outputs": [
        {
          "output_type": "stream",
          "name": "stdout",
          "text": [
            "120\n"
          ]
        }
      ]
    },
    {
      "cell_type": "code",
      "source": [
        "# Factorial using iterative - 2 \n",
        "def fact_iterative(n):\n",
        "    f=1\n",
        "    for i in range(n):\n",
        "        f=f*(i+1)\n",
        "    return f\n",
        "\n",
        "x= 5 \n",
        "result=fact_iterative(x)\n",
        "print(result)"
      ],
      "metadata": {
        "colab": {
          "base_uri": "https://localhost:8080/"
        },
        "id": "BeI-p6870LAb",
        "outputId": "5aca9d5d-29cb-4e8d-c203-916df1311caa"
      },
      "execution_count": null,
      "outputs": [
        {
          "output_type": "stream",
          "name": "stdout",
          "text": [
            "120\n"
          ]
        }
      ]
    },
    {
      "cell_type": "code",
      "source": [
        "# Factorial using Recursion\n",
        "def fact_recursive(n):\n",
        "    if n==0:\n",
        "        return 1 # factorial of 0!=1\n",
        "    else:\n",
        "        return n * fact_recursive(n-1)\n",
        "\n",
        "result=fact_recursive(5)\n",
        "print(result)"
      ],
      "metadata": {
        "colab": {
          "base_uri": "https://localhost:8080/"
        },
        "id": "AMuzMlhivvN2",
        "outputId": "e89b4838-90ca-4c99-8b14-cd8aa22fc183"
      },
      "execution_count": null,
      "outputs": [
        {
          "output_type": "stream",
          "name": "stdout",
          "text": [
            "120\n"
          ]
        }
      ]
    },
    {
      "cell_type": "markdown",
      "source": [
        "### $\\color{skyblue}{\\textbf{Connect with me:}}$\n",
        "\n",
        "\n",
        "[<img align=\"left\" src=\"https://cdn.jsdelivr.net/npm/simple-icons@v3/icons/twitter.svg\" width=\"32px\"/>][twitter]\n",
        "[<img align=\"left\" src=\"https://cdn.jsdelivr.net/npm/simple-icons@v3/icons/linkedin.svg\" width=\"32px\"/>][linkedin]\n",
        "[<img align=\"left\" src=\"https://raw.githubusercontent.com/iconic/open-iconic/master/svg/globe.svg\" width=\"32px\"/>][StackExchange AI]\n",
        "\n",
        "[twitter]: https://twitter.com/F4izy\n",
        "[linkedin]: https://www.linkedin.com/in/mohd-faizy/\n",
        "[StackExchange AI]: https://ai.stackexchange.com/users/36737/cypher\n",
        "\n",
        "\n",
        "---"
      ],
      "metadata": {
        "id": "eTVf-4ZSO3P4"
      }
    }
  ]
}